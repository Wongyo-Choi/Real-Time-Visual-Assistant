{
  "cells": [
    {
      "cell_type": "code",
      "execution_count": null,
      "metadata": {
        "colab": {
          "base_uri": "https://localhost:8080/"
        },
        "id": "cGX79iO52rys",
        "outputId": "b4a103a4-f153-47aa-e218-b64cf2f63af0"
      },
      "outputs": [
        {
          "output_type": "stream",
          "name": "stdout",
          "text": [
            "Requirement already satisfied: pycocotools in /usr/local/lib/python3.11/dist-packages (2.0.8)\n",
            "Requirement already satisfied: requests in /usr/local/lib/python3.11/dist-packages (2.32.3)\n",
            "Requirement already satisfied: albumentations in /usr/local/lib/python3.11/dist-packages (2.0.4)\n",
            "Collecting ultralytics\n",
            "  Downloading ultralytics-8.3.82-py3-none-any.whl.metadata (35 kB)\n",
            "Requirement already satisfied: matplotlib in /usr/local/lib/python3.11/dist-packages (3.10.0)\n",
            "Requirement already satisfied: pandas in /usr/local/lib/python3.11/dist-packages (2.2.2)\n",
            "Requirement already satisfied: numpy in /usr/local/lib/python3.11/dist-packages (from pycocotools) (1.26.4)\n",
            "Requirement already satisfied: charset-normalizer<4,>=2 in /usr/local/lib/python3.11/dist-packages (from requests) (3.4.1)\n",
            "Requirement already satisfied: idna<4,>=2.5 in /usr/local/lib/python3.11/dist-packages (from requests) (3.10)\n",
            "Requirement already satisfied: urllib3<3,>=1.21.1 in /usr/local/lib/python3.11/dist-packages (from requests) (2.3.0)\n",
            "Requirement already satisfied: certifi>=2017.4.17 in /usr/local/lib/python3.11/dist-packages (from requests) (2025.1.31)\n",
            "Requirement already satisfied: scipy>=1.10.0 in /usr/local/lib/python3.11/dist-packages (from albumentations) (1.13.1)\n",
            "Requirement already satisfied: PyYAML in /usr/local/lib/python3.11/dist-packages (from albumentations) (6.0.2)\n",
            "Requirement already satisfied: pydantic>=2.9.2 in /usr/local/lib/python3.11/dist-packages (from albumentations) (2.10.6)\n",
            "Requirement already satisfied: albucore==0.0.23 in /usr/local/lib/python3.11/dist-packages (from albumentations) (0.0.23)\n",
            "Requirement already satisfied: opencv-python-headless>=4.9.0.80 in /usr/local/lib/python3.11/dist-packages (from albumentations) (4.11.0.86)\n",
            "Requirement already satisfied: stringzilla>=3.10.4 in /usr/local/lib/python3.11/dist-packages (from albucore==0.0.23->albumentations) (3.12.1)\n",
            "Requirement already satisfied: simsimd>=5.9.2 in /usr/local/lib/python3.11/dist-packages (from albucore==0.0.23->albumentations) (6.2.1)\n",
            "Requirement already satisfied: opencv-python>=4.6.0 in /usr/local/lib/python3.11/dist-packages (from ultralytics) (4.11.0.86)\n",
            "Requirement already satisfied: pillow>=7.1.2 in /usr/local/lib/python3.11/dist-packages (from ultralytics) (11.1.0)\n",
            "Requirement already satisfied: torch>=1.8.0 in /usr/local/lib/python3.11/dist-packages (from ultralytics) (2.5.1+cu124)\n",
            "Requirement already satisfied: torchvision>=0.9.0 in /usr/local/lib/python3.11/dist-packages (from ultralytics) (0.20.1+cu124)\n",
            "Requirement already satisfied: tqdm>=4.64.0 in /usr/local/lib/python3.11/dist-packages (from ultralytics) (4.67.1)\n",
            "Requirement already satisfied: psutil in /usr/local/lib/python3.11/dist-packages (from ultralytics) (5.9.5)\n",
            "Requirement already satisfied: py-cpuinfo in /usr/local/lib/python3.11/dist-packages (from ultralytics) (9.0.0)\n",
            "Requirement already satisfied: seaborn>=0.11.0 in /usr/local/lib/python3.11/dist-packages (from ultralytics) (0.13.2)\n",
            "Collecting ultralytics-thop>=2.0.0 (from ultralytics)\n",
            "  Downloading ultralytics_thop-2.0.14-py3-none-any.whl.metadata (9.4 kB)\n",
            "Requirement already satisfied: contourpy>=1.0.1 in /usr/local/lib/python3.11/dist-packages (from matplotlib) (1.3.1)\n",
            "Requirement already satisfied: cycler>=0.10 in /usr/local/lib/python3.11/dist-packages (from matplotlib) (0.12.1)\n",
            "Requirement already satisfied: fonttools>=4.22.0 in /usr/local/lib/python3.11/dist-packages (from matplotlib) (4.56.0)\n",
            "Requirement already satisfied: kiwisolver>=1.3.1 in /usr/local/lib/python3.11/dist-packages (from matplotlib) (1.4.8)\n",
            "Requirement already satisfied: packaging>=20.0 in /usr/local/lib/python3.11/dist-packages (from matplotlib) (24.2)\n",
            "Requirement already satisfied: pyparsing>=2.3.1 in /usr/local/lib/python3.11/dist-packages (from matplotlib) (3.2.1)\n",
            "Requirement already satisfied: python-dateutil>=2.7 in /usr/local/lib/python3.11/dist-packages (from matplotlib) (2.8.2)\n",
            "Requirement already satisfied: pytz>=2020.1 in /usr/local/lib/python3.11/dist-packages (from pandas) (2025.1)\n",
            "Requirement already satisfied: tzdata>=2022.7 in /usr/local/lib/python3.11/dist-packages (from pandas) (2025.1)\n",
            "Requirement already satisfied: annotated-types>=0.6.0 in /usr/local/lib/python3.11/dist-packages (from pydantic>=2.9.2->albumentations) (0.7.0)\n",
            "Requirement already satisfied: pydantic-core==2.27.2 in /usr/local/lib/python3.11/dist-packages (from pydantic>=2.9.2->albumentations) (2.27.2)\n",
            "Requirement already satisfied: typing-extensions>=4.12.2 in /usr/local/lib/python3.11/dist-packages (from pydantic>=2.9.2->albumentations) (4.12.2)\n",
            "Requirement already satisfied: six>=1.5 in /usr/local/lib/python3.11/dist-packages (from python-dateutil>=2.7->matplotlib) (1.17.0)\n",
            "Requirement already satisfied: filelock in /usr/local/lib/python3.11/dist-packages (from torch>=1.8.0->ultralytics) (3.17.0)\n",
            "Requirement already satisfied: networkx in /usr/local/lib/python3.11/dist-packages (from torch>=1.8.0->ultralytics) (3.4.2)\n",
            "Requirement already satisfied: jinja2 in /usr/local/lib/python3.11/dist-packages (from torch>=1.8.0->ultralytics) (3.1.5)\n",
            "Requirement already satisfied: fsspec in /usr/local/lib/python3.11/dist-packages (from torch>=1.8.0->ultralytics) (2024.10.0)\n",
            "Collecting nvidia-cuda-nvrtc-cu12==12.4.127 (from torch>=1.8.0->ultralytics)\n",
            "  Downloading nvidia_cuda_nvrtc_cu12-12.4.127-py3-none-manylinux2014_x86_64.whl.metadata (1.5 kB)\n",
            "Collecting nvidia-cuda-runtime-cu12==12.4.127 (from torch>=1.8.0->ultralytics)\n",
            "  Downloading nvidia_cuda_runtime_cu12-12.4.127-py3-none-manylinux2014_x86_64.whl.metadata (1.5 kB)\n",
            "Collecting nvidia-cuda-cupti-cu12==12.4.127 (from torch>=1.8.0->ultralytics)\n",
            "  Downloading nvidia_cuda_cupti_cu12-12.4.127-py3-none-manylinux2014_x86_64.whl.metadata (1.6 kB)\n",
            "Collecting nvidia-cudnn-cu12==9.1.0.70 (from torch>=1.8.0->ultralytics)\n",
            "  Downloading nvidia_cudnn_cu12-9.1.0.70-py3-none-manylinux2014_x86_64.whl.metadata (1.6 kB)\n",
            "Collecting nvidia-cublas-cu12==12.4.5.8 (from torch>=1.8.0->ultralytics)\n",
            "  Downloading nvidia_cublas_cu12-12.4.5.8-py3-none-manylinux2014_x86_64.whl.metadata (1.5 kB)\n",
            "Collecting nvidia-cufft-cu12==11.2.1.3 (from torch>=1.8.0->ultralytics)\n",
            "  Downloading nvidia_cufft_cu12-11.2.1.3-py3-none-manylinux2014_x86_64.whl.metadata (1.5 kB)\n",
            "Collecting nvidia-curand-cu12==10.3.5.147 (from torch>=1.8.0->ultralytics)\n",
            "  Downloading nvidia_curand_cu12-10.3.5.147-py3-none-manylinux2014_x86_64.whl.metadata (1.5 kB)\n",
            "Collecting nvidia-cusolver-cu12==11.6.1.9 (from torch>=1.8.0->ultralytics)\n",
            "  Downloading nvidia_cusolver_cu12-11.6.1.9-py3-none-manylinux2014_x86_64.whl.metadata (1.6 kB)\n",
            "Collecting nvidia-cusparse-cu12==12.3.1.170 (from torch>=1.8.0->ultralytics)\n",
            "  Downloading nvidia_cusparse_cu12-12.3.1.170-py3-none-manylinux2014_x86_64.whl.metadata (1.6 kB)\n",
            "Requirement already satisfied: nvidia-nccl-cu12==2.21.5 in /usr/local/lib/python3.11/dist-packages (from torch>=1.8.0->ultralytics) (2.21.5)\n",
            "Requirement already satisfied: nvidia-nvtx-cu12==12.4.127 in /usr/local/lib/python3.11/dist-packages (from torch>=1.8.0->ultralytics) (12.4.127)\n",
            "Collecting nvidia-nvjitlink-cu12==12.4.127 (from torch>=1.8.0->ultralytics)\n",
            "  Downloading nvidia_nvjitlink_cu12-12.4.127-py3-none-manylinux2014_x86_64.whl.metadata (1.5 kB)\n",
            "Requirement already satisfied: triton==3.1.0 in /usr/local/lib/python3.11/dist-packages (from torch>=1.8.0->ultralytics) (3.1.0)\n",
            "Requirement already satisfied: sympy==1.13.1 in /usr/local/lib/python3.11/dist-packages (from torch>=1.8.0->ultralytics) (1.13.1)\n",
            "Requirement already satisfied: mpmath<1.4,>=1.1.0 in /usr/local/lib/python3.11/dist-packages (from sympy==1.13.1->torch>=1.8.0->ultralytics) (1.3.0)\n",
            "Requirement already satisfied: MarkupSafe>=2.0 in /usr/local/lib/python3.11/dist-packages (from jinja2->torch>=1.8.0->ultralytics) (3.0.2)\n",
            "Downloading ultralytics-8.3.82-py3-none-any.whl (922 kB)\n",
            "\u001b[2K   \u001b[90m━━━━━━━━━━━━━━━━━━━━━━━━━━━━━━━━━━━━━━━━\u001b[0m \u001b[32m922.2/922.2 kB\u001b[0m \u001b[31m24.5 MB/s\u001b[0m eta \u001b[36m0:00:00\u001b[0m\n",
            "\u001b[?25hDownloading nvidia_cublas_cu12-12.4.5.8-py3-none-manylinux2014_x86_64.whl (363.4 MB)\n",
            "\u001b[2K   \u001b[90m━━━━━━━━━━━━━━━━━━━━━━━━━━━━━━━━━━━━━━━━\u001b[0m \u001b[32m363.4/363.4 MB\u001b[0m \u001b[31m2.5 MB/s\u001b[0m eta \u001b[36m0:00:00\u001b[0m\n",
            "\u001b[?25hDownloading nvidia_cuda_cupti_cu12-12.4.127-py3-none-manylinux2014_x86_64.whl (13.8 MB)\n",
            "\u001b[2K   \u001b[90m━━━━━━━━━━━━━━━━━━━━━━━━━━━━━━━━━━━━━━━━\u001b[0m \u001b[32m13.8/13.8 MB\u001b[0m \u001b[31m111.5 MB/s\u001b[0m eta \u001b[36m0:00:00\u001b[0m\n",
            "\u001b[?25hDownloading nvidia_cuda_nvrtc_cu12-12.4.127-py3-none-manylinux2014_x86_64.whl (24.6 MB)\n",
            "\u001b[2K   \u001b[90m━━━━━━━━━━━━━━━━━━━━━━━━━━━━━━━━━━━━━━━━\u001b[0m \u001b[32m24.6/24.6 MB\u001b[0m \u001b[31m85.7 MB/s\u001b[0m eta \u001b[36m0:00:00\u001b[0m\n",
            "\u001b[?25hDownloading nvidia_cuda_runtime_cu12-12.4.127-py3-none-manylinux2014_x86_64.whl (883 kB)\n",
            "\u001b[2K   \u001b[90m━━━━━━━━━━━━━━━━━━━━━━━━━━━━━━━━━━━━━━━━\u001b[0m \u001b[32m883.7/883.7 kB\u001b[0m \u001b[31m54.1 MB/s\u001b[0m eta \u001b[36m0:00:00\u001b[0m\n",
            "\u001b[?25hDownloading nvidia_cudnn_cu12-9.1.0.70-py3-none-manylinux2014_x86_64.whl (664.8 MB)\n",
            "\u001b[2K   \u001b[90m━━━━━━━━━━━━━━━━━━━━━━━━━━━━━━━━━━━━━━━━\u001b[0m \u001b[32m664.8/664.8 MB\u001b[0m \u001b[31m1.5 MB/s\u001b[0m eta \u001b[36m0:00:00\u001b[0m\n",
            "\u001b[?25hDownloading nvidia_cufft_cu12-11.2.1.3-py3-none-manylinux2014_x86_64.whl (211.5 MB)\n",
            "\u001b[2K   \u001b[90m━━━━━━━━━━━━━━━━━━━━━━━━━━━━━━━━━━━━━━━━\u001b[0m \u001b[32m211.5/211.5 MB\u001b[0m \u001b[31m3.1 MB/s\u001b[0m eta \u001b[36m0:00:00\u001b[0m\n",
            "\u001b[?25hDownloading nvidia_curand_cu12-10.3.5.147-py3-none-manylinux2014_x86_64.whl (56.3 MB)\n",
            "\u001b[2K   \u001b[90m━━━━━━━━━━━━━━━━━━━━━━━━━━━━━━━━━━━━━━━━\u001b[0m \u001b[32m56.3/56.3 MB\u001b[0m \u001b[31m37.0 MB/s\u001b[0m eta \u001b[36m0:00:00\u001b[0m\n",
            "\u001b[?25hDownloading nvidia_cusolver_cu12-11.6.1.9-py3-none-manylinux2014_x86_64.whl (127.9 MB)\n",
            "\u001b[2K   \u001b[90m━━━━━━━━━━━━━━━━━━━━━━━━━━━━━━━━━━━━━━━━\u001b[0m \u001b[32m127.9/127.9 MB\u001b[0m \u001b[31m16.7 MB/s\u001b[0m eta \u001b[36m0:00:00\u001b[0m\n",
            "\u001b[?25hDownloading nvidia_cusparse_cu12-12.3.1.170-py3-none-manylinux2014_x86_64.whl (207.5 MB)\n",
            "\u001b[2K   \u001b[90m━━━━━━━━━━━━━━━━━━━━━━━━━━━━━━━━━━━━━━━━\u001b[0m \u001b[32m207.5/207.5 MB\u001b[0m \u001b[31m4.2 MB/s\u001b[0m eta \u001b[36m0:00:00\u001b[0m\n",
            "\u001b[?25hDownloading nvidia_nvjitlink_cu12-12.4.127-py3-none-manylinux2014_x86_64.whl (21.1 MB)\n",
            "\u001b[2K   \u001b[90m━━━━━━━━━━━━━━━━━━━━━━━━━━━━━━━━━━━━━━━━\u001b[0m \u001b[32m21.1/21.1 MB\u001b[0m \u001b[31m82.2 MB/s\u001b[0m eta \u001b[36m0:00:00\u001b[0m\n",
            "\u001b[?25hDownloading ultralytics_thop-2.0.14-py3-none-any.whl (26 kB)\n",
            "Installing collected packages: nvidia-nvjitlink-cu12, nvidia-curand-cu12, nvidia-cufft-cu12, nvidia-cuda-runtime-cu12, nvidia-cuda-nvrtc-cu12, nvidia-cuda-cupti-cu12, nvidia-cublas-cu12, nvidia-cusparse-cu12, nvidia-cudnn-cu12, nvidia-cusolver-cu12, ultralytics-thop, ultralytics\n",
            "  Attempting uninstall: nvidia-nvjitlink-cu12\n",
            "    Found existing installation: nvidia-nvjitlink-cu12 12.5.82\n",
            "    Uninstalling nvidia-nvjitlink-cu12-12.5.82:\n",
            "      Successfully uninstalled nvidia-nvjitlink-cu12-12.5.82\n",
            "  Attempting uninstall: nvidia-curand-cu12\n",
            "    Found existing installation: nvidia-curand-cu12 10.3.6.82\n",
            "    Uninstalling nvidia-curand-cu12-10.3.6.82:\n",
            "      Successfully uninstalled nvidia-curand-cu12-10.3.6.82\n",
            "  Attempting uninstall: nvidia-cufft-cu12\n",
            "    Found existing installation: nvidia-cufft-cu12 11.2.3.61\n",
            "    Uninstalling nvidia-cufft-cu12-11.2.3.61:\n",
            "      Successfully uninstalled nvidia-cufft-cu12-11.2.3.61\n",
            "  Attempting uninstall: nvidia-cuda-runtime-cu12\n",
            "    Found existing installation: nvidia-cuda-runtime-cu12 12.5.82\n",
            "    Uninstalling nvidia-cuda-runtime-cu12-12.5.82:\n",
            "      Successfully uninstalled nvidia-cuda-runtime-cu12-12.5.82\n",
            "  Attempting uninstall: nvidia-cuda-nvrtc-cu12\n",
            "    Found existing installation: nvidia-cuda-nvrtc-cu12 12.5.82\n",
            "    Uninstalling nvidia-cuda-nvrtc-cu12-12.5.82:\n",
            "      Successfully uninstalled nvidia-cuda-nvrtc-cu12-12.5.82\n",
            "  Attempting uninstall: nvidia-cuda-cupti-cu12\n",
            "    Found existing installation: nvidia-cuda-cupti-cu12 12.5.82\n",
            "    Uninstalling nvidia-cuda-cupti-cu12-12.5.82:\n",
            "      Successfully uninstalled nvidia-cuda-cupti-cu12-12.5.82\n",
            "  Attempting uninstall: nvidia-cublas-cu12\n",
            "    Found existing installation: nvidia-cublas-cu12 12.5.3.2\n",
            "    Uninstalling nvidia-cublas-cu12-12.5.3.2:\n",
            "      Successfully uninstalled nvidia-cublas-cu12-12.5.3.2\n",
            "  Attempting uninstall: nvidia-cusparse-cu12\n",
            "    Found existing installation: nvidia-cusparse-cu12 12.5.1.3\n",
            "    Uninstalling nvidia-cusparse-cu12-12.5.1.3:\n",
            "      Successfully uninstalled nvidia-cusparse-cu12-12.5.1.3\n",
            "  Attempting uninstall: nvidia-cudnn-cu12\n",
            "    Found existing installation: nvidia-cudnn-cu12 9.3.0.75\n",
            "    Uninstalling nvidia-cudnn-cu12-9.3.0.75:\n",
            "      Successfully uninstalled nvidia-cudnn-cu12-9.3.0.75\n",
            "  Attempting uninstall: nvidia-cusolver-cu12\n",
            "    Found existing installation: nvidia-cusolver-cu12 11.6.3.83\n",
            "    Uninstalling nvidia-cusolver-cu12-11.6.3.83:\n",
            "      Successfully uninstalled nvidia-cusolver-cu12-11.6.3.83\n",
            "Successfully installed nvidia-cublas-cu12-12.4.5.8 nvidia-cuda-cupti-cu12-12.4.127 nvidia-cuda-nvrtc-cu12-12.4.127 nvidia-cuda-runtime-cu12-12.4.127 nvidia-cudnn-cu12-9.1.0.70 nvidia-cufft-cu12-11.2.1.3 nvidia-curand-cu12-10.3.5.147 nvidia-cusolver-cu12-11.6.1.9 nvidia-cusparse-cu12-12.3.1.170 nvidia-nvjitlink-cu12-12.4.127 ultralytics-8.3.82 ultralytics-thop-2.0.14\n",
            "Requirement already satisfied: tqdm in /usr/local/lib/python3.11/dist-packages (4.67.1)\n"
          ]
        }
      ],
      "source": [
        "# 1. Install required libraries\n",
        "\n",
        "!pip install pycocotools requests albumentations ultralytics matplotlib pandas\n",
        "\n",
        "!pip install tqdm"
      ]
    },
    {
      "cell_type": "code",
      "execution_count": null,
      "metadata": {
        "colab": {
          "base_uri": "https://localhost:8080/"
        },
        "id": "FPV3P2nF2-Vp",
        "outputId": "e6e20eaa-c09f-4f00-f59d-2fcaae369c33"
      },
      "outputs": [
        {
          "output_type": "stream",
          "name": "stderr",
          "text": [
            "/usr/local/lib/python3.11/dist-packages/albumentations/__init__.py:28: UserWarning: A new version of Albumentations is available: '2.0.5' (you have '2.0.4'). Upgrade using: pip install -U albumentations. To disable automatic update checks, set the environment variable NO_ALBUMENTATIONS_UPDATE to 1.\n",
            "  check_for_updates()\n"
          ]
        },
        {
          "output_type": "stream",
          "name": "stdout",
          "text": [
            "Creating new Ultralytics Settings v0.0.6 file ✅ \n",
            "View Ultralytics Settings with 'yolo settings' or at '/root/.config/Ultralytics/settings.json'\n",
            "Update Settings with 'yolo settings key=value', i.e. 'yolo settings runs_dir=path/to/dir'. For help see https://docs.ultralytics.com/quickstart/#ultralytics-settings.\n",
            "True\n",
            "1\n",
            "NVIDIA L4\n"
          ]
        }
      ],
      "source": [
        "# 2. Import required libraries\n",
        "\n",
        "import os\n",
        "import zipfile\n",
        "import requests\n",
        "import shutil\n",
        "import albumentations as A\n",
        "import cv2\n",
        "import glob\n",
        "import yaml\n",
        "import pandas as pd\n",
        "import matplotlib.pyplot as plt\n",
        "import random\n",
        "\n",
        "\n",
        "from tqdm import tqdm\n",
        "from pycocotools.coco import COCO\n",
        "from ultralytics import YOLO\n",
        "from concurrent.futures import ThreadPoolExecutor, as_completed\n",
        "from albumentations.pytorch import ToTensorV2\n",
        "\n",
        "import torch\n",
        "\n",
        "print(torch.cuda.is_available())\n",
        "print(torch.cuda.device_count())\n",
        "print(torch.cuda.get_device_name(0))"
      ]
    },
    {
      "cell_type": "code",
      "execution_count": null,
      "metadata": {
        "id": "pg5ijd4N288u"
      },
      "outputs": [],
      "source": [
        "# 3. Set up the main data directory\n",
        "\n",
        "dataset_dir = '/content/custom_dataset'\n",
        "\n",
        "# Ensure that the directory exists before downloading the dataset\n",
        "os.makedirs(dataset_dir, exist_ok=True)"
      ]
    },
    {
      "cell_type": "code",
      "execution_count": null,
      "metadata": {
        "colab": {
          "base_uri": "https://localhost:8080/"
        },
        "id": "IDcbOW5e28PW",
        "outputId": "8df45557-201f-40ba-ce13-17f3a42656be"
      },
      "outputs": [
        {
          "output_type": "stream",
          "name": "stdout",
          "text": [
            "Downloading custom dataset...\n",
            "Download complete.\n",
            "Extracting custom dataset...\n",
            "Extraction complete.\n",
            "Deleted image and label: /content/custom_dataset/train/images/Tlight-748-_png_jpg.rf.b4fd134591721dbf23f5eff0aa2b73b1.jpg, /content/custom_dataset/train/labels/Tlight-748-_png_jpg.rf.b4fd134591721dbf23f5eff0aa2b73b1.txt\n",
            "Deleted image and label: /content/custom_dataset/train/images/Tlight-797-_png_jpg.rf.0dc0df06c38a4b43d7721a7faf1c1a2d.jpg, /content/custom_dataset/train/labels/Tlight-797-_png_jpg.rf.0dc0df06c38a4b43d7721a7faf1c1a2d.txt\n",
            "Deleted image and label: /content/custom_dataset/train/images/tflight_001659_jpg.rf.4afb57a7c10c6f495773164e3dc677cf.jpg, /content/custom_dataset/train/labels/tflight_001659_jpg.rf.4afb57a7c10c6f495773164e3dc677cf.txt\n",
            "Deleted image and label: /content/custom_dataset/train/images/Tlight-670-_png_jpg.rf.e5eafb96b9acfce531ee5c9f29ef02c5.jpg, /content/custom_dataset/train/labels/Tlight-670-_png_jpg.rf.e5eafb96b9acfce531ee5c9f29ef02c5.txt\n",
            "Deleted image and label: /content/custom_dataset/train/images/Tlight-54-_png_jpg.rf.fd48d1eec201a4f6fda0ab9efe785a88.jpg, /content/custom_dataset/train/labels/Tlight-54-_png_jpg.rf.fd48d1eec201a4f6fda0ab9efe785a88.txt\n",
            "Deleted image and label: /content/custom_dataset/train/images/tflight_001571_jpg.rf.5621626b7b04b6880b26cdf778858cd1.jpg, /content/custom_dataset/train/labels/tflight_001571_jpg.rf.5621626b7b04b6880b26cdf778858cd1.txt\n",
            "Deleted image and label: /content/custom_dataset/train/images/traffic-light-662-_jpg.rf.a27ba4ed8f47dbaaa785ad9e4a8f2927.jpg, /content/custom_dataset/train/labels/traffic-light-662-_jpg.rf.a27ba4ed8f47dbaaa785ad9e4a8f2927.txt\n",
            "Deleted image and label: /content/custom_dataset/train/images/tflight_001660_jpg.rf.e66825968eb499699c92dd280959b0fb.jpg, /content/custom_dataset/train/labels/tflight_001660_jpg.rf.e66825968eb499699c92dd280959b0fb.txt\n",
            "Deleted image and label: /content/custom_dataset/train/images/tflight_001605_jpg.rf.2b1b8c66dea42e56d3618b018b6fb25e.jpg, /content/custom_dataset/train/labels/tflight_001605_jpg.rf.2b1b8c66dea42e56d3618b018b6fb25e.txt\n",
            "Deleted image and label: /content/custom_dataset/train/images/Tlight-581-_png_jpg.rf.5bad14eb7b8dd4f9eef6beaf2bb75e94.jpg, /content/custom_dataset/train/labels/Tlight-581-_png_jpg.rf.5bad14eb7b8dd4f9eef6beaf2bb75e94.txt\n",
            "Deleted image and label: /content/custom_dataset/train/images/traffic-light-630-_jpg.rf.0b1ea6d819da367aa72d5bcfe7b5560b.jpg, /content/custom_dataset/train/labels/traffic-light-630-_jpg.rf.0b1ea6d819da367aa72d5bcfe7b5560b.txt\n",
            "Deleted image and label: /content/custom_dataset/train/images/tflight_001560_jpg.rf.f22f321bbad1c1d25ad3e4a2654af153.jpg, /content/custom_dataset/train/labels/tflight_001560_jpg.rf.f22f321bbad1c1d25ad3e4a2654af153.txt\n",
            "Deleted image and label: /content/custom_dataset/train/images/traffic-light-759-_jpg.rf.63b7a387ac01633a8a724f48f7719062.jpg, /content/custom_dataset/train/labels/traffic-light-759-_jpg.rf.63b7a387ac01633a8a724f48f7719062.txt\n",
            "Deleted image and label: /content/custom_dataset/train/images/Tlight-665-_png_jpg.rf.20f50f9a89b0753fdc9129aae860d88b.jpg, /content/custom_dataset/train/labels/Tlight-665-_png_jpg.rf.20f50f9a89b0753fdc9129aae860d88b.txt\n",
            "Deleted image and label: /content/custom_dataset/train/images/Tlight-775-_png_jpg.rf.0f29eae51d8d4fcfb009479615a9d85d.jpg, /content/custom_dataset/train/labels/Tlight-775-_png_jpg.rf.0f29eae51d8d4fcfb009479615a9d85d.txt\n",
            "Deleted image and label: /content/custom_dataset/train/images/tflight_001578_jpg.rf.04f3aeecfb9aaa9ffb591bd00195cd40.jpg, /content/custom_dataset/train/labels/tflight_001578_jpg.rf.04f3aeecfb9aaa9ffb591bd00195cd40.txt\n",
            "Deleted image and label: /content/custom_dataset/train/images/Tlight-634-_png_jpg.rf.8ae081576f365de0831635b71a47679e.jpg, /content/custom_dataset/train/labels/Tlight-634-_png_jpg.rf.8ae081576f365de0831635b71a47679e.txt\n",
            "Deleted image and label: /content/custom_dataset/train/images/traffic-light-646-_jpg.rf.cdecfce919ee22c177a30c74f0897087.jpg, /content/custom_dataset/train/labels/traffic-light-646-_jpg.rf.cdecfce919ee22c177a30c74f0897087.txt\n",
            "Deleted image and label: /content/custom_dataset/train/images/traffic-light-488-_jpg.rf.4fdc44f19a2dc80de26fcb7d0a478c38.jpg, /content/custom_dataset/train/labels/traffic-light-488-_jpg.rf.4fdc44f19a2dc80de26fcb7d0a478c38.txt\n",
            "Deleted image and label: /content/custom_dataset/train/images/tflight_001574_jpg.rf.a86dee6f8930f8a36e1b9760bef20a82.jpg, /content/custom_dataset/train/labels/tflight_001574_jpg.rf.a86dee6f8930f8a36e1b9760bef20a82.txt\n",
            "Deleted image and label: /content/custom_dataset/train/images/Tlight-554-_png_jpg.rf.0c51cfdee588f90e66539530413807e5.jpg, /content/custom_dataset/train/labels/Tlight-554-_png_jpg.rf.0c51cfdee588f90e66539530413807e5.txt\n",
            "Deleted image and label: /content/custom_dataset/train/images/Tlight-682-_png_jpg.rf.85cef6608366be151203ebaff1b1c0c3.jpg, /content/custom_dataset/train/labels/Tlight-682-_png_jpg.rf.85cef6608366be151203ebaff1b1c0c3.txt\n",
            "Deleted image and label: /content/custom_dataset/train/images/Tlight-557-_png_jpg.rf.23aec7f077026060e45188e1bc5383d4.jpg, /content/custom_dataset/train/labels/Tlight-557-_png_jpg.rf.23aec7f077026060e45188e1bc5383d4.txt\n",
            "Deleted image and label: /content/custom_dataset/train/images/traffic-light-783-_jpg.rf.54c815898a579638394fe9f357e9d612.jpg, /content/custom_dataset/train/labels/traffic-light-783-_jpg.rf.54c815898a579638394fe9f357e9d612.txt\n",
            "Deleted image and label: /content/custom_dataset/train/images/Tlight-588-_png_jpg.rf.4c2d45d2ab95f636710ffe906ac79281.jpg, /content/custom_dataset/train/labels/Tlight-588-_png_jpg.rf.4c2d45d2ab95f636710ffe906ac79281.txt\n",
            "Deleted image and label: /content/custom_dataset/train/images/Tlight-703-_png_jpg.rf.2b21211b9e21f1700ad8c655ea4872ca.jpg, /content/custom_dataset/train/labels/Tlight-703-_png_jpg.rf.2b21211b9e21f1700ad8c655ea4872ca.txt\n",
            "Deleted image and label: /content/custom_dataset/train/images/traffic-light-458-_jpg.rf.b7e542dad2182377dd40bebdeb2d59b9.jpg, /content/custom_dataset/train/labels/traffic-light-458-_jpg.rf.b7e542dad2182377dd40bebdeb2d59b9.txt\n",
            "Deleted image and label: /content/custom_dataset/train/images/images-23-_jpg.rf.b3de934af4361f6bf037aa9293d0cabd.jpg, /content/custom_dataset/train/labels/images-23-_jpg.rf.b3de934af4361f6bf037aa9293d0cabd.txt\n",
            "Deleted image and label: /content/custom_dataset/train/images/traffic-light-900-_jpg.rf.661b858b9735a60fe2bc943f2b8e210a.jpg, /content/custom_dataset/train/labels/traffic-light-900-_jpg.rf.661b858b9735a60fe2bc943f2b8e210a.txt\n",
            "Deleted image and label: /content/custom_dataset/train/images/tflight_001597_jpg.rf.2aace6c69a00b23f69f2d4961c412cd0.jpg, /content/custom_dataset/train/labels/tflight_001597_jpg.rf.2aace6c69a00b23f69f2d4961c412cd0.txt\n",
            "Deleted image and label: /content/custom_dataset/train/images/Tlight-645-_png_jpg.rf.d98b91828b79182418edfc86a23c73db.jpg, /content/custom_dataset/train/labels/Tlight-645-_png_jpg.rf.d98b91828b79182418edfc86a23c73db.txt\n",
            "Deleted image and label: /content/custom_dataset/train/images/traffic-light-860-_jpg.rf.3543b5a6cc657758da93e31f1f151981.jpg, /content/custom_dataset/train/labels/traffic-light-860-_jpg.rf.3543b5a6cc657758da93e31f1f151981.txt\n",
            "Deleted image and label: /content/custom_dataset/train/images/Tlight-576-_png_jpg.rf.bf02e9bede4b589ae88421a65579c565.jpg, /content/custom_dataset/train/labels/Tlight-576-_png_jpg.rf.bf02e9bede4b589ae88421a65579c565.txt\n",
            "Deleted image and label: /content/custom_dataset/train/images/Tlight-593-_png_jpg.rf.52bcf4976569b0ef070b9c26ef3364be.jpg, /content/custom_dataset/train/labels/Tlight-593-_png_jpg.rf.52bcf4976569b0ef070b9c26ef3364be.txt\n",
            "Deleted image and label: /content/custom_dataset/train/images/Tlight-85-_png_jpg.rf.a25cc7ebf63918695da8ad366bf838ca.jpg, /content/custom_dataset/train/labels/Tlight-85-_png_jpg.rf.a25cc7ebf63918695da8ad366bf838ca.txt\n",
            "Deleted image and label: /content/custom_dataset/train/images/Tlight-791-_png_jpg.rf.fc082aaeefb8c38b122b076fcb515f56.jpg, /content/custom_dataset/train/labels/Tlight-791-_png_jpg.rf.fc082aaeefb8c38b122b076fcb515f56.txt\n",
            "Deleted image and label: /content/custom_dataset/train/images/Tlight-734-_png_jpg.rf.93e035b3984f7a5c0d2a3f1570d9e7e8.jpg, /content/custom_dataset/train/labels/Tlight-734-_png_jpg.rf.93e035b3984f7a5c0d2a3f1570d9e7e8.txt\n",
            "Deleted image and label: /content/custom_dataset/train/images/tflight_001535_jpg.rf.f5c7432daa2cea9d89345e9363b3665b.jpg, /content/custom_dataset/train/labels/tflight_001535_jpg.rf.f5c7432daa2cea9d89345e9363b3665b.txt\n",
            "Deleted image and label: /content/custom_dataset/train/images/Tlight-602-_png_jpg.rf.35d74a6c7610b66450c8c29442084386.jpg, /content/custom_dataset/train/labels/Tlight-602-_png_jpg.rf.35d74a6c7610b66450c8c29442084386.txt\n",
            "Deleted image and label: /content/custom_dataset/train/images/traffic-light-500-_jpg.rf.a88e4db2e3610637d66b6e64e3567e54.jpg, /content/custom_dataset/train/labels/traffic-light-500-_jpg.rf.a88e4db2e3610637d66b6e64e3567e54.txt\n",
            "Deleted image and label: /content/custom_dataset/train/images/traffic-cones-barriers-temporary-traffic-lights-at-road-works-in-seer-BHJ3TH_jpg.rf.230247a0636172c384a5fe02c01e4310.jpg, /content/custom_dataset/train/labels/traffic-cones-barriers-temporary-traffic-lights-at-road-works-in-seer-BHJ3TH_jpg.rf.230247a0636172c384a5fe02c01e4310.txt\n",
            "Deleted image and label: /content/custom_dataset/train/images/traffic-light-576-_jpg.rf.e70bcb250738bae13f1496ec854c33cf.jpg, /content/custom_dataset/train/labels/traffic-light-576-_jpg.rf.e70bcb250738bae13f1496ec854c33cf.txt\n",
            "Deleted image and label: /content/custom_dataset/train/images/Tlight-553-_png_jpg.rf.ee4dedaf594278a04deb8bd0a2c10280.jpg, /content/custom_dataset/train/labels/Tlight-553-_png_jpg.rf.ee4dedaf594278a04deb8bd0a2c10280.txt\n",
            "Deleted image and label: /content/custom_dataset/train/images/traffic-light-841-_jpg.rf.f59aacb78a649e37ec2aa1d3a3b3683b.jpg, /content/custom_dataset/train/labels/traffic-light-841-_jpg.rf.f59aacb78a649e37ec2aa1d3a3b3683b.txt\n",
            "Deleted image and label: /content/custom_dataset/train/images/Tlight-793-_png_jpg.rf.2ed1634f3af319815cc1ea63496454b7.jpg, /content/custom_dataset/train/labels/Tlight-793-_png_jpg.rf.2ed1634f3af319815cc1ea63496454b7.txt\n",
            "Deleted image and label: /content/custom_dataset/train/images/traffic-light-757-_jpg.rf.b3d65f74836d7b6b1ce9b507ddced771.jpg, /content/custom_dataset/train/labels/traffic-light-757-_jpg.rf.b3d65f74836d7b6b1ce9b507ddced771.txt\n",
            "Deleted image and label: /content/custom_dataset/train/images/traffic-light-912-_jpg.rf.bcb442b3ebadbb43656f725b32299607.jpg, /content/custom_dataset/train/labels/traffic-light-912-_jpg.rf.bcb442b3ebadbb43656f725b32299607.txt\n",
            "Deleted image and label: /content/custom_dataset/train/images/Tlight-674-_png_jpg.rf.86937e41f06cb5b6bb7238f592a7806e.jpg, /content/custom_dataset/train/labels/Tlight-674-_png_jpg.rf.86937e41f06cb5b6bb7238f592a7806e.txt\n",
            "Deleted image and label: /content/custom_dataset/train/images/Tlight-96-_png_jpg.rf.e2c007156e6bad82cc320ea9c8c131c4.jpg, /content/custom_dataset/train/labels/Tlight-96-_png_jpg.rf.e2c007156e6bad82cc320ea9c8c131c4.txt\n",
            "Deleted image and label: /content/custom_dataset/train/images/Tlight-744-_png_jpg.rf.75f5d968b302cdd72b2ee2436bb190f5.jpg, /content/custom_dataset/train/labels/Tlight-744-_png_jpg.rf.75f5d968b302cdd72b2ee2436bb190f5.txt\n",
            "Deleted image and label: /content/custom_dataset/train/images/traffic-light-858-_jpg.rf.b848a58259de9ff3350e855ca8a3dc8d.jpg, /content/custom_dataset/train/labels/traffic-light-858-_jpg.rf.b848a58259de9ff3350e855ca8a3dc8d.txt\n",
            "Deleted image and label: /content/custom_dataset/train/images/Tlight-540-_png_jpg.rf.3b16c74c44fe9aa0bdc783a1445fba86.jpg, /content/custom_dataset/train/labels/Tlight-540-_png_jpg.rf.3b16c74c44fe9aa0bdc783a1445fba86.txt\n",
            "Deleted image and label: /content/custom_dataset/train/images/Tlight-577-_png_jpg.rf.7d4ddbe14ad4bbc3169b3de8b23f5e16.jpg, /content/custom_dataset/train/labels/Tlight-577-_png_jpg.rf.7d4ddbe14ad4bbc3169b3de8b23f5e16.txt\n",
            "Deleted image and label: /content/custom_dataset/train/images/traffic-light-55-_jpg.rf.ee6a04252ea30ecc450f7e43131bb80a.jpg, /content/custom_dataset/train/labels/traffic-light-55-_jpg.rf.ee6a04252ea30ecc450f7e43131bb80a.txt\n",
            "Deleted image and label: /content/custom_dataset/train/images/traffic-light-755-_jpg.rf.da496864f4abd7c4ede1ac9596f56d19.jpg, /content/custom_dataset/train/labels/traffic-light-755-_jpg.rf.da496864f4abd7c4ede1ac9596f56d19.txt\n",
            "Deleted image and label: /content/custom_dataset/train/images/traffic-light-5-_jpg.rf.7b2b08f17f87e481d4e4b9f41fc7167b.jpg, /content/custom_dataset/train/labels/traffic-light-5-_jpg.rf.7b2b08f17f87e481d4e4b9f41fc7167b.txt\n",
            "Deleted image and label: /content/custom_dataset/train/images/traffic-light-739-_jpg.rf.21d5adb1c5bf4cfe6b626dc83460489d.jpg, /content/custom_dataset/train/labels/traffic-light-739-_jpg.rf.21d5adb1c5bf4cfe6b626dc83460489d.txt\n",
            "Deleted image and label: /content/custom_dataset/train/images/led-traffic-signal-light-500x500-250x250_jpg.rf.fd0023adaf79534880ebdcf97bd3de60.jpg, /content/custom_dataset/train/labels/led-traffic-signal-light-500x500-250x250_jpg.rf.fd0023adaf79534880ebdcf97bd3de60.txt\n",
            "Deleted image and label: /content/custom_dataset/train/images/Tlight-796-_png_jpg.rf.9c4071d43461b01a60bfdb8ddb6a9ee5.jpg, /content/custom_dataset/train/labels/Tlight-796-_png_jpg.rf.9c4071d43461b01a60bfdb8ddb6a9ee5.txt\n",
            "Deleted image and label: /content/custom_dataset/train/images/Tlight-738-_png_jpg.rf.bd4f14228c9359b93c9084cc96fb88d4.jpg, /content/custom_dataset/train/labels/Tlight-738-_png_jpg.rf.bd4f14228c9359b93c9084cc96fb88d4.txt\n",
            "Deleted image and label: /content/custom_dataset/train/images/Tlight-754-_png_jpg.rf.866a81199e62a6c0c8391fec1de10308.jpg, /content/custom_dataset/train/labels/Tlight-754-_png_jpg.rf.866a81199e62a6c0c8391fec1de10308.txt\n",
            "Deleted image and label: /content/custom_dataset/train/images/Tlight-643-_png_jpg.rf.74ed2dcd4cdcd1d90d51a996e5ed8e77.jpg, /content/custom_dataset/train/labels/Tlight-643-_png_jpg.rf.74ed2dcd4cdcd1d90d51a996e5ed8e77.txt\n",
            "Deleted image and label: /content/custom_dataset/train/images/Tlight-785-_png_jpg.rf.27e7b145659930f083e036aabf145613.jpg, /content/custom_dataset/train/labels/Tlight-785-_png_jpg.rf.27e7b145659930f083e036aabf145613.txt\n",
            "Deleted image and label: /content/custom_dataset/train/images/tflight_001449_jpg.rf.84e07b060568d6c8043eedf678e41429.jpg, /content/custom_dataset/train/labels/tflight_001449_jpg.rf.84e07b060568d6c8043eedf678e41429.txt\n",
            "Deleted image and label: /content/custom_dataset/train/images/images-15-_jpg.rf.c96792f6a87fa62022b0e1d991c23d53.jpg, /content/custom_dataset/train/labels/images-15-_jpg.rf.c96792f6a87fa62022b0e1d991c23d53.txt\n",
            "Deleted image and label: /content/custom_dataset/train/images/Tlight-691-_png_jpg.rf.a696090bedbf40f4ad4b7ee8e7187b83.jpg, /content/custom_dataset/train/labels/Tlight-691-_png_jpg.rf.a696090bedbf40f4ad4b7ee8e7187b83.txt\n",
            "Deleted image and label: /content/custom_dataset/train/images/traffic-light-602-_jpg.rf.a903420c123d3d533a3ee374c26fc8f8.jpg, /content/custom_dataset/train/labels/traffic-light-602-_jpg.rf.a903420c123d3d533a3ee374c26fc8f8.txt\n",
            "Deleted image and label: /content/custom_dataset/train/images/tflight_001496_jpg.rf.6d7ffe73e032bc3597011e573d1153a8.jpg, /content/custom_dataset/train/labels/tflight_001496_jpg.rf.6d7ffe73e032bc3597011e573d1153a8.txt\n",
            "Deleted image and label: /content/custom_dataset/train/images/Tlight-756-_png_jpg.rf.eb0a598efa5177616a547bf28d2963be.jpg, /content/custom_dataset/train/labels/Tlight-756-_png_jpg.rf.eb0a598efa5177616a547bf28d2963be.txt\n",
            "Deleted image and label: /content/custom_dataset/train/images/traffic-light-666-_jpg.rf.3681a7a1d73ec37bfd8d7f2003b4eb58.jpg, /content/custom_dataset/train/labels/traffic-light-666-_jpg.rf.3681a7a1d73ec37bfd8d7f2003b4eb58.txt\n",
            "Deleted image and label: /content/custom_dataset/train/images/tflight_001200_jpg.rf.9d19ffdc4166e94451b7239e639553b6.jpg, /content/custom_dataset/train/labels/tflight_001200_jpg.rf.9d19ffdc4166e94451b7239e639553b6.txt\n",
            "Deleted image and label: /content/custom_dataset/train/images/Tlight-693-_png_jpg.rf.1ce857feaaaffa4b903425aa0de5132d.jpg, /content/custom_dataset/train/labels/Tlight-693-_png_jpg.rf.1ce857feaaaffa4b903425aa0de5132d.txt\n",
            "Deleted image and label: /content/custom_dataset/train/images/tflight_001552_jpg.rf.0f07fdfc89cd2b196f2c6784456024ed.jpg, /content/custom_dataset/train/labels/tflight_001552_jpg.rf.0f07fdfc89cd2b196f2c6784456024ed.txt\n",
            "Deleted image and label: /content/custom_dataset/train/images/traffic-light-842-_jpg.rf.c6723857e5990a865049cc238473c76a.jpg, /content/custom_dataset/train/labels/traffic-light-842-_jpg.rf.c6723857e5990a865049cc238473c76a.txt\n",
            "Deleted image and label: /content/custom_dataset/train/images/Tlight-653-_png_jpg.rf.1a176b89bc59e03a1aa395bb6d937461.jpg, /content/custom_dataset/train/labels/Tlight-653-_png_jpg.rf.1a176b89bc59e03a1aa395bb6d937461.txt\n",
            "Deleted image and label: /content/custom_dataset/train/images/traffic-light-793-_jpg.rf.c22d8314808049a54f6527fd9b89a995.jpg, /content/custom_dataset/train/labels/traffic-light-793-_jpg.rf.c22d8314808049a54f6527fd9b89a995.txt\n",
            "Deleted image and label: /content/custom_dataset/train/images/Tlight-780-_png_jpg.rf.5a7fd0cafc6f834a11db7128bbf0acde.jpg, /content/custom_dataset/train/labels/Tlight-780-_png_jpg.rf.5a7fd0cafc6f834a11db7128bbf0acde.txt\n",
            "Deleted image and label: /content/custom_dataset/train/images/tflight_001653_jpg.rf.2df9ca216c9ba794b3d51f8148824330.jpg, /content/custom_dataset/train/labels/tflight_001653_jpg.rf.2df9ca216c9ba794b3d51f8148824330.txt\n",
            "Deleted image and label: /content/custom_dataset/train/images/traffic-light-739-_jpg.rf.411e8dd95a7424b448032732c126fa09.jpg, /content/custom_dataset/train/labels/traffic-light-739-_jpg.rf.411e8dd95a7424b448032732c126fa09.txt\n",
            "Deleted image and label: /content/custom_dataset/train/images/Tlight-646-_png_jpg.rf.c7fec515698e1d168c667500402c9fa5.jpg, /content/custom_dataset/train/labels/Tlight-646-_png_jpg.rf.c7fec515698e1d168c667500402c9fa5.txt\n",
            "Deleted image and label: /content/custom_dataset/train/images/traffic-light-597-_jpg.rf.892bb02f6eefe25ac914adeb918fe34e.jpg, /content/custom_dataset/train/labels/traffic-light-597-_jpg.rf.892bb02f6eefe25ac914adeb918fe34e.txt\n",
            "Deleted image and label: /content/custom_dataset/train/images/Tlight-631-_png_jpg.rf.de54f377178fd32b3b58055da7014f61.jpg, /content/custom_dataset/train/labels/Tlight-631-_png_jpg.rf.de54f377178fd32b3b58055da7014f61.txt\n",
            "Deleted image and label: /content/custom_dataset/train/images/Tlight-98-_png_jpg.rf.0aede1c2e0521214e51126ee73d87f63.jpg, /content/custom_dataset/train/labels/Tlight-98-_png_jpg.rf.0aede1c2e0521214e51126ee73d87f63.txt\n",
            "Deleted image and label: /content/custom_dataset/train/images/Tlight-757-_png_jpg.rf.f1eacfcd22eac50602eaca3e4c1f1c9f.jpg, /content/custom_dataset/train/labels/Tlight-757-_png_jpg.rf.f1eacfcd22eac50602eaca3e4c1f1c9f.txt\n",
            "Deleted image and label: /content/custom_dataset/train/images/traffic-light-76-_jpg.rf.c7084c924a2bf4a7afdd7e354af8159a.jpg, /content/custom_dataset/train/labels/traffic-light-76-_jpg.rf.c7084c924a2bf4a7afdd7e354af8159a.txt\n",
            "Deleted image and label: /content/custom_dataset/train/images/Tlight-552-_png_jpg.rf.5303a3644df8b09714e0ecef3f86031f.jpg, /content/custom_dataset/train/labels/Tlight-552-_png_jpg.rf.5303a3644df8b09714e0ecef3f86031f.txt\n",
            "Deleted image and label: /content/custom_dataset/train/images/Tlight-718-_png_jpg.rf.3ce22b6b97b6ec3208e9b2011bc2c152.jpg, /content/custom_dataset/train/labels/Tlight-718-_png_jpg.rf.3ce22b6b97b6ec3208e9b2011bc2c152.txt\n",
            "Deleted image and label: /content/custom_dataset/train/images/Tlight-732-_png_jpg.rf.2959e5ae9033a2ab528da50e945a04ac.jpg, /content/custom_dataset/train/labels/Tlight-732-_png_jpg.rf.2959e5ae9033a2ab528da50e945a04ac.txt\n",
            "Deleted image and label: /content/custom_dataset/train/images/Tlight-594-_png_jpg.rf.624838310916f1856478d9e08f0830e5.jpg, /content/custom_dataset/train/labels/Tlight-594-_png_jpg.rf.624838310916f1856478d9e08f0830e5.txt\n",
            "Deleted image and label: /content/custom_dataset/train/images/Tlight-655-_png_jpg.rf.14e72a14c04118538e36388f9529fab1.jpg, /content/custom_dataset/train/labels/Tlight-655-_png_jpg.rf.14e72a14c04118538e36388f9529fab1.txt\n",
            "Deleted image and label: /content/custom_dataset/train/images/Tlight-769-_png_jpg.rf.78adf501577bf11882ce4d8750ea1002.jpg, /content/custom_dataset/train/labels/Tlight-769-_png_jpg.rf.78adf501577bf11882ce4d8750ea1002.txt\n",
            "Deleted image and label: /content/custom_dataset/train/images/tflight_001554_jpg.rf.1b41410abd266073b8ecae9c7f8b803f.jpg, /content/custom_dataset/train/labels/tflight_001554_jpg.rf.1b41410abd266073b8ecae9c7f8b803f.txt\n",
            "Deleted image and label: /content/custom_dataset/train/images/Tlight-597-_png_jpg.rf.e6855206acc19b4be252a5c7774b454f.jpg, /content/custom_dataset/train/labels/Tlight-597-_png_jpg.rf.e6855206acc19b4be252a5c7774b454f.txt\n",
            "Deleted image and label: /content/custom_dataset/train/images/Tlight-651-_png_jpg.rf.9c3e09b297736fa1f00dbf9a207967c5.jpg, /content/custom_dataset/train/labels/Tlight-651-_png_jpg.rf.9c3e09b297736fa1f00dbf9a207967c5.txt\n",
            "Deleted image and label: /content/custom_dataset/train/images/Tlight-80-_png_jpg.rf.18c356c7d8a2fff44c071f871b5bcd8d.jpg, /content/custom_dataset/train/labels/Tlight-80-_png_jpg.rf.18c356c7d8a2fff44c071f871b5bcd8d.txt\n",
            "Deleted image and label: /content/custom_dataset/train/images/Tlight-78-_png_jpg.rf.5b3a79ecc3c5d22c958ac265f3997a0c.jpg, /content/custom_dataset/train/labels/Tlight-78-_png_jpg.rf.5b3a79ecc3c5d22c958ac265f3997a0c.txt\n",
            "Deleted image and label: /content/custom_dataset/train/images/Tlight-86-_png_jpg.rf.f428f729e1ce35638c236b6d26e5f368.jpg, /content/custom_dataset/train/labels/Tlight-86-_png_jpg.rf.f428f729e1ce35638c236b6d26e5f368.txt\n",
            "Deleted image and label: /content/custom_dataset/train/images/traffic-light-731-_jpg.rf.b1b6f85fe881adacea91318edf32221d.jpg, /content/custom_dataset/train/labels/traffic-light-731-_jpg.rf.b1b6f85fe881adacea91318edf32221d.txt\n",
            "Deleted image and label: /content/custom_dataset/train/images/tflight_001513_jpg.rf.2fafebde764250b52178755c29ca684d.jpg, /content/custom_dataset/train/labels/tflight_001513_jpg.rf.2fafebde764250b52178755c29ca684d.txt\n",
            "Deleted image and label: /content/custom_dataset/train/images/Tlight-77-_png_jpg.rf.70850d6af0b2d0c1e83b1ad971a2ffc9.jpg, /content/custom_dataset/train/labels/Tlight-77-_png_jpg.rf.70850d6af0b2d0c1e83b1ad971a2ffc9.txt\n",
            "Deleted image and label: /content/custom_dataset/train/images/traffic-light-651-_jpg.rf.09724fc4041351e2ca9139d5d8652262.jpg, /content/custom_dataset/train/labels/traffic-light-651-_jpg.rf.09724fc4041351e2ca9139d5d8652262.txt\n",
            "Deleted image and label: /content/custom_dataset/train/images/traffic-light-729-_jpg.rf.5537714e6a70df4ae94bd834cea9ba9c.jpg, /content/custom_dataset/train/labels/traffic-light-729-_jpg.rf.5537714e6a70df4ae94bd834cea9ba9c.txt\n",
            "Deleted image and label: /content/custom_dataset/train/images/tflight_001505_jpg.rf.6108af52b4074f07feb7a66df118bf99.jpg, /content/custom_dataset/train/labels/tflight_001505_jpg.rf.6108af52b4074f07feb7a66df118bf99.txt\n",
            "Deleted image and label: /content/custom_dataset/train/images/tflight_001654_jpg.rf.fe58ebf087ab86f34fdf12a7c4b1b736.jpg, /content/custom_dataset/train/labels/tflight_001654_jpg.rf.fe58ebf087ab86f34fdf12a7c4b1b736.txt\n",
            "Deleted image and label: /content/custom_dataset/train/images/Tlight-623-_png_jpg.rf.82597573d0edbd7c64ec91c7283ec6a9.jpg, /content/custom_dataset/train/labels/Tlight-623-_png_jpg.rf.82597573d0edbd7c64ec91c7283ec6a9.txt\n",
            "Deleted image and label: /content/custom_dataset/train/images/traffic-light-678-_jpg.rf.222ab0e4aea50e16ee8cc8c910f96d41.jpg, /content/custom_dataset/train/labels/traffic-light-678-_jpg.rf.222ab0e4aea50e16ee8cc8c910f96d41.txt\n",
            "Deleted image and label: /content/custom_dataset/train/images/Tlight-705-_png_jpg.rf.b320e75efa4e1835a876b59fdb4c0143.jpg, /content/custom_dataset/train/labels/Tlight-705-_png_jpg.rf.b320e75efa4e1835a876b59fdb4c0143.txt\n",
            "Deleted image and label: /content/custom_dataset/train/images/Tlight-708-_png_jpg.rf.6f98c2715afe779886c81066c5ccd4b2.jpg, /content/custom_dataset/train/labels/Tlight-708-_png_jpg.rf.6f98c2715afe779886c81066c5ccd4b2.txt\n",
            "Deleted image and label: /content/custom_dataset/train/images/traffic-light-860-_jpg.rf.a6f44a2f292e5ad3e130d61693021945.jpg, /content/custom_dataset/train/labels/traffic-light-860-_jpg.rf.a6f44a2f292e5ad3e130d61693021945.txt\n",
            "Deleted image and label: /content/custom_dataset/train/images/Tlight-92-_png_jpg.rf.4983f2522761778b62eaf5d2b7c24334.jpg, /content/custom_dataset/train/labels/Tlight-92-_png_jpg.rf.4983f2522761778b62eaf5d2b7c24334.txt\n",
            "Deleted image and label: /content/custom_dataset/train/images/images-33-_jpg.rf.bb1cb694a626809903c1d5c9480754d2.jpg, /content/custom_dataset/train/labels/images-33-_jpg.rf.bb1cb694a626809903c1d5c9480754d2.txt\n",
            "Deleted image and label: /content/custom_dataset/train/images/Tlight-794-_png_jpg.rf.95dcf554b1e41122f2621e19c36ebcd9.jpg, /content/custom_dataset/train/labels/Tlight-794-_png_jpg.rf.95dcf554b1e41122f2621e19c36ebcd9.txt\n",
            "Deleted image and label: /content/custom_dataset/train/images/traffic-light-481-_jpg.rf.88bbebca0063f9a029d65e42dd69eb5e.jpg, /content/custom_dataset/train/labels/traffic-light-481-_jpg.rf.88bbebca0063f9a029d65e42dd69eb5e.txt\n",
            "Deleted image and label: /content/custom_dataset/train/images/Tlight-676-_png_jpg.rf.ca47287de23532b8d38189af72d634b3.jpg, /content/custom_dataset/train/labels/Tlight-676-_png_jpg.rf.ca47287de23532b8d38189af72d634b3.txt\n",
            "Deleted image and label: /content/custom_dataset/train/images/tflight_001612_jpg.rf.714d96271adcbe61625d587414a83146.jpg, /content/custom_dataset/train/labels/tflight_001612_jpg.rf.714d96271adcbe61625d587414a83146.txt\n",
            "Deleted image and label: /content/custom_dataset/train/images/traffic-light-768-_jpg.rf.a733e54809f52c96795628054649196c.jpg, /content/custom_dataset/train/labels/traffic-light-768-_jpg.rf.a733e54809f52c96795628054649196c.txt\n",
            "Deleted image and label: /content/custom_dataset/train/images/traffic-light-484-_jpg.rf.a6c8d0ada0eaaa9a57fc4461539730e5.jpg, /content/custom_dataset/train/labels/traffic-light-484-_jpg.rf.a6c8d0ada0eaaa9a57fc4461539730e5.txt\n",
            "Deleted image and label: /content/custom_dataset/train/images/traffic-light-921-_jpg.rf.f031ef97ad9914f141624bd0360afd44.jpg, /content/custom_dataset/train/labels/traffic-light-921-_jpg.rf.f031ef97ad9914f141624bd0360afd44.txt\n",
            "Deleted image and label: /content/custom_dataset/train/images/traffic-light-572-_jpg.rf.711aa7dd396b65411b4726cc38629111.jpg, /content/custom_dataset/train/labels/traffic-light-572-_jpg.rf.711aa7dd396b65411b4726cc38629111.txt\n",
            "Deleted image and label: /content/custom_dataset/train/images/traffic-light-578-_jpg.rf.c880cbc0467eb9a39485972fda8bc2b6.jpg, /content/custom_dataset/train/labels/traffic-light-578-_jpg.rf.c880cbc0467eb9a39485972fda8bc2b6.txt\n",
            "Deleted image and label: /content/custom_dataset/train/images/Tlight-610-_png_jpg.rf.690ebf69a710248e147a2af9fadb2659.jpg, /content/custom_dataset/train/labels/Tlight-610-_png_jpg.rf.690ebf69a710248e147a2af9fadb2659.txt\n",
            "Deleted image and label: /content/custom_dataset/train/images/traffic-light-458-_jpg.rf.e282f5e53fa22cf2e82ae2443af3613b.jpg, /content/custom_dataset/train/labels/traffic-light-458-_jpg.rf.e282f5e53fa22cf2e82ae2443af3613b.txt\n",
            "Deleted image and label: /content/custom_dataset/train/images/traffic-light-732-_jpg.rf.1f53b982c1b8d0a3907a78915876b3e5.jpg, /content/custom_dataset/train/labels/traffic-light-732-_jpg.rf.1f53b982c1b8d0a3907a78915876b3e5.txt\n",
            "Deleted image and label: /content/custom_dataset/train/images/Tlight-72-_png_jpg.rf.233205ad62c59a27812b12c74f2aff95.jpg, /content/custom_dataset/train/labels/Tlight-72-_png_jpg.rf.233205ad62c59a27812b12c74f2aff95.txt\n",
            "Deleted image and label: /content/custom_dataset/train/images/Tlight-71-_png_jpg.rf.637e194d509d7f98b32c69c3620d932a.jpg, /content/custom_dataset/train/labels/Tlight-71-_png_jpg.rf.637e194d509d7f98b32c69c3620d932a.txt\n",
            "Deleted image and label: /content/custom_dataset/train/images/images-6-_jpg.rf.afedb8f39989b6bee3c955afc44bfb01.jpg, /content/custom_dataset/train/labels/images-6-_jpg.rf.afedb8f39989b6bee3c955afc44bfb01.txt\n",
            "Deleted image and label: /content/custom_dataset/train/images/Tlight-546-_png_jpg.rf.3f6683efc7b0f2e635d9d08a63d2689b.jpg, /content/custom_dataset/train/labels/Tlight-546-_png_jpg.rf.3f6683efc7b0f2e635d9d08a63d2689b.txt\n",
            "Deleted image and label: /content/custom_dataset/train/images/traffic-light-850-_jpg.rf.60ce6d0df59505d58f1cf7fbb9f2c3bb.jpg, /content/custom_dataset/train/labels/traffic-light-850-_jpg.rf.60ce6d0df59505d58f1cf7fbb9f2c3bb.txt\n",
            "Deleted image and label: /content/custom_dataset/train/images/Tlight-747-_png_jpg.rf.efa1292e10173462bfa95e2c578965b4.jpg, /content/custom_dataset/train/labels/Tlight-747-_png_jpg.rf.efa1292e10173462bfa95e2c578965b4.txt\n",
            "Deleted image and label: /content/custom_dataset/train/images/Tlight-87-_png_jpg.rf.0c7792c024f0c07bef0a10a6a13d332e.jpg, /content/custom_dataset/train/labels/Tlight-87-_png_jpg.rf.0c7792c024f0c07bef0a10a6a13d332e.txt\n",
            "Deleted image and label: /content/custom_dataset/train/images/tflight_001516_jpg.rf.95da65d53283f2f994c63ebd3440ddd7.jpg, /content/custom_dataset/train/labels/tflight_001516_jpg.rf.95da65d53283f2f994c63ebd3440ddd7.txt\n",
            "Deleted image and label: /content/custom_dataset/train/images/Tlight-798-_png_jpg.rf.d9d3cb22ea1df15df519e61a7ed0a655.jpg, /content/custom_dataset/train/labels/Tlight-798-_png_jpg.rf.d9d3cb22ea1df15df519e61a7ed0a655.txt\n",
            "Deleted image and label: /content/custom_dataset/train/images/Tlight-62-_png_jpg.rf.7abdeceb0c17c7081140c963c6d17660.jpg, /content/custom_dataset/train/labels/Tlight-62-_png_jpg.rf.7abdeceb0c17c7081140c963c6d17660.txt\n",
            "Deleted image and label: /content/custom_dataset/train/images/Tlight-603-_png_jpg.rf.5cce390126fb8b83a066cefc3493ea52.jpg, /content/custom_dataset/train/labels/Tlight-603-_png_jpg.rf.5cce390126fb8b83a066cefc3493ea52.txt\n",
            "Deleted image and label: /content/custom_dataset/train/images/traffic-light-91-_jpg.rf.bc73f5294705d3132b7b1e3691567112.jpg, /content/custom_dataset/train/labels/traffic-light-91-_jpg.rf.bc73f5294705d3132b7b1e3691567112.txt\n",
            "Deleted image and label: /content/custom_dataset/train/images/Tlight-647-_png_jpg.rf.502eae094f395ce0ada9075501b1cf66.jpg, /content/custom_dataset/train/labels/Tlight-647-_png_jpg.rf.502eae094f395ce0ada9075501b1cf66.txt\n",
            "Deleted image and label: /content/custom_dataset/train/images/Tlight-93-_png_jpg.rf.3fbb37b1537d1e79c868d0d0a69cd741.jpg, /content/custom_dataset/train/labels/Tlight-93-_png_jpg.rf.3fbb37b1537d1e79c868d0d0a69cd741.txt\n",
            "Deleted image and label: /content/custom_dataset/train/images/traffic-light-713-_jpg.rf.20fd210596837ba20465cf5603521d0a.jpg, /content/custom_dataset/train/labels/traffic-light-713-_jpg.rf.20fd210596837ba20465cf5603521d0a.txt\n",
            "Deleted image and label: /content/custom_dataset/train/images/Tlight-707-_png_jpg.rf.de0395a2cd10dddf8342f3e675588a26.jpg, /content/custom_dataset/train/labels/Tlight-707-_png_jpg.rf.de0395a2cd10dddf8342f3e675588a26.txt\n",
            "Deleted image and label: /content/custom_dataset/train/images/Tlight-699-_png_jpg.rf.8a49972572be828583899e838245dca2.jpg, /content/custom_dataset/train/labels/Tlight-699-_png_jpg.rf.8a49972572be828583899e838245dca2.txt\n",
            "Deleted image and label: /content/custom_dataset/train/images/traffic-light-585-_jpg.rf.68ba243ef5716a0ab1c8c56324151559.jpg, /content/custom_dataset/train/labels/traffic-light-585-_jpg.rf.68ba243ef5716a0ab1c8c56324151559.txt\n",
            "Deleted image and label: /content/custom_dataset/train/images/images-18-_jpg.rf.04da72fd0c752e1e0017d7fbdce56bfb.jpg, /content/custom_dataset/train/labels/images-18-_jpg.rf.04da72fd0c752e1e0017d7fbdce56bfb.txt\n",
            "Deleted image and label: /content/custom_dataset/train/images/tflight_001625_jpg.rf.4cb8ca85b2ffc097bfaab414ad5871e3.jpg, /content/custom_dataset/train/labels/tflight_001625_jpg.rf.4cb8ca85b2ffc097bfaab414ad5871e3.txt\n",
            "Deleted image and label: /content/custom_dataset/train/images/traffic-light-916-_jpg.rf.038d02866584cd6d7cd5b16c6eaee727.jpg, /content/custom_dataset/train/labels/traffic-light-916-_jpg.rf.038d02866584cd6d7cd5b16c6eaee727.txt\n",
            "Deleted image and label: /content/custom_dataset/train/images/Tlight-690-_png_jpg.rf.a3fadd24ec445442f88eb70080abc998.jpg, /content/custom_dataset/train/labels/Tlight-690-_png_jpg.rf.a3fadd24ec445442f88eb70080abc998.txt\n",
            "Deleted image and label: /content/custom_dataset/train/images/traffic-light-570-_jpg.rf.d4e1fcf324f09ea8121f9de54ca51c6f.jpg, /content/custom_dataset/train/labels/traffic-light-570-_jpg.rf.d4e1fcf324f09ea8121f9de54ca51c6f.txt\n",
            "Deleted image and label: /content/custom_dataset/train/images/Tlight-787-_png_jpg.rf.90542acdb7045c2b8b8fb5bdc2cf3e4a.jpg, /content/custom_dataset/train/labels/Tlight-787-_png_jpg.rf.90542acdb7045c2b8b8fb5bdc2cf3e4a.txt\n",
            "Deleted image and label: /content/custom_dataset/train/images/Tlight-534-_png_jpg.rf.3743de9fdfdf729d0c6ff0996d892448.jpg, /content/custom_dataset/train/labels/Tlight-534-_png_jpg.rf.3743de9fdfdf729d0c6ff0996d892448.txt\n",
            "Deleted image and label: /content/custom_dataset/train/images/tflight_001550_jpg.rf.06210576adfa8ad848fe609ad6ffd97d.jpg, /content/custom_dataset/train/labels/tflight_001550_jpg.rf.06210576adfa8ad848fe609ad6ffd97d.txt\n",
            "Deleted image and label: /content/custom_dataset/train/images/Tlight-622-_png_jpg.rf.fae671e5744fe940c1f1277afddc0dcd.jpg, /content/custom_dataset/train/labels/Tlight-622-_png_jpg.rf.fae671e5744fe940c1f1277afddc0dcd.txt\n",
            "Deleted image and label: /content/custom_dataset/train/images/tflight_001551_jpg.rf.42fa4668c57d3c99a4f7ee4381dbe079.jpg, /content/custom_dataset/train/labels/tflight_001551_jpg.rf.42fa4668c57d3c99a4f7ee4381dbe079.txt\n",
            "Deleted image and label: /content/custom_dataset/train/images/tflight_001507_jpg.rf.2c094e231d0e229cd15266bc8e55ed9c.jpg, /content/custom_dataset/train/labels/tflight_001507_jpg.rf.2c094e231d0e229cd15266bc8e55ed9c.txt\n",
            "Deleted image and label: /content/custom_dataset/train/images/traffic-light-721-_jpg.rf.1875a2c7a8914c69a4058f315c1c8d55.jpg, /content/custom_dataset/train/labels/traffic-light-721-_jpg.rf.1875a2c7a8914c69a4058f315c1c8d55.txt\n",
            "Deleted image and label: /content/custom_dataset/train/images/tflight_001494_jpg.rf.3fb2eb70d3b1acff68deb26697d34e24.jpg, /content/custom_dataset/train/labels/tflight_001494_jpg.rf.3fb2eb70d3b1acff68deb26697d34e24.txt\n",
            "Deleted image and label: /content/custom_dataset/train/images/Tlight-669-_png_jpg.rf.45c3a88fd23fd71d70c2eaa9c07e7391.jpg, /content/custom_dataset/train/labels/Tlight-669-_png_jpg.rf.45c3a88fd23fd71d70c2eaa9c07e7391.txt\n",
            "Deleted image and label: /content/custom_dataset/train/images/traffic-light-729-_jpg.rf.f06d43e80d9d8c3abfbb88bedaec91eb.jpg, /content/custom_dataset/train/labels/traffic-light-729-_jpg.rf.f06d43e80d9d8c3abfbb88bedaec91eb.txt\n",
            "Deleted image and label: /content/custom_dataset/train/images/Tlight-567-_png_jpg.rf.e66be3d8e30e6a67d7e8bf39f552c4ed.jpg, /content/custom_dataset/train/labels/Tlight-567-_png_jpg.rf.e66be3d8e30e6a67d7e8bf39f552c4ed.txt\n",
            "Deleted image and label: /content/custom_dataset/train/images/Tlight-667-_png_jpg.rf.ec597b873c2deb4d576b1883266036b6.jpg, /content/custom_dataset/train/labels/Tlight-667-_png_jpg.rf.ec597b873c2deb4d576b1883266036b6.txt\n",
            "Deleted image and label: /content/custom_dataset/train/images/traffic-light-628-_jpg.rf.74a8839b0dd87b3684b2d4fbcec1da53.jpg, /content/custom_dataset/train/labels/traffic-light-628-_jpg.rf.74a8839b0dd87b3684b2d4fbcec1da53.txt\n",
            "Deleted image and label: /content/custom_dataset/train/images/tflight_001372_jpg.rf.00f8bbcdfac4076403d7f25640b026a2.jpg, /content/custom_dataset/train/labels/tflight_001372_jpg.rf.00f8bbcdfac4076403d7f25640b026a2.txt\n",
            "Deleted image and label: /content/custom_dataset/train/images/traffic-light-15-_jpg.rf.5c5bc39d060e9d77cd97a84be9319316.jpg, /content/custom_dataset/train/labels/traffic-light-15-_jpg.rf.5c5bc39d060e9d77cd97a84be9319316.txt\n",
            "Deleted image and label: /content/custom_dataset/train/images/tflight_001572_jpg.rf.f9b072614607da8175fa0a582bdf9944.jpg, /content/custom_dataset/train/labels/tflight_001572_jpg.rf.f9b072614607da8175fa0a582bdf9944.txt\n",
            "Deleted image and label: /content/custom_dataset/train/images/traffic-light-744-_jpg.rf.ca4cb6c2ce017ea8fa56302b5f202756.jpg, /content/custom_dataset/train/labels/traffic-light-744-_jpg.rf.ca4cb6c2ce017ea8fa56302b5f202756.txt\n",
            "Deleted image and label: /content/custom_dataset/train/images/Tlight-529-_png_jpg.rf.0b1a39e224b44a7a62293e66716e5f72.jpg, /content/custom_dataset/train/labels/Tlight-529-_png_jpg.rf.0b1a39e224b44a7a62293e66716e5f72.txt\n",
            "Deleted image and label: /content/custom_dataset/train/images/traffic-light-660-_jpg.rf.ea2360c1733404f6567324957b94f665.jpg, /content/custom_dataset/train/labels/traffic-light-660-_jpg.rf.ea2360c1733404f6567324957b94f665.txt\n",
            "Deleted image and label: /content/custom_dataset/train/images/traffic-light-478-_jpg.rf.594bf09499ecdd57120db688efdde93a.jpg, /content/custom_dataset/train/labels/traffic-light-478-_jpg.rf.594bf09499ecdd57120db688efdde93a.txt\n",
            "Deleted image and label: /content/custom_dataset/train/images/traffic-light-650-_jpg.rf.9021d49236631cd5ffbe1d8fcf3c8a4c.jpg, /content/custom_dataset/train/labels/traffic-light-650-_jpg.rf.9021d49236631cd5ffbe1d8fcf3c8a4c.txt\n",
            "Deleted image and label: /content/custom_dataset/train/images/Tlight-743-_png_jpg.rf.a192a5a6fcc51754e5479b30789aaa93.jpg, /content/custom_dataset/train/labels/Tlight-743-_png_jpg.rf.a192a5a6fcc51754e5479b30789aaa93.txt\n",
            "Deleted image and label: /content/custom_dataset/train/images/tflight_001580_jpg.rf.bfeeabcd685032cdc00d99f4f3a66c0b.jpg, /content/custom_dataset/train/labels/tflight_001580_jpg.rf.bfeeabcd685032cdc00d99f4f3a66c0b.txt\n",
            "Deleted image and label: /content/custom_dataset/train/images/tflight_001484_jpg.rf.235569f26fd32cbc62f21c25214158e1.jpg, /content/custom_dataset/train/labels/tflight_001484_jpg.rf.235569f26fd32cbc62f21c25214158e1.txt\n",
            "Deleted image and label: /content/custom_dataset/train/images/traffic-light-721-_jpg.rf.96f9c54b733dd65a143f4dcff936bb65.jpg, /content/custom_dataset/train/labels/traffic-light-721-_jpg.rf.96f9c54b733dd65a143f4dcff936bb65.txt\n",
            "Deleted image and label: /content/custom_dataset/train/images/red-52487_1920_jpg.rf.b4842e971f8233b18f97ec5f1d368678.jpg, /content/custom_dataset/train/labels/red-52487_1920_jpg.rf.b4842e971f8233b18f97ec5f1d368678.txt\n",
            "Deleted image and label: /content/custom_dataset/train/images/tflight_001466_jpg.rf.07f5b72b7bcdd715d0a409782ccf23b8.jpg, /content/custom_dataset/train/labels/tflight_001466_jpg.rf.07f5b72b7bcdd715d0a409782ccf23b8.txt\n",
            "Deleted image and label: /content/custom_dataset/train/images/traffic-light-649-_jpg.rf.0b13fc8021d51422cb7f44f3aec88d23.jpg, /content/custom_dataset/train/labels/traffic-light-649-_jpg.rf.0b13fc8021d51422cb7f44f3aec88d23.txt\n",
            "Deleted image and label: /content/custom_dataset/train/images/traffic-light-651-_jpg.rf.8c5edab0be9315dec60993b0bb2b8956.jpg, /content/custom_dataset/train/labels/traffic-light-651-_jpg.rf.8c5edab0be9315dec60993b0bb2b8956.txt\n",
            "Deleted image and label: /content/custom_dataset/train/images/Tlight-751-_png_jpg.rf.f40735c46051767c6f5e30253328db66.jpg, /content/custom_dataset/train/labels/Tlight-751-_png_jpg.rf.f40735c46051767c6f5e30253328db66.txt\n",
            "Deleted image and label: /content/custom_dataset/train/images/Tlight-735-_png_jpg.rf.835c69387a78104c3ee482d41b33b970.jpg, /content/custom_dataset/train/labels/Tlight-735-_png_jpg.rf.835c69387a78104c3ee482d41b33b970.txt\n",
            "Deleted image and label: /content/custom_dataset/train/images/Tlight-532-_png_jpg.rf.3a45caef65781b73e4649da1e8e83e21.jpg, /content/custom_dataset/train/labels/Tlight-532-_png_jpg.rf.3a45caef65781b73e4649da1e8e83e21.txt\n",
            "Deleted image and label: /content/custom_dataset/train/images/red-color-traffic-light-beautiful-blue-sky-background-54360435_jpg.rf.eeca5358673169e7b91ec8cad3a71730.jpg, /content/custom_dataset/train/labels/red-color-traffic-light-beautiful-blue-sky-background-54360435_jpg.rf.eeca5358673169e7b91ec8cad3a71730.txt\n",
            "Deleted image and label: /content/custom_dataset/train/images/Tlight-745-_png_jpg.rf.91f8e1d2621298d1bac4c5dddc720606.jpg, /content/custom_dataset/train/labels/Tlight-745-_png_jpg.rf.91f8e1d2621298d1bac4c5dddc720606.txt\n",
            "Deleted image and label: /content/custom_dataset/train/images/tflight_001569_jpg.rf.49a145d8be99b6708771baf4280a27c2.jpg, /content/custom_dataset/train/labels/tflight_001569_jpg.rf.49a145d8be99b6708771baf4280a27c2.txt\n",
            "Deleted image and label: /content/custom_dataset/train/images/Tlight-766-_png_jpg.rf.119a0dd156706c92c057cf713444efcc.jpg, /content/custom_dataset/train/labels/Tlight-766-_png_jpg.rf.119a0dd156706c92c057cf713444efcc.txt\n",
            "Deleted image and label: /content/custom_dataset/train/images/Tlight-599-_png_jpg.rf.e7c022ac1d8226deb6647869463900f6.jpg, /content/custom_dataset/train/labels/Tlight-599-_png_jpg.rf.e7c022ac1d8226deb6647869463900f6.txt\n",
            "Deleted image and label: /content/custom_dataset/train/images/traffic-light-750-_jpg.rf.c4b31c9dce9d08a190dc6eb3bfca72ed.jpg, /content/custom_dataset/train/labels/traffic-light-750-_jpg.rf.c4b31c9dce9d08a190dc6eb3bfca72ed.txt\n",
            "Deleted image and label: /content/custom_dataset/train/images/Tlight-752-_png_jpg.rf.6fc83c0d941abb842829a9d2d38c7860.jpg, /content/custom_dataset/train/labels/Tlight-752-_png_jpg.rf.6fc83c0d941abb842829a9d2d38c7860.txt\n",
            "Deleted image and label: /content/custom_dataset/train/images/traffic-light-571-_jpg.rf.9a5ea27130c0172753ee74670db34873.jpg, /content/custom_dataset/train/labels/traffic-light-571-_jpg.rf.9a5ea27130c0172753ee74670db34873.txt\n",
            "Deleted image and label: /content/custom_dataset/train/images/Tlight-736-_png_jpg.rf.4002e995c93c4bd39143933365cccbd4.jpg, /content/custom_dataset/train/labels/Tlight-736-_png_jpg.rf.4002e995c93c4bd39143933365cccbd4.txt\n",
            "Deleted image and label: /content/custom_dataset/train/images/tflight_001577_jpg.rf.743d9e99da4d1563f18a404304edb39a.jpg, /content/custom_dataset/train/labels/tflight_001577_jpg.rf.743d9e99da4d1563f18a404304edb39a.txt\n",
            "Deleted image and label: /content/custom_dataset/train/images/tflight_001214_jpg.rf.7d9dd389451673cc071132e538b08c16.jpg, /content/custom_dataset/train/labels/tflight_001214_jpg.rf.7d9dd389451673cc071132e538b08c16.txt\n",
            "Deleted image and label: /content/custom_dataset/train/images/tflight_001575_jpg.rf.dca55cc613fbb000ce1ca079bea31cca.jpg, /content/custom_dataset/train/labels/tflight_001575_jpg.rf.dca55cc613fbb000ce1ca079bea31cca.txt\n",
            "Deleted image and label: /content/custom_dataset/train/images/tflight_001170_jpg.rf.3bb87893e1a16e7bc4a3159d595d742d.jpg, /content/custom_dataset/train/labels/tflight_001170_jpg.rf.3bb87893e1a16e7bc4a3159d595d742d.txt\n",
            "Deleted image and label: /content/custom_dataset/train/images/Tlight-709-_png_jpg.rf.c1a6a024f6f8043b18d3344d42e833fd.jpg, /content/custom_dataset/train/labels/Tlight-709-_png_jpg.rf.c1a6a024f6f8043b18d3344d42e833fd.txt\n",
            "Deleted image and label: /content/custom_dataset/train/images/traffic-light-612-_jpg.rf.61fbceba2ab0ac4776cc08f97feb459e.jpg, /content/custom_dataset/train/labels/traffic-light-612-_jpg.rf.61fbceba2ab0ac4776cc08f97feb459e.txt\n",
            "Deleted image and label: /content/custom_dataset/train/images/Tlight-627-_png_jpg.rf.db136bdd64f6d026fb8e5346f88adc71.jpg, /content/custom_dataset/train/labels/Tlight-627-_png_jpg.rf.db136bdd64f6d026fb8e5346f88adc71.txt\n",
            "Deleted image and label: /content/custom_dataset/train/images/traffic-light-475-_jpg.rf.d792907cff7a981bd388d553e367968d.jpg, /content/custom_dataset/train/labels/traffic-light-475-_jpg.rf.d792907cff7a981bd388d553e367968d.txt\n",
            "Deleted image and label: /content/custom_dataset/train/images/Tlight-695-_png_jpg.rf.f79dff2d0a4569d2fdbfad82b09974cb.jpg, /content/custom_dataset/train/labels/Tlight-695-_png_jpg.rf.f79dff2d0a4569d2fdbfad82b09974cb.txt\n",
            "Deleted image and label: /content/custom_dataset/train/images/traffic-light-656-_jpg.rf.28ce35781ed5591cbcd38d543956d448.jpg, /content/custom_dataset/train/labels/traffic-light-656-_jpg.rf.28ce35781ed5591cbcd38d543956d448.txt\n",
            "Deleted image and label: /content/custom_dataset/train/images/Tlight-697-_png_jpg.rf.451ae825cc6a0529b38a8a04a1f42b30.jpg, /content/custom_dataset/train/labels/Tlight-697-_png_jpg.rf.451ae825cc6a0529b38a8a04a1f42b30.txt\n",
            "Deleted image and label: /content/custom_dataset/train/images/Tlight-609-_png_jpg.rf.0f67dac36eee52eae4b76a5235d47944.jpg, /content/custom_dataset/train/labels/Tlight-609-_png_jpg.rf.0f67dac36eee52eae4b76a5235d47944.txt\n",
            "Deleted image and label: /content/custom_dataset/train/images/tflight_001595_jpg.rf.e9ad95bbb5b91065dc87b1e677ea71b9.jpg, /content/custom_dataset/train/labels/tflight_001595_jpg.rf.e9ad95bbb5b91065dc87b1e677ea71b9.txt\n",
            "Deleted image and label: /content/custom_dataset/train/images/Tlight-692-_png_jpg.rf.b0160c8d5cb4716e951a5098b65a5897.jpg, /content/custom_dataset/train/labels/Tlight-692-_png_jpg.rf.b0160c8d5cb4716e951a5098b65a5897.txt\n",
            "Deleted image and label: /content/custom_dataset/train/images/tflight_001567_jpg.rf.da03d4be3a9ce23adc5f45cce361033c.jpg, /content/custom_dataset/train/labels/tflight_001567_jpg.rf.da03d4be3a9ce23adc5f45cce361033c.txt\n",
            "Deleted image and label: /content/custom_dataset/train/images/Tlight-568-_png_jpg.rf.a6b155a2f3a7d4a01239e81cf2e59db4.jpg, /content/custom_dataset/train/labels/Tlight-568-_png_jpg.rf.a6b155a2f3a7d4a01239e81cf2e59db4.txt\n",
            "Deleted image and label: /content/custom_dataset/train/images/Tlight-566-_png_jpg.rf.0c52ff56991738abd5b1507fc46ccb16.jpg, /content/custom_dataset/train/labels/Tlight-566-_png_jpg.rf.0c52ff56991738abd5b1507fc46ccb16.txt\n",
            "Deleted image and label: /content/custom_dataset/train/images/Tlight-74-_png_jpg.rf.b5b4d98a94fd1f78277c3c7dba58fa4c.jpg, /content/custom_dataset/train/labels/Tlight-74-_png_jpg.rf.b5b4d98a94fd1f78277c3c7dba58fa4c.txt\n",
            "Deleted image and label: /content/custom_dataset/train/images/traffic-light-459-_jpg.rf.76cfa4e9f62c9bb4f074fc1a8e4a9ebe.jpg, /content/custom_dataset/train/labels/traffic-light-459-_jpg.rf.76cfa4e9f62c9bb4f074fc1a8e4a9ebe.txt\n",
            "Deleted image and label: /content/custom_dataset/train/images/Tlight-661-_png_jpg.rf.fa49db361afb082c98c6e8fa8b4a948a.jpg, /content/custom_dataset/train/labels/Tlight-661-_png_jpg.rf.fa49db361afb082c98c6e8fa8b4a948a.txt\n",
            "Deleted image and label: /content/custom_dataset/train/images/traffic-light-755-_jpg.rf.6df31ba500119b8fccaefcb45d59a463.jpg, /content/custom_dataset/train/labels/traffic-light-755-_jpg.rf.6df31ba500119b8fccaefcb45d59a463.txt\n",
            "Deleted image and label: /content/custom_dataset/train/images/Tlight-654-_png_jpg.rf.9063b1713b308346ce43239455181729.jpg, /content/custom_dataset/train/labels/Tlight-654-_png_jpg.rf.9063b1713b308346ce43239455181729.txt\n",
            "Deleted image and label: /content/custom_dataset/train/images/Tlight-545-_png_jpg.rf.f8fb343e926ff41fbaa011b9f2686549.jpg, /content/custom_dataset/train/labels/Tlight-545-_png_jpg.rf.f8fb343e926ff41fbaa011b9f2686549.txt\n",
            "Deleted image and label: /content/custom_dataset/train/images/Tlight-82-_png_jpg.rf.e8bc0684e5f815964a35ab42071e5ce0.jpg, /content/custom_dataset/train/labels/Tlight-82-_png_jpg.rf.e8bc0684e5f815964a35ab42071e5ce0.txt\n",
            "Deleted image and label: /content/custom_dataset/train/images/traffic-light-473-_jpg.rf.7fdef805dc669af8574abbe098c2db7c.jpg, /content/custom_dataset/train/labels/traffic-light-473-_jpg.rf.7fdef805dc669af8574abbe098c2db7c.txt\n",
            "Deleted image and label: /content/custom_dataset/train/images/Tlight-590-_png_jpg.rf.3f5f7dfee21198dba1038d122ddf9979.jpg, /content/custom_dataset/train/labels/Tlight-590-_png_jpg.rf.3f5f7dfee21198dba1038d122ddf9979.txt\n",
            "Deleted image and label: /content/custom_dataset/train/images/traffic-light-929-_jpg.rf.d23dd913386b53c67964b220748cf0b1.jpg, /content/custom_dataset/train/labels/traffic-light-929-_jpg.rf.d23dd913386b53c67964b220748cf0b1.txt\n",
            "Deleted image and label: /content/custom_dataset/train/images/tflight_001520_jpg.rf.5fd5c18fdfc6cafed5defc80ffbf3aa9.jpg, /content/custom_dataset/train/labels/tflight_001520_jpg.rf.5fd5c18fdfc6cafed5defc80ffbf3aa9.txt\n",
            "Deleted image and label: /content/custom_dataset/train/images/traffic-light-636-_jpg.rf.3576d8fed67a3a2a76f42e2f8394812e.jpg, /content/custom_dataset/train/labels/traffic-light-636-_jpg.rf.3576d8fed67a3a2a76f42e2f8394812e.txt\n",
            "Deleted image and label: /content/custom_dataset/train/images/Tlight-680-_png_jpg.rf.8ebf76bffa6596676dba414bb8d8697f.jpg, /content/custom_dataset/train/labels/Tlight-680-_png_jpg.rf.8ebf76bffa6596676dba414bb8d8697f.txt\n",
            "Deleted image and label: /content/custom_dataset/train/images/traffic-light-480-_jpg.rf.ed8f717f13a2d2b9f97a1376f01e78b7.jpg, /content/custom_dataset/train/labels/traffic-light-480-_jpg.rf.ed8f717f13a2d2b9f97a1376f01e78b7.txt\n",
            "Deleted image and label: /content/custom_dataset/train/images/Tlight-538-_png_jpg.rf.ca70722d6251bcadefb1135c9bd9b8ee.jpg, /content/custom_dataset/train/labels/Tlight-538-_png_jpg.rf.ca70722d6251bcadefb1135c9bd9b8ee.txt\n",
            "Deleted image and label: /content/custom_dataset/train/images/tflight_001614_jpg.rf.225ac3653d6a5c29e9d79514c00ec164.jpg, /content/custom_dataset/train/labels/tflight_001614_jpg.rf.225ac3653d6a5c29e9d79514c00ec164.txt\n",
            "Deleted image and label: /content/custom_dataset/train/images/Tlight-620-_png_jpg.rf.07d36f772cc50747499b6bb09a37c77c.jpg, /content/custom_dataset/train/labels/Tlight-620-_png_jpg.rf.07d36f772cc50747499b6bb09a37c77c.txt\n",
            "Deleted image and label: /content/custom_dataset/train/images/istockphoto-919960030-612x612_jpg.rf.6d5b6468be344264d6bac9ec54e41599.jpg, /content/custom_dataset/train/labels/istockphoto-919960030-612x612_jpg.rf.6d5b6468be344264d6bac9ec54e41599.txt\n",
            "Deleted image and label: /content/custom_dataset/train/images/tflight_001339_jpg.rf.8699fe2128ebba33a0dc1aeea2fe2b51.jpg, /content/custom_dataset/train/labels/tflight_001339_jpg.rf.8699fe2128ebba33a0dc1aeea2fe2b51.txt\n",
            "Deleted image and label: /content/custom_dataset/train/images/Tlight-755-_png_jpg.rf.60ae3e9a29eab087b7c94ecba22a5648.jpg, /content/custom_dataset/train/labels/Tlight-755-_png_jpg.rf.60ae3e9a29eab087b7c94ecba22a5648.txt\n",
            "Deleted image and label: /content/custom_dataset/train/images/tflight_001472_jpg.rf.4994035cecdb5fa0f987525fb1256471.jpg, /content/custom_dataset/train/labels/tflight_001472_jpg.rf.4994035cecdb5fa0f987525fb1256471.txt\n",
            "Deleted image and label: /content/custom_dataset/train/images/Tlight-790-_png_jpg.rf.5a13ba1b493b7782ee27d40d7d05a0f7.jpg, /content/custom_dataset/train/labels/Tlight-790-_png_jpg.rf.5a13ba1b493b7782ee27d40d7d05a0f7.txt\n",
            "Deleted image and label: /content/custom_dataset/train/images/Tlight-783-_png_jpg.rf.abb41711a50f41a1b66e830bfb2e8607.jpg, /content/custom_dataset/train/labels/Tlight-783-_png_jpg.rf.abb41711a50f41a1b66e830bfb2e8607.txt\n",
            "Deleted image and label: /content/custom_dataset/train/images/Tlight-633-_png_jpg.rf.4a4112ac5913096916d134f62e57fcbc.jpg, /content/custom_dataset/train/labels/Tlight-633-_png_jpg.rf.4a4112ac5913096916d134f62e57fcbc.txt\n",
            "Deleted image and label: /content/custom_dataset/train/images/Tlight-639-_png_jpg.rf.e50ef7841b6aa2dbf7b5f1da5f13776b.jpg, /content/custom_dataset/train/labels/Tlight-639-_png_jpg.rf.e50ef7841b6aa2dbf7b5f1da5f13776b.txt\n",
            "Deleted image and label: /content/custom_dataset/train/images/traffic-light-453-_jpg.rf.2cbcdc68bf3c4c105313a4dd5b28ad62.jpg, /content/custom_dataset/train/labels/traffic-light-453-_jpg.rf.2cbcdc68bf3c4c105313a4dd5b28ad62.txt\n",
            "Deleted image and label: /content/custom_dataset/train/images/traffic-light-457-_jpg.rf.549993dcd9b0b46b45a359d38b732111.jpg, /content/custom_dataset/train/labels/traffic-light-457-_jpg.rf.549993dcd9b0b46b45a359d38b732111.txt\n",
            "Deleted image and label: /content/custom_dataset/train/images/Tlight-764-_png_jpg.rf.a1e7817f5b6b597a41fdd2086bcec16d.jpg, /content/custom_dataset/train/labels/Tlight-764-_png_jpg.rf.a1e7817f5b6b597a41fdd2086bcec16d.txt\n",
            "Deleted image and label: /content/custom_dataset/train/images/traffic-light-928-_jpg.rf.80670e7fdcd2b168e2584893244499a2.jpg, /content/custom_dataset/train/labels/traffic-light-928-_jpg.rf.80670e7fdcd2b168e2584893244499a2.txt\n",
            "Deleted image and label: /content/custom_dataset/train/images/Tlight-574-_png_jpg.rf.d64f6f9065df98d0b9323d29bf2fd9fc.jpg, /content/custom_dataset/train/labels/Tlight-574-_png_jpg.rf.d64f6f9065df98d0b9323d29bf2fd9fc.txt\n",
            "Deleted image and label: /content/custom_dataset/train/images/Tlight-774-_png_jpg.rf.dbbb917a43f958c1469c2d8a8d03b84e.jpg, /content/custom_dataset/train/labels/Tlight-774-_png_jpg.rf.dbbb917a43f958c1469c2d8a8d03b84e.txt\n",
            "Deleted image and label: /content/custom_dataset/train/images/Tlight-763-_png_jpg.rf.e4b137cc3742543162fc8e399242b0c6.jpg, /content/custom_dataset/train/labels/Tlight-763-_png_jpg.rf.e4b137cc3742543162fc8e399242b0c6.txt\n",
            "Deleted image and label: /content/custom_dataset/train/images/Tlight-616-_png_jpg.rf.a996e3095844b3e46d87ac2ec00b59c7.jpg, /content/custom_dataset/train/labels/Tlight-616-_png_jpg.rf.a996e3095844b3e46d87ac2ec00b59c7.txt\n",
            "Deleted image and label: /content/custom_dataset/train/images/Tlight-776-_png_jpg.rf.a8d402ebf239328fa59e2c0826f8ad1b.jpg, /content/custom_dataset/train/labels/Tlight-776-_png_jpg.rf.a8d402ebf239328fa59e2c0826f8ad1b.txt\n",
            "Deleted image and label: /content/custom_dataset/train/images/traffic-light-450-_jpg.rf.c61e8de2acacc34598ca524c9b02382e.jpg, /content/custom_dataset/train/labels/traffic-light-450-_jpg.rf.c61e8de2acacc34598ca524c9b02382e.txt\n",
            "Deleted image and label: /content/custom_dataset/train/images/tflight_001615_jpg.rf.b811b83ee6a4e30db267b6f49614c9c4.jpg, /content/custom_dataset/train/labels/tflight_001615_jpg.rf.b811b83ee6a4e30db267b6f49614c9c4.txt\n",
            "Deleted image and label: /content/custom_dataset/train/images/Tlight-560-_png_jpg.rf.a0133b81b0672caaab6bdd5d1e2e8abf.jpg, /content/custom_dataset/train/labels/Tlight-560-_png_jpg.rf.a0133b81b0672caaab6bdd5d1e2e8abf.txt\n",
            "Deleted image and label: /content/custom_dataset/train/images/Tlight-81-_png_jpg.rf.8dbdaa2b67923dac6da9ab9201dc6d5d.jpg, /content/custom_dataset/train/labels/Tlight-81-_png_jpg.rf.8dbdaa2b67923dac6da9ab9201dc6d5d.txt\n",
            "Deleted image and label: /content/custom_dataset/train/images/Tlight-749-_png_jpg.rf.0770b085be48a7b3580cf776c82578d6.jpg, /content/custom_dataset/train/labels/Tlight-749-_png_jpg.rf.0770b085be48a7b3580cf776c82578d6.txt\n",
            "Deleted image and label: /content/custom_dataset/train/images/traffic-light-587-_jpg.rf.d93362f0dfafa827fbe8120dd6a92578.jpg, /content/custom_dataset/train/labels/traffic-light-587-_jpg.rf.d93362f0dfafa827fbe8120dd6a92578.txt\n",
            "Deleted image and label: /content/custom_dataset/train/images/traffic-light-477-_jpg.rf.d42c89ca33265bd99e857d44c0fab896.jpg, /content/custom_dataset/train/labels/traffic-light-477-_jpg.rf.d42c89ca33265bd99e857d44c0fab896.txt\n",
            "Deleted image and label: /content/custom_dataset/train/images/redlight_jpg.rf.d6aa3c1420743103818e5134e089f01c.jpg, /content/custom_dataset/train/labels/redlight_jpg.rf.d6aa3c1420743103818e5134e089f01c.txt\n",
            "Deleted image and label: /content/custom_dataset/train/images/Tlight-543-_png_jpg.rf.576301a3957a118f67a93eef92d49f38.jpg, /content/custom_dataset/train/labels/Tlight-543-_png_jpg.rf.576301a3957a118f67a93eef92d49f38.txt\n",
            "Deleted image and label: /content/custom_dataset/train/images/tflight_001601_jpg.rf.5f268840ec67380411394d9290c8c9d6.jpg, /content/custom_dataset/train/labels/tflight_001601_jpg.rf.5f268840ec67380411394d9290c8c9d6.txt\n",
            "Deleted image and label: /content/custom_dataset/train/images/Tlight-762-_png_jpg.rf.340eba192b7b738fe4067c6163a78462.jpg, /content/custom_dataset/train/labels/Tlight-762-_png_jpg.rf.340eba192b7b738fe4067c6163a78462.txt\n",
            "Deleted image and label: /content/custom_dataset/train/images/Tlight-725-_png_jpg.rf.094a8c6fea90ed6d7a90adaa5fb59456.jpg, /content/custom_dataset/train/labels/Tlight-725-_png_jpg.rf.094a8c6fea90ed6d7a90adaa5fb59456.txt\n",
            "Deleted image and label: /content/custom_dataset/train/images/tflight_001618_jpg.rf.80aa74f9132c2b312ae05974d5bfeeca.jpg, /content/custom_dataset/train/labels/tflight_001618_jpg.rf.80aa74f9132c2b312ae05974d5bfeeca.txt\n",
            "Deleted image and label: /content/custom_dataset/train/images/Tlight-580-_png_jpg.rf.296a7040c0c36779ee7b567912efa2e7.jpg, /content/custom_dataset/train/labels/Tlight-580-_png_jpg.rf.296a7040c0c36779ee7b567912efa2e7.txt\n",
            "Deleted image and label: /content/custom_dataset/train/images/Tlight-549-_png_jpg.rf.d36a0ef464e1a41539704178f5b8f007.jpg, /content/custom_dataset/train/labels/Tlight-549-_png_jpg.rf.d36a0ef464e1a41539704178f5b8f007.txt\n",
            "Deleted image and label: /content/custom_dataset/train/images/Tlight-611-_png_jpg.rf.0c3775445e309363f10c5a0d004fb73c.jpg, /content/custom_dataset/train/labels/Tlight-611-_png_jpg.rf.0c3775445e309363f10c5a0d004fb73c.txt\n",
            "Deleted image and label: /content/custom_dataset/train/images/IMG_2702_jpg.rf.927d856d9b4f8cbc4f5c9a970f3e0ef1.jpg, /content/custom_dataset/train/labels/IMG_2702_jpg.rf.927d856d9b4f8cbc4f5c9a970f3e0ef1.txt\n",
            "Deleted image and label: /content/custom_dataset/train/images/Tlight-770-_png_jpg.rf.3739ac18f4ceca302cb3a36cccb045ca.jpg, /content/custom_dataset/train/labels/Tlight-770-_png_jpg.rf.3739ac18f4ceca302cb3a36cccb045ca.txt\n",
            "Deleted image and label: /content/custom_dataset/train/images/traffic-light-842-_jpg.rf.6e1407409c053d1836d9719d4aa9cfc5.jpg, /content/custom_dataset/train/labels/traffic-light-842-_jpg.rf.6e1407409c053d1836d9719d4aa9cfc5.txt\n",
            "Deleted image and label: /content/custom_dataset/train/images/traffic-light-729-_jpg.rf.ea6c96145fa3527c3975f4e27e726b58.jpg, /content/custom_dataset/train/labels/traffic-light-729-_jpg.rf.ea6c96145fa3527c3975f4e27e726b58.txt\n",
            "Deleted image and label: /content/custom_dataset/train/images/Tlight-779-_png_jpg.rf.26b94240e7cf9781c96c026918203ad7.jpg, /content/custom_dataset/train/labels/Tlight-779-_png_jpg.rf.26b94240e7cf9781c96c026918203ad7.txt\n",
            "Deleted image and label: /content/custom_dataset/train/images/Tlight-531-_png_jpg.rf.070918827ebb7109e3957c6597163fef.jpg, /content/custom_dataset/train/labels/Tlight-531-_png_jpg.rf.070918827ebb7109e3957c6597163fef.txt\n",
            "Deleted image and label: /content/custom_dataset/train/images/maxresdefault_jpg.rf.186c3fb3e182dcde6ca7e88a66480f2e.jpg, /content/custom_dataset/train/labels/maxresdefault_jpg.rf.186c3fb3e182dcde6ca7e88a66480f2e.txt\n",
            "Deleted image and label: /content/custom_dataset/train/images/traffic-light-926-_jpg.rf.e9421174f14107675bf0e07b48676d08.jpg, /content/custom_dataset/train/labels/traffic-light-926-_jpg.rf.e9421174f14107675bf0e07b48676d08.txt\n",
            "Deleted image and label: /content/custom_dataset/train/images/traffic-light-942-_jpg.rf.623839cb03d139d102482df5f863f458.jpg, /content/custom_dataset/train/labels/traffic-light-942-_jpg.rf.623839cb03d139d102482df5f863f458.txt\n",
            "Deleted image and label: /content/custom_dataset/train/images/traffic-light-753-_jpg.rf.b7580fafb9ad467457b10f12faa99995.jpg, /content/custom_dataset/train/labels/traffic-light-753-_jpg.rf.b7580fafb9ad467457b10f12faa99995.txt\n",
            "Deleted image and label: /content/custom_dataset/train/images/traffic-light-766-_jpg.rf.3f351c8e3dc3b911b3994784e610ef03.jpg, /content/custom_dataset/train/labels/traffic-light-766-_jpg.rf.3f351c8e3dc3b911b3994784e610ef03.txt\n",
            "Deleted image and label: /content/custom_dataset/train/images/tflight_001261_jpg.rf.f8b57f3c6ccc56805a870c79292321a3.jpg, /content/custom_dataset/train/labels/tflight_001261_jpg.rf.f8b57f3c6ccc56805a870c79292321a3.txt\n",
            "Deleted image and label: /content/custom_dataset/train/images/Tlight-60-_png_jpg.rf.750c9cd3691c40220a6264c18c90d228.jpg, /content/custom_dataset/train/labels/Tlight-60-_png_jpg.rf.750c9cd3691c40220a6264c18c90d228.txt\n",
            "Deleted image and label: /content/custom_dataset/train/images/tflight_001193_jpg.rf.460362e5837822236efb6ec37edb6604.jpg, /content/custom_dataset/train/labels/tflight_001193_jpg.rf.460362e5837822236efb6ec37edb6604.txt\n",
            "Deleted image and label: /content/custom_dataset/train/images/traffic-light-118-_jpg.rf.3ce0a172b922a905fb4ac13eff924c5b.jpg, /content/custom_dataset/train/labels/traffic-light-118-_jpg.rf.3ce0a172b922a905fb4ac13eff924c5b.txt\n",
            "Deleted image and label: /content/custom_dataset/train/images/Tlight-683-_png_jpg.rf.7aaa1495016a1dd79ccbdc24f9be399f.jpg, /content/custom_dataset/train/labels/Tlight-683-_png_jpg.rf.7aaa1495016a1dd79ccbdc24f9be399f.txt\n",
            "Deleted image and label: /content/custom_dataset/train/images/traffic-light-825-_jpg.rf.125373a806a5528f7aeab08ff5a2f3ac.jpg, /content/custom_dataset/train/labels/traffic-light-825-_jpg.rf.125373a806a5528f7aeab08ff5a2f3ac.txt\n",
            "Deleted image and label: /content/custom_dataset/train/images/Tlight-773-_png_jpg.rf.02f83846b18327c044f0af4b0e992842.jpg, /content/custom_dataset/train/labels/Tlight-773-_png_jpg.rf.02f83846b18327c044f0af4b0e992842.txt\n",
            "Deleted image and label: /content/custom_dataset/train/images/traffic-light-761-_jpg.rf.9e958426697aafe8cfe1dcac3e737241.jpg, /content/custom_dataset/train/labels/traffic-light-761-_jpg.rf.9e958426697aafe8cfe1dcac3e737241.txt\n",
            "Deleted image and label: /content/custom_dataset/train/images/Tlight-595-_png_jpg.rf.d1956872f1dc8805c07dd67461d96cc4.jpg, /content/custom_dataset/train/labels/Tlight-595-_png_jpg.rf.d1956872f1dc8805c07dd67461d96cc4.txt\n",
            "Deleted image and label: /content/custom_dataset/train/images/Tlight-640-_png_jpg.rf.99da0beeae4a8799402992f9521b0600.jpg, /content/custom_dataset/train/labels/Tlight-640-_png_jpg.rf.99da0beeae4a8799402992f9521b0600.txt\n",
            "Deleted image and label: /content/custom_dataset/train/images/traffic-light-67-_jpg.rf.585a3996783347949e3f75fc89308a62.jpg, /content/custom_dataset/train/labels/traffic-light-67-_jpg.rf.585a3996783347949e3f75fc89308a62.txt\n",
            "Deleted image and label: /content/custom_dataset/train/images/Tlight-719-_png_jpg.rf.c0ad3a777735641d669d3007475140b7.jpg, /content/custom_dataset/train/labels/Tlight-719-_png_jpg.rf.c0ad3a777735641d669d3007475140b7.txt\n",
            "Deleted image and label: /content/custom_dataset/train/images/Tlight-619-_png_jpg.rf.d77fc34ae9c2c823d5640d19573313e1.jpg, /content/custom_dataset/train/labels/Tlight-619-_png_jpg.rf.d77fc34ae9c2c823d5640d19573313e1.txt\n",
            "Deleted image and label: /content/custom_dataset/train/images/traffic-light-586-_jpg.rf.bafac1714b71203021da19dcf7ee8327.jpg, /content/custom_dataset/train/labels/traffic-light-586-_jpg.rf.bafac1714b71203021da19dcf7ee8327.txt\n",
            "Deleted image and label: /content/custom_dataset/train/images/Tlight-638-_png_jpg.rf.c3b65f485a46299d99930562590e31f1.jpg, /content/custom_dataset/train/labels/Tlight-638-_png_jpg.rf.c3b65f485a46299d99930562590e31f1.txt\n",
            "Deleted image and label: /content/custom_dataset/train/images/Tlight-579-_png_jpg.rf.da5627373b486e0b7a03117e9a198056.jpg, /content/custom_dataset/train/labels/Tlight-579-_png_jpg.rf.da5627373b486e0b7a03117e9a198056.txt\n",
            "Deleted image and label: /content/custom_dataset/train/images/traffic-light-856-_jpg.rf.c4b0b4a794e2ff2905036dfacaf56131.jpg, /content/custom_dataset/train/labels/traffic-light-856-_jpg.rf.c4b0b4a794e2ff2905036dfacaf56131.txt\n",
            "Deleted image and label: /content/custom_dataset/train/images/tflight_001545_jpg.rf.697e81d85136753184bb833892c1e686.jpg, /content/custom_dataset/train/labels/tflight_001545_jpg.rf.697e81d85136753184bb833892c1e686.txt\n",
            "Deleted image and label: /content/custom_dataset/train/images/Tlight-788-_png_jpg.rf.0c7d7c5b5876d3c89bd5b9fc3d479fae.jpg, /content/custom_dataset/train/labels/Tlight-788-_png_jpg.rf.0c7d7c5b5876d3c89bd5b9fc3d479fae.txt\n",
            "Deleted image and label: /content/custom_dataset/train/images/Tlight-629-_png_jpg.rf.29623a911e9f39c324c9029fed245273.jpg, /content/custom_dataset/train/labels/Tlight-629-_png_jpg.rf.29623a911e9f39c324c9029fed245273.txt\n",
            "Deleted image and label: /content/custom_dataset/train/images/Tlight-807-_png_jpg.rf.aa017990c0f9364e71a8e166f4b4032e.jpg, /content/custom_dataset/train/labels/Tlight-807-_png_jpg.rf.aa017990c0f9364e71a8e166f4b4032e.txt\n",
            "Deleted image and label: /content/custom_dataset/train/images/Tlight-727-_png_jpg.rf.6ffdf51da6158a7b63e631b59791d873.jpg, /content/custom_dataset/train/labels/Tlight-727-_png_jpg.rf.6ffdf51da6158a7b63e631b59791d873.txt\n",
            "Deleted image and label: /content/custom_dataset/train/images/tflight_001284_jpg.rf.06de47b1ac5ac1f3063cfe0394bfbfe2.jpg, /content/custom_dataset/train/labels/tflight_001284_jpg.rf.06de47b1ac5ac1f3063cfe0394bfbfe2.txt\n",
            "Deleted image and label: /content/custom_dataset/train/images/Tlight-605-_png_jpg.rf.68ad7eb9783e93287ad8ed3e014682f6.jpg, /content/custom_dataset/train/labels/Tlight-605-_png_jpg.rf.68ad7eb9783e93287ad8ed3e014682f6.txt\n",
            "Deleted image and label: /content/custom_dataset/train/images/tflight_001587_jpg.rf.0a1d6d282870ecaab36469954cc34ec2.jpg, /content/custom_dataset/train/labels/tflight_001587_jpg.rf.0a1d6d282870ecaab36469954cc34ec2.txt\n",
            "Deleted image and label: /content/custom_dataset/train/images/traffic-light-591-_jpg.rf.1207737d97a97968cac729b1eb575d94.jpg, /content/custom_dataset/train/labels/traffic-light-591-_jpg.rf.1207737d97a97968cac729b1eb575d94.txt\n",
            "Deleted image and label: /content/custom_dataset/train/images/traffic-light-860-_jpg.rf.842e3a934c0b4be4a5045a772cf0e186.jpg, /content/custom_dataset/train/labels/traffic-light-860-_jpg.rf.842e3a934c0b4be4a5045a772cf0e186.txt\n",
            "Deleted image and label: /content/custom_dataset/train/images/tflight_001658_jpg.rf.41dbefa0bf5e5767f9d6fb8bf8196e66.jpg, /content/custom_dataset/train/labels/tflight_001658_jpg.rf.41dbefa0bf5e5767f9d6fb8bf8196e66.txt\n",
            "Deleted image and label: /content/custom_dataset/train/images/Tlight-753-_png_jpg.rf.f72738226a60353a15220fef1dd8691b.jpg, /content/custom_dataset/train/labels/Tlight-753-_png_jpg.rf.f72738226a60353a15220fef1dd8691b.txt\n",
            "Deleted image and label: /content/custom_dataset/train/images/traffic-light-583-_jpg.rf.79dbc5a647ac64dd04f5597ca59f6013.jpg, /content/custom_dataset/train/labels/traffic-light-583-_jpg.rf.79dbc5a647ac64dd04f5597ca59f6013.txt\n",
            "Deleted image and label: /content/custom_dataset/train/images/Tlight-771-_png_jpg.rf.dafb0a6c45de38ff83c915758f85d5ec.jpg, /content/custom_dataset/train/labels/Tlight-771-_png_jpg.rf.dafb0a6c45de38ff83c915758f85d5ec.txt\n",
            "Deleted image and label: /content/custom_dataset/train/images/Tlight-642-_png_jpg.rf.7c5c33dd2ed03e0872e39c04d82b2d6a.jpg, /content/custom_dataset/train/labels/Tlight-642-_png_jpg.rf.7c5c33dd2ed03e0872e39c04d82b2d6a.txt\n",
            "Deleted image and label: /content/custom_dataset/train/images/tflight_001316_jpg.rf.b541b0bc48b9ea474a88789d47a76e55.jpg, /content/custom_dataset/train/labels/tflight_001316_jpg.rf.b541b0bc48b9ea474a88789d47a76e55.txt\n",
            "Deleted image and label: /content/custom_dataset/train/images/traffic-light-579-_jpg.rf.ab68ef9541d16d19e6c0c49336124557.jpg, /content/custom_dataset/train/labels/traffic-light-579-_jpg.rf.ab68ef9541d16d19e6c0c49336124557.txt\n",
            "Deleted image and label: /content/custom_dataset/train/images/Tlight-99-_png_jpg.rf.6e10f96528853610c7740c0b13202f9a.jpg, /content/custom_dataset/train/labels/Tlight-99-_png_jpg.rf.6e10f96528853610c7740c0b13202f9a.txt\n",
            "Deleted image and label: /content/custom_dataset/train/images/Tlight-63-_png_jpg.rf.38b46348c11ad47997e6b56768bd3855.jpg, /content/custom_dataset/train/labels/Tlight-63-_png_jpg.rf.38b46348c11ad47997e6b56768bd3855.txt\n",
            "Deleted image and label: /content/custom_dataset/train/images/Tlight-711-_png_jpg.rf.2efb69ba8ef05ef72297586087741b01.jpg, /content/custom_dataset/train/labels/Tlight-711-_png_jpg.rf.2efb69ba8ef05ef72297586087741b01.txt\n",
            "Deleted image and label: /content/custom_dataset/train/images/tflight_001556_jpg.rf.fdc8e98a353e60a7b002214310575890.jpg, /content/custom_dataset/train/labels/tflight_001556_jpg.rf.fdc8e98a353e60a7b002214310575890.txt\n",
            "Deleted image and label: /content/custom_dataset/train/images/traffic-light-725-_jpg.rf.9776cc3c8a9e80a5692c45678e06b8c0.jpg, /content/custom_dataset/train/labels/traffic-light-725-_jpg.rf.9776cc3c8a9e80a5692c45678e06b8c0.txt\n",
            "Deleted image and label: /content/custom_dataset/train/images/Tlight-64-_png_jpg.rf.f3d5105c4aa61567ba588d35121cbb1f.jpg, /content/custom_dataset/train/labels/Tlight-64-_png_jpg.rf.f3d5105c4aa61567ba588d35121cbb1f.txt\n",
            "Deleted image and label: /content/custom_dataset/train/images/traffic-light-837-_jpg.rf.75e97bd6120696a6aff471a3080fe9ce.jpg, /content/custom_dataset/train/labels/traffic-light-837-_jpg.rf.75e97bd6120696a6aff471a3080fe9ce.txt\n",
            "Deleted image and label: /content/custom_dataset/train/images/traffic-light-457-_jpg.rf.c64e1b2549c43b475f44559bd484a8e3.jpg, /content/custom_dataset/train/labels/traffic-light-457-_jpg.rf.c64e1b2549c43b475f44559bd484a8e3.txt\n",
            "Deleted image and label: /content/custom_dataset/train/images/Tlight-758-_png_jpg.rf.a3240cffb2d7383f551ad3c24a0a6c31.jpg, /content/custom_dataset/train/labels/Tlight-758-_png_jpg.rf.a3240cffb2d7383f551ad3c24a0a6c31.txt\n",
            "Deleted image and label: /content/custom_dataset/train/images/Tlight-1-_png_jpg.rf.304bfdf63311436fd2676222c6bbe19f.jpg, /content/custom_dataset/train/labels/Tlight-1-_png_jpg.rf.304bfdf63311436fd2676222c6bbe19f.txt\n",
            "Deleted image and label: /content/custom_dataset/train/images/traffic-light-727-_jpg.rf.fac54289943569a71c5cf42c4e753b52.jpg, /content/custom_dataset/train/labels/traffic-light-727-_jpg.rf.fac54289943569a71c5cf42c4e753b52.txt\n",
            "Deleted image and label: /content/custom_dataset/train/images/Tlight-809-_png_jpg.rf.e93c08f8a1b61aec725019888ad44c79.jpg, /content/custom_dataset/train/labels/Tlight-809-_png_jpg.rf.e93c08f8a1b61aec725019888ad44c79.txt\n",
            "Deleted image and label: /content/custom_dataset/train/images/traffic-light-803-_jpg.rf.31994015ee6deaf13f25025f4eb20e59.jpg, /content/custom_dataset/train/labels/traffic-light-803-_jpg.rf.31994015ee6deaf13f25025f4eb20e59.txt\n",
            "Deleted image and label: /content/custom_dataset/train/images/Tlight-592-_png_jpg.rf.998afe874a251f35add7162fb0e0a4c5.jpg, /content/custom_dataset/train/labels/Tlight-592-_png_jpg.rf.998afe874a251f35add7162fb0e0a4c5.txt\n",
            "Deleted image and label: /content/custom_dataset/train/images/traffic-light-750-_jpg.rf.a7342f60b5bdc0173446c2a492c619b1.jpg, /content/custom_dataset/train/labels/traffic-light-750-_jpg.rf.a7342f60b5bdc0173446c2a492c619b1.txt\n",
            "Deleted image and label: /content/custom_dataset/train/images/traffic-light-759-_jpg.rf.5d402c6b6082242bb35aee90af74dadd.jpg, /content/custom_dataset/train/labels/traffic-light-759-_jpg.rf.5d402c6b6082242bb35aee90af74dadd.txt\n",
            "Deleted image and label: /content/custom_dataset/train/images/traffic-light-920-_jpg.rf.875c49d603cf4f34c21ccd243e26617c.jpg, /content/custom_dataset/train/labels/traffic-light-920-_jpg.rf.875c49d603cf4f34c21ccd243e26617c.txt\n",
            "Deleted image and label: /content/custom_dataset/train/images/traffic-light-58-_jpg.rf.b5d32da602b65d1d453954e1d7fee34f.jpg, /content/custom_dataset/train/labels/traffic-light-58-_jpg.rf.b5d32da602b65d1d453954e1d7fee34f.txt\n",
            "Deleted image and label: /content/custom_dataset/train/images/tflight_001562_jpg.rf.e9a07230a5ca18def5fecdfb6692f47a.jpg, /content/custom_dataset/train/labels/tflight_001562_jpg.rf.e9a07230a5ca18def5fecdfb6692f47a.txt\n",
            "Deleted image and label: /content/custom_dataset/train/images/traffic-light-462-_jpg.rf.1e569be3ab3a8b75384da7df7cd47c90.jpg, /content/custom_dataset/train/labels/traffic-light-462-_jpg.rf.1e569be3ab3a8b75384da7df7cd47c90.txt\n",
            "Deleted image and label: /content/custom_dataset/train/images/traffic-light-81-_jpg.rf.d819bd6bbc46886438fc3fd1b13a8a8e.jpg, /content/custom_dataset/train/labels/traffic-light-81-_jpg.rf.d819bd6bbc46886438fc3fd1b13a8a8e.txt\n",
            "Deleted image and label: /content/custom_dataset/train/images/tflight_001540_jpg.rf.842542170e943e37893f985b0e970f4b.jpg, /content/custom_dataset/train/labels/tflight_001540_jpg.rf.842542170e943e37893f985b0e970f4b.txt\n",
            "Deleted image and label: /content/custom_dataset/train/images/traffic-light-836-_jpg.rf.b3b73080b7fdbec90c134f6147929f25.jpg, /content/custom_dataset/train/labels/traffic-light-836-_jpg.rf.b3b73080b7fdbec90c134f6147929f25.txt\n",
            "Deleted image and label: /content/custom_dataset/train/images/Tlight-685-_png_jpg.rf.591b82a9823e1d3737289ecebc3c8082.jpg, /content/custom_dataset/train/labels/Tlight-685-_png_jpg.rf.591b82a9823e1d3737289ecebc3c8082.txt\n",
            "Deleted image and label: /content/custom_dataset/train/images/traffic-light-862-_jpg.rf.7b1a45f0e2cc4eced87f626214707171.jpg, /content/custom_dataset/train/labels/traffic-light-862-_jpg.rf.7b1a45f0e2cc4eced87f626214707171.txt\n",
            "Deleted image and label: /content/custom_dataset/train/images/traffic-light-946-_jpg.rf.1a868c00fa5ca1173cac22876102e621.jpg, /content/custom_dataset/train/labels/traffic-light-946-_jpg.rf.1a868c00fa5ca1173cac22876102e621.txt\n",
            "Deleted image and label: /content/custom_dataset/train/images/Tlight-541-_png_jpg.rf.989dda99c54dca491b896ba1258d6693.jpg, /content/custom_dataset/train/labels/Tlight-541-_png_jpg.rf.989dda99c54dca491b896ba1258d6693.txt\n",
            "Deleted image and label: /content/custom_dataset/train/images/tflight_001648_jpg.rf.95289540e8b0e5061a2bc4b09303b9e1.jpg, /content/custom_dataset/train/labels/tflight_001648_jpg.rf.95289540e8b0e5061a2bc4b09303b9e1.txt\n",
            "Deleted image and label: /content/custom_dataset/train/images/traffic-light-590-_jpg.rf.0d237c4c6d71d90915e5279e02165ac6.jpg, /content/custom_dataset/train/labels/traffic-light-590-_jpg.rf.0d237c4c6d71d90915e5279e02165ac6.txt\n",
            "Deleted image and label: /content/custom_dataset/train/images/Tlight-562-_png_jpg.rf.11f0fe8838a5ee596b4bee95e10733b0.jpg, /content/custom_dataset/train/labels/Tlight-562-_png_jpg.rf.11f0fe8838a5ee596b4bee95e10733b0.txt\n",
            "Deleted image and label: /content/custom_dataset/train/images/Tlight-722-_png_jpg.rf.525989146e73f10865857870a5db371b.jpg, /content/custom_dataset/train/labels/Tlight-722-_png_jpg.rf.525989146e73f10865857870a5db371b.txt\n",
            "Deleted image and label: /content/custom_dataset/train/images/traffic-light-615-_jpg.rf.0350b903d206b712c583bc0af99280e0.jpg, /content/custom_dataset/train/labels/traffic-light-615-_jpg.rf.0350b903d206b712c583bc0af99280e0.txt\n",
            "Deleted image and label: /content/custom_dataset/train/images/Tlight-715-_png_jpg.rf.abd4f9ba41d46c1b0c0147702ec8cfca.jpg, /content/custom_dataset/train/labels/Tlight-715-_png_jpg.rf.abd4f9ba41d46c1b0c0147702ec8cfca.txt\n",
            "Deleted image and label: /content/custom_dataset/train/images/Tlight-573-_png_jpg.rf.3e538c97ff2270fd7c987b8ff65c391d.jpg, /content/custom_dataset/train/labels/Tlight-573-_png_jpg.rf.3e538c97ff2270fd7c987b8ff65c391d.txt\n",
            "Deleted image and label: /content/custom_dataset/train/images/traffic-light-757-_jpg.rf.c4e96b3ba83aa82ad1abc7f51abcde4c.jpg, /content/custom_dataset/train/labels/traffic-light-757-_jpg.rf.c4e96b3ba83aa82ad1abc7f51abcde4c.txt\n",
            "Deleted image and label: /content/custom_dataset/train/images/Tlight-717-_png_jpg.rf.3b89e01b42107f5651ce7d70b8b0d99b.jpg, /content/custom_dataset/train/labels/Tlight-717-_png_jpg.rf.3b89e01b42107f5651ce7d70b8b0d99b.txt\n",
            "Deleted image and label: /content/custom_dataset/train/images/tflight_001590_jpg.rf.cac85ddd67bba6da00ca83feec6579a1.jpg, /content/custom_dataset/train/labels/tflight_001590_jpg.rf.cac85ddd67bba6da00ca83feec6579a1.txt\n",
            "Deleted image and label: /content/custom_dataset/train/images/tflight_001199_jpg.rf.167cc3226ec799fa33a8b7b0dce05398.jpg, /content/custom_dataset/train/labels/tflight_001199_jpg.rf.167cc3226ec799fa33a8b7b0dce05398.txt\n",
            "Deleted image and label: /content/custom_dataset/train/images/traffic-light-726-_jpg.rf.cecec8d3c9816ac5876b79e3dbcf981d.jpg, /content/custom_dataset/train/labels/traffic-light-726-_jpg.rf.cecec8d3c9816ac5876b79e3dbcf981d.txt\n",
            "Deleted image and label: /content/custom_dataset/train/images/Tlight-88-_png_jpg.rf.d4b62ac46734db5ef698447815be7947.jpg, /content/custom_dataset/train/labels/Tlight-88-_png_jpg.rf.d4b62ac46734db5ef698447815be7947.txt\n",
            "Deleted image and label: /content/custom_dataset/train/images/getty_689407322_2000149320009280353_370904_jpg.rf.38d8160962e69fc9a1bd00ac47bf04c3.jpg, /content/custom_dataset/train/labels/getty_689407322_2000149320009280353_370904_jpg.rf.38d8160962e69fc9a1bd00ac47bf04c3.txt\n",
            "Deleted image and label: /content/custom_dataset/train/images/tflight_001627_jpg.rf.b80d4a8aee9b6600c3cc739b8650a63f.jpg, /content/custom_dataset/train/labels/tflight_001627_jpg.rf.b80d4a8aee9b6600c3cc739b8650a63f.txt\n",
            "Deleted image and label: /content/custom_dataset/train/images/Tlight-746-_png_jpg.rf.38d38f70be73677652eb27540727845d.jpg, /content/custom_dataset/train/labels/Tlight-746-_png_jpg.rf.38d38f70be73677652eb27540727845d.txt\n",
            "Deleted image and label: /content/custom_dataset/train/images/Tlight-664-_png_jpg.rf.06d7da8587037af8063e197fd0b8c2cf.jpg, /content/custom_dataset/train/labels/Tlight-664-_png_jpg.rf.06d7da8587037af8063e197fd0b8c2cf.txt\n",
            "Deleted image and label: /content/custom_dataset/train/images/Tlight-539-_png_jpg.rf.c27ff21b9d6abf5ffcc3223f54f3cb63.jpg, /content/custom_dataset/train/labels/Tlight-539-_png_jpg.rf.c27ff21b9d6abf5ffcc3223f54f3cb63.txt\n",
            "Deleted image and label: /content/custom_dataset/train/images/traffic-light-867-_jpg.rf.88ff4264df82a4f5f3669f6cd0fd8fc8.jpg, /content/custom_dataset/train/labels/traffic-light-867-_jpg.rf.88ff4264df82a4f5f3669f6cd0fd8fc8.txt\n",
            "Deleted image and label: /content/custom_dataset/train/images/Tlight-786-_png_jpg.rf.f951334bb4296c31874acd94c465c4a1.jpg, /content/custom_dataset/train/labels/Tlight-786-_png_jpg.rf.f951334bb4296c31874acd94c465c4a1.txt\n",
            "Deleted image and label: /content/custom_dataset/train/images/Tlight-801-_png_jpg.rf.81fa6f8ed3a6e58cf66a83c3989da72e.jpg, /content/custom_dataset/train/labels/Tlight-801-_png_jpg.rf.81fa6f8ed3a6e58cf66a83c3989da72e.txt\n",
            "Deleted image and label: /content/custom_dataset/train/images/traffic-light-760-_jpg.rf.86a706a6501a2db9ac3e7d8e90121825.jpg, /content/custom_dataset/train/labels/traffic-light-760-_jpg.rf.86a706a6501a2db9ac3e7d8e90121825.txt\n",
            "Deleted image and label: /content/custom_dataset/train/images/Tlight-731-_png_jpg.rf.0692cc11c7a7529c3f2f7bc61cb24558.jpg, /content/custom_dataset/train/labels/Tlight-731-_png_jpg.rf.0692cc11c7a7529c3f2f7bc61cb24558.txt\n",
            "Deleted image and label: /content/custom_dataset/train/images/tflight_001287_jpg.rf.06ec70419b811553357dc1fbf1de66ab.jpg, /content/custom_dataset/train/labels/tflight_001287_jpg.rf.06ec70419b811553357dc1fbf1de66ab.txt\n",
            "Deleted image and label: /content/custom_dataset/train/images/tflight_001563_jpg.rf.c24cbd52a59c3274bd6c78d3e236bf0d.jpg, /content/custom_dataset/train/labels/tflight_001563_jpg.rf.c24cbd52a59c3274bd6c78d3e236bf0d.txt\n",
            "Deleted image and label: /content/custom_dataset/train/images/tflight_001582_jpg.rf.e6d924fd3e51468beb62d467f984c2f4.jpg, /content/custom_dataset/train/labels/tflight_001582_jpg.rf.e6d924fd3e51468beb62d467f984c2f4.txt\n",
            "Deleted image and label: /content/custom_dataset/train/images/Tlight-536-_png_jpg.rf.b110c2c0b988b5ea5f5aeb448bca41e3.jpg, /content/custom_dataset/train/labels/Tlight-536-_png_jpg.rf.b110c2c0b988b5ea5f5aeb448bca41e3.txt\n",
            "Deleted image and label: /content/custom_dataset/train/images/Tlight-810-_png_jpg.rf.6a214ff759b529e13c0638400ce270c5.jpg, /content/custom_dataset/train/labels/Tlight-810-_png_jpg.rf.6a214ff759b529e13c0638400ce270c5.txt\n",
            "Deleted image and label: /content/custom_dataset/train/images/tflight_001613_jpg.rf.d1c2bdea7649e9b620e1fc431e23eec3.jpg, /content/custom_dataset/train/labels/tflight_001613_jpg.rf.d1c2bdea7649e9b620e1fc431e23eec3.txt\n",
            "Deleted image and label: /content/custom_dataset/train/images/Tlight-666-_png_jpg.rf.a34609e40dccc75469f677fbb6262f66.jpg, /content/custom_dataset/train/labels/Tlight-666-_png_jpg.rf.a34609e40dccc75469f677fbb6262f66.txt\n",
            "Deleted image and label: /content/custom_dataset/train/images/tflight_001565_jpg.rf.af10cf8800613d07e3cce97ac09b9b52.jpg, /content/custom_dataset/train/labels/tflight_001565_jpg.rf.af10cf8800613d07e3cce97ac09b9b52.txt\n",
            "Deleted image and label: /content/custom_dataset/train/images/Tlight-94-_png_jpg.rf.7e10c098e04b420e14415786e0938a56.jpg, /content/custom_dataset/train/labels/Tlight-94-_png_jpg.rf.7e10c098e04b420e14415786e0938a56.txt\n",
            "Deleted image and label: /content/custom_dataset/train/images/tflight_001322_jpg.rf.0fc861976e0da840785d3bc80fb84a07.jpg, /content/custom_dataset/train/labels/tflight_001322_jpg.rf.0fc861976e0da840785d3bc80fb84a07.txt\n",
            "Deleted image and label: /content/custom_dataset/train/images/traffic-light-745-_jpg.rf.96c8bfb0518b6695fae48d825957967a.jpg, /content/custom_dataset/train/labels/traffic-light-745-_jpg.rf.96c8bfb0518b6695fae48d825957967a.txt\n",
            "Deleted image and label: /content/custom_dataset/valid/images/traffic-light-204-_jpg.rf.b7b8e8e07eef11af0e1b5b9ebd9970ca.jpg, /content/custom_dataset/valid/labels/traffic-light-204-_jpg.rf.b7b8e8e07eef11af0e1b5b9ebd9970ca.txt\n",
            "Deleted image and label: /content/custom_dataset/valid/images/traffic-light-182-_jpg.rf.d9388e98bad6e2ce0b33ddadef128805.jpg, /content/custom_dataset/valid/labels/traffic-light-182-_jpg.rf.d9388e98bad6e2ce0b33ddadef128805.txt\n",
            "Deleted image and label: /content/custom_dataset/valid/images/traffic-light-480-_jpg.rf.a419f442a32b1bf1a90507071c0a513e.jpg, /content/custom_dataset/valid/labels/traffic-light-480-_jpg.rf.a419f442a32b1bf1a90507071c0a513e.txt\n",
            "Deleted image and label: /content/custom_dataset/valid/images/traffic-light-415-_jpg.rf.6eed4162f9043481178801d6c6b2a60e.jpg, /content/custom_dataset/valid/labels/traffic-light-415-_jpg.rf.6eed4162f9043481178801d6c6b2a60e.txt\n",
            "Deleted image and label: /content/custom_dataset/valid/images/traffic-light-627-_jpg.rf.e6926eafe64fcffc3e0668b838fb2e44.jpg, /content/custom_dataset/valid/labels/traffic-light-627-_jpg.rf.e6926eafe64fcffc3e0668b838fb2e44.txt\n",
            "Deleted image and label: /content/custom_dataset/valid/images/traffic-light-406-_jpg.rf.190f80c618f19f47ff601c86d487272e.jpg, /content/custom_dataset/valid/labels/traffic-light-406-_jpg.rf.190f80c618f19f47ff601c86d487272e.txt\n",
            "Deleted image and label: /content/custom_dataset/valid/images/images-26-_jpg.rf.f8f297939a242bbacc27e09f9d75d35d.jpg, /content/custom_dataset/valid/labels/images-26-_jpg.rf.f8f297939a242bbacc27e09f9d75d35d.txt\n",
            "Deleted image and label: /content/custom_dataset/valid/images/Tlight-607-_png_jpg.rf.fbd947f2c286570d0ae969624e48e70f.jpg, /content/custom_dataset/valid/labels/Tlight-607-_png_jpg.rf.fbd947f2c286570d0ae969624e48e70f.txt\n",
            "Deleted image and label: /content/custom_dataset/valid/images/Tlight-772-_png_jpg.rf.401f939e90dcc3a852a16fa37e047565.jpg, /content/custom_dataset/valid/labels/Tlight-772-_png_jpg.rf.401f939e90dcc3a852a16fa37e047565.txt\n",
            "Deleted image and label: /content/custom_dataset/valid/images/Tlight-704-_png_jpg.rf.10a1c25eeae9c245ad9e61518dc6cd09.jpg, /content/custom_dataset/valid/labels/Tlight-704-_png_jpg.rf.10a1c25eeae9c245ad9e61518dc6cd09.txt\n",
            "Deleted image and label: /content/custom_dataset/valid/images/Tlight-778-_png_jpg.rf.7956f5b9388b82f83b209545789e0f99.jpg, /content/custom_dataset/valid/labels/Tlight-778-_png_jpg.rf.7956f5b9388b82f83b209545789e0f99.txt\n",
            "Deleted image and label: /content/custom_dataset/valid/images/trafficlight34_png_jpg.rf.c5760b4da89550f86ce8eb7df309edde.jpg, /content/custom_dataset/valid/labels/trafficlight34_png_jpg.rf.c5760b4da89550f86ce8eb7df309edde.txt\n",
            "Deleted image and label: /content/custom_dataset/valid/images/Tlight-659-_png_jpg.rf.7fed770960fb6b2505203b1b332f8e58.jpg, /content/custom_dataset/valid/labels/Tlight-659-_png_jpg.rf.7fed770960fb6b2505203b1b332f8e58.txt\n",
            "Deleted image and label: /content/custom_dataset/valid/images/traffic-light-484-_jpg.rf.e82f9dfb9f3029d49e46f1e95acb0314.jpg, /content/custom_dataset/valid/labels/traffic-light-484-_jpg.rf.e82f9dfb9f3029d49e46f1e95acb0314.txt\n",
            "Deleted image and label: /content/custom_dataset/valid/images/traffic-light-5-_jpg.rf.ced8bbf01970217bdb3ba901716086e1.jpg, /content/custom_dataset/valid/labels/traffic-light-5-_jpg.rf.ced8bbf01970217bdb3ba901716086e1.txt\n",
            "Deleted image and label: /content/custom_dataset/valid/images/traffic-light-789-_jpg.rf.99a6259c8d354f2ceeaacf9f8fe0eecc.jpg, /content/custom_dataset/valid/labels/traffic-light-789-_jpg.rf.99a6259c8d354f2ceeaacf9f8fe0eecc.txt\n",
            "Deleted image and label: /content/custom_dataset/valid/images/traffic-light-456-_jpg.rf.9a235fd8b466332912f5bd66f991f3cb.jpg, /content/custom_dataset/valid/labels/traffic-light-456-_jpg.rf.9a235fd8b466332912f5bd66f991f3cb.txt\n",
            "Deleted image and label: /content/custom_dataset/valid/images/traffic-light-460-_jpg.rf.b39e64c965121348a29554fa7303136c.jpg, /content/custom_dataset/valid/labels/traffic-light-460-_jpg.rf.b39e64c965121348a29554fa7303136c.txt\n",
            "Deleted image and label: /content/custom_dataset/valid/images/Tlight-533-_png_jpg.rf.400bb9561a9430b7014c8ccde5a58420.jpg, /content/custom_dataset/valid/labels/Tlight-533-_png_jpg.rf.400bb9561a9430b7014c8ccde5a58420.txt\n",
            "Deleted image and label: /content/custom_dataset/valid/images/Tlight-712-_png_jpg.rf.3aaaeecfb9e5c0a0c1c909f4bf045255.jpg, /content/custom_dataset/valid/labels/Tlight-712-_png_jpg.rf.3aaaeecfb9e5c0a0c1c909f4bf045255.txt\n",
            "Deleted image and label: /content/custom_dataset/valid/images/traffic-light-295-_jpg.rf.653ad6126f38c3182b0643a47cae2ae3.jpg, /content/custom_dataset/valid/labels/traffic-light-295-_jpg.rf.653ad6126f38c3182b0643a47cae2ae3.txt\n",
            "Deleted image and label: /content/custom_dataset/valid/images/Tlight-65-_png_jpg.rf.8efddc99d7b5803f98a6cab2a262a8fa.jpg, /content/custom_dataset/valid/labels/Tlight-65-_png_jpg.rf.8efddc99d7b5803f98a6cab2a262a8fa.txt\n",
            "Deleted image and label: /content/custom_dataset/valid/images/trafficlight25_png_jpg.rf.121c1d2e02a5177b9760b3fba17c5dc5.jpg, /content/custom_dataset/valid/labels/trafficlight25_png_jpg.rf.121c1d2e02a5177b9760b3fba17c5dc5.txt\n",
            "Deleted image and label: /content/custom_dataset/valid/images/traffic-light-247-_jpg.rf.e9f7ca733b36758354c037f30ed4d953.jpg, /content/custom_dataset/valid/labels/traffic-light-247-_jpg.rf.e9f7ca733b36758354c037f30ed4d953.txt\n",
            "Deleted image and label: /content/custom_dataset/valid/images/traffic-light-835-_jpg.rf.83eccfbb66ad11b335d30b7e9db99dc2.jpg, /content/custom_dataset/valid/labels/traffic-light-835-_jpg.rf.83eccfbb66ad11b335d30b7e9db99dc2.txt\n",
            "Deleted image and label: /content/custom_dataset/valid/images/traffic-light-397-_jpg.rf.056e8d2cbaab7396cf87e751afd81259.jpg, /content/custom_dataset/valid/labels/traffic-light-397-_jpg.rf.056e8d2cbaab7396cf87e751afd81259.txt\n",
            "Deleted image and label: /content/custom_dataset/valid/images/Tlight-805-_png_jpg.rf.8f6cac288b346ed753b9f4397533ac90.jpg, /content/custom_dataset/valid/labels/Tlight-805-_png_jpg.rf.8f6cac288b346ed753b9f4397533ac90.txt\n",
            "Deleted image and label: /content/custom_dataset/valid/images/images-2-_jpg.rf.1e6261813a19bd7ec67f75c162335a21.jpg, /content/custom_dataset/valid/labels/images-2-_jpg.rf.1e6261813a19bd7ec67f75c162335a21.txt\n",
            "Deleted image and label: /content/custom_dataset/valid/images/Tlight-687-_png_jpg.rf.ca04b7329fdffa42e0b50be8e773c589.jpg, /content/custom_dataset/valid/labels/Tlight-687-_png_jpg.rf.ca04b7329fdffa42e0b50be8e773c589.txt\n",
            "Deleted image and label: /content/custom_dataset/valid/images/red-light-29399189_jpg.rf.d94d325513a925a51747549b418aed76.jpg, /content/custom_dataset/valid/labels/red-light-29399189_jpg.rf.d94d325513a925a51747549b418aed76.txt\n",
            "Deleted image and label: /content/custom_dataset/valid/images/Tlight-675-_png_jpg.rf.cac73518ac67326605b84297482eebab.jpg, /content/custom_dataset/valid/labels/Tlight-675-_png_jpg.rf.cac73518ac67326605b84297482eebab.txt\n",
            "Deleted image and label: /content/custom_dataset/valid/images/traffic-light-357-_jpg.rf.3e52d71a95c99d6e02d098bd2cc9b0e2.jpg, /content/custom_dataset/valid/labels/traffic-light-357-_jpg.rf.3e52d71a95c99d6e02d098bd2cc9b0e2.txt\n",
            "Deleted image and label: /content/custom_dataset/valid/images/traffic-light-598-_jpg.rf.f99756bb8b4861e7a53380debc986bd8.jpg, /content/custom_dataset/valid/labels/traffic-light-598-_jpg.rf.f99756bb8b4861e7a53380debc986bd8.txt\n",
            "Deleted image and label: /content/custom_dataset/valid/images/traffic-light-332-_jpg.rf.ba4ee085708a8e7ca1e49f2708de71f9.jpg, /content/custom_dataset/valid/labels/traffic-light-332-_jpg.rf.ba4ee085708a8e7ca1e49f2708de71f9.txt\n",
            "Deleted image and label: /content/custom_dataset/valid/images/traffic-light-635-_jpg.rf.c771a3fce79e4da710e1d3d21874aae1.jpg, /content/custom_dataset/valid/labels/traffic-light-635-_jpg.rf.c771a3fce79e4da710e1d3d21874aae1.txt\n",
            "Deleted image and label: /content/custom_dataset/valid/images/Tlight-604-_png_jpg.rf.69b1924dc0c2646d2f7243803d5a95c0.jpg, /content/custom_dataset/valid/labels/Tlight-604-_png_jpg.rf.69b1924dc0c2646d2f7243803d5a95c0.txt\n",
            "Deleted image and label: /content/custom_dataset/valid/images/trafficlight149_png_jpg.rf.c3c4e068c790fa38bb8d513cc0c81f65.jpg, /content/custom_dataset/valid/labels/trafficlight149_png_jpg.rf.c3c4e068c790fa38bb8d513cc0c81f65.txt\n",
            "Deleted image and label: /content/custom_dataset/valid/images/Tlight-713-_png_jpg.rf.794ea4059bc56ab151df4f67a7b18345.jpg, /content/custom_dataset/valid/labels/Tlight-713-_png_jpg.rf.794ea4059bc56ab151df4f67a7b18345.txt\n",
            "Deleted image and label: /content/custom_dataset/valid/images/images-25-_jpg.rf.e7cb7c06c7d93e506ecc94ff11f6594b.jpg, /content/custom_dataset/valid/labels/images-25-_jpg.rf.e7cb7c06c7d93e506ecc94ff11f6594b.txt\n",
            "Deleted image and label: /content/custom_dataset/valid/images/trafficlight168_png_jpg.rf.a705ce959378290991eb4663e8fbc4a6.jpg, /content/custom_dataset/valid/labels/trafficlight168_png_jpg.rf.a705ce959378290991eb4663e8fbc4a6.txt\n",
            "Deleted image and label: /content/custom_dataset/valid/images/traffic-light-429-_jpg.rf.0c5c2aea4c8f54914d5f8f7257c20aa0.jpg, /content/custom_dataset/valid/labels/traffic-light-429-_jpg.rf.0c5c2aea4c8f54914d5f8f7257c20aa0.txt\n",
            "Deleted image and label: /content/custom_dataset/valid/images/trafficlight173_png_jpg.rf.26f309fc5bb921fe2395776114fa617f.jpg, /content/custom_dataset/valid/labels/trafficlight173_png_jpg.rf.26f309fc5bb921fe2395776114fa617f.txt\n",
            "Deleted image and label: /content/custom_dataset/valid/images/trafficlight160_png_jpg.rf.e928b438719725bc212925f23a58fc16.jpg, /content/custom_dataset/valid/labels/trafficlight160_png_jpg.rf.e928b438719725bc212925f23a58fc16.txt\n",
            "Deleted image and label: /content/custom_dataset/valid/images/Tlight-723-_png_jpg.rf.d505817fd0e8524a638dc51e6d6e56c9.jpg, /content/custom_dataset/valid/labels/Tlight-723-_png_jpg.rf.d505817fd0e8524a638dc51e6d6e56c9.txt\n",
            "Deleted image and label: /content/custom_dataset/valid/images/Tlight-551-_png_jpg.rf.044775c252f716fa4d8ddacb542485bd.jpg, /content/custom_dataset/valid/labels/Tlight-551-_png_jpg.rf.044775c252f716fa4d8ddacb542485bd.txt\n",
            "Deleted image and label: /content/custom_dataset/valid/images/Tlight-584-_png_jpg.rf.9fd750435c7086aed5340748e4dfb258.jpg, /content/custom_dataset/valid/labels/Tlight-584-_png_jpg.rf.9fd750435c7086aed5340748e4dfb258.txt\n",
            "Deleted image and label: /content/custom_dataset/valid/images/Tlight-558-_png_jpg.rf.76bd7323bedfae92d05dba165802618f.jpg, /content/custom_dataset/valid/labels/Tlight-558-_png_jpg.rf.76bd7323bedfae92d05dba165802618f.txt\n",
            "Deleted image and label: /content/custom_dataset/valid/images/Tlight-760-_png_jpg.rf.288f95447da77ddf20051f5ba386aea5.jpg, /content/custom_dataset/valid/labels/Tlight-760-_png_jpg.rf.288f95447da77ddf20051f5ba386aea5.txt\n",
            "Deleted image and label: /content/custom_dataset/valid/images/traffic-light-929-_jpg.rf.56d4ab6ac6591004e54c6f3474910d68.jpg, /content/custom_dataset/valid/labels/traffic-light-929-_jpg.rf.56d4ab6ac6591004e54c6f3474910d68.txt\n",
            "Deleted image and label: /content/custom_dataset/valid/images/1650160-AA_DSC_5781_jpg.rf.0ed656517157f1d843f36169003a30c4.jpg, /content/custom_dataset/valid/labels/1650160-AA_DSC_5781_jpg.rf.0ed656517157f1d843f36169003a30c4.txt\n",
            "Deleted image and label: /content/custom_dataset/valid/images/traffic-light-586-_jpg.rf.8545bcde09b81b89bfb483426b740cf4.jpg, /content/custom_dataset/valid/labels/traffic-light-586-_jpg.rf.8545bcde09b81b89bfb483426b740cf4.txt\n",
            "Deleted image and label: /content/custom_dataset/valid/images/traffic-light-446-_jpg.rf.771dc7255b9f170e154a2bbccc08d9c8.jpg, /content/custom_dataset/valid/labels/traffic-light-446-_jpg.rf.771dc7255b9f170e154a2bbccc08d9c8.txt\n",
            "Deleted image and label: /content/custom_dataset/valid/images/83c834ad-86ce-461e-a63a-716565eb9f17_png_jpg.rf.976f9ade09e186da4666cf520285b7ae.jpg, /content/custom_dataset/valid/labels/83c834ad-86ce-461e-a63a-716565eb9f17_png_jpg.rf.976f9ade09e186da4666cf520285b7ae.txt\n",
            "Deleted image and label: /content/custom_dataset/valid/images/Tlight-739-_png_jpg.rf.0d6faf43fccc47e5ea4d13f6b4b21adb.jpg, /content/custom_dataset/valid/labels/Tlight-739-_png_jpg.rf.0d6faf43fccc47e5ea4d13f6b4b21adb.txt\n",
            "Deleted image and label: /content/custom_dataset/valid/images/traffic-light-118-_jpg.rf.cdce5cc0a006d823a13ec182ccaf415a.jpg, /content/custom_dataset/valid/labels/traffic-light-118-_jpg.rf.cdce5cc0a006d823a13ec182ccaf415a.txt\n",
            "Deleted image and label: /content/custom_dataset/valid/images/Tlight-632-_png_jpg.rf.d13e2e3a7c162a0f3171289d9ff440b0.jpg, /content/custom_dataset/valid/labels/Tlight-632-_png_jpg.rf.d13e2e3a7c162a0f3171289d9ff440b0.txt\n",
            "Deleted image and label: /content/custom_dataset/valid/images/Tlight-583-_png_jpg.rf.378523788f4b14b00bcabe562962d7c5.jpg, /content/custom_dataset/valid/labels/Tlight-583-_png_jpg.rf.378523788f4b14b00bcabe562962d7c5.txt\n",
            "Deleted image and label: /content/custom_dataset/valid/images/trafficlight194_png_jpg.rf.9f922b0bd427efb3642bd9ee7f8562a2.jpg, /content/custom_dataset/valid/labels/trafficlight194_png_jpg.rf.9f922b0bd427efb3642bd9ee7f8562a2.txt\n",
            "Deleted image and label: /content/custom_dataset/valid/images/traffic-light-204-_jpg.rf.c61d719e4bddb91c9b72a4321cc2dc7a.jpg, /content/custom_dataset/valid/labels/traffic-light-204-_jpg.rf.c61d719e4bddb91c9b72a4321cc2dc7a.txt\n",
            "Deleted image and label: /content/custom_dataset/valid/images/trafficlight24_png_jpg.rf.75f6516f072280dc2a44724dea0ca77a.jpg, /content/custom_dataset/valid/labels/trafficlight24_png_jpg.rf.75f6516f072280dc2a44724dea0ca77a.txt\n",
            "Deleted image and label: /content/custom_dataset/valid/images/traffic-light-419-_jpg.rf.a8929b2102a2e8314f4ecab0d9ff2308.jpg, /content/custom_dataset/valid/labels/traffic-light-419-_jpg.rf.a8929b2102a2e8314f4ecab0d9ff2308.txt\n",
            "Deleted image and label: /content/custom_dataset/valid/images/Tlight-792-_png_jpg.rf.adb6aa739f55f0c040df941f7e8f17f3.jpg, /content/custom_dataset/valid/labels/Tlight-792-_png_jpg.rf.adb6aa739f55f0c040df941f7e8f17f3.txt\n",
            "Deleted image and label: /content/custom_dataset/valid/images/trafficlight102_png_jpg.rf.993c8a6950f0c5ac3ca5fd2ed841bb2a.jpg, /content/custom_dataset/valid/labels/trafficlight102_png_jpg.rf.993c8a6950f0c5ac3ca5fd2ed841bb2a.txt\n",
            "Deleted image and label: /content/custom_dataset/valid/images/traffic-light-121-_jpg.rf.53cbd9dea0e9ad643b412251f61b3ba5.jpg, /content/custom_dataset/valid/labels/traffic-light-121-_jpg.rf.53cbd9dea0e9ad643b412251f61b3ba5.txt\n",
            "Deleted image and label: /content/custom_dataset/valid/images/trafficlight180_png_jpg.rf.5fbb144d448249fbc00872a6ac2f15a7.jpg, /content/custom_dataset/valid/labels/trafficlight180_png_jpg.rf.5fbb144d448249fbc00872a6ac2f15a7.txt\n",
            "Deleted image and label: /content/custom_dataset/valid/images/images-32-_jpg.rf.fb4efc6d5aeed6c88a9b068b3dc8cae5.jpg, /content/custom_dataset/valid/labels/images-32-_jpg.rf.fb4efc6d5aeed6c88a9b068b3dc8cae5.txt\n",
            "Deleted image and label: /content/custom_dataset/valid/images/Tlight-729-_png_jpg.rf.c262492c0a4da458fd107ba75dfdeb99.jpg, /content/custom_dataset/valid/labels/Tlight-729-_png_jpg.rf.c262492c0a4da458fd107ba75dfdeb99.txt\n",
            "Deleted image and label: /content/custom_dataset/valid/images/trafficlight123_png_jpg.rf.1f914a1fd79d2816f2020dcf9c6a1404.jpg, /content/custom_dataset/valid/labels/trafficlight123_png_jpg.rf.1f914a1fd79d2816f2020dcf9c6a1404.txt\n",
            "Deleted image and label: /content/custom_dataset/valid/images/traffic-light-169-_jpg.rf.50d8aa4a488803cdddb1472f079bc54f.jpg, /content/custom_dataset/valid/labels/traffic-light-169-_jpg.rf.50d8aa4a488803cdddb1472f079bc54f.txt\n",
            "Deleted image and label: /content/custom_dataset/valid/images/tflight_001157_jpg.rf.fe22fec66b62c847742f63fd14f0ed83.jpg, /content/custom_dataset/valid/labels/tflight_001157_jpg.rf.fe22fec66b62c847742f63fd14f0ed83.txt\n",
            "Deleted image and label: /content/custom_dataset/valid/images/traffic-light-445-_jpg.rf.3ecf72ba178a5398a91046053a0a42db.jpg, /content/custom_dataset/valid/labels/traffic-light-445-_jpg.rf.3ecf72ba178a5398a91046053a0a42db.txt\n",
            "Deleted image and label: /content/custom_dataset/valid/images/Tlight-759-_png_jpg.rf.d313a21e7d1c6a9a92bd3acf26aad557.jpg, /content/custom_dataset/valid/labels/Tlight-759-_png_jpg.rf.d313a21e7d1c6a9a92bd3acf26aad557.txt\n",
            "Deleted image and label: /content/custom_dataset/valid/images/traffic-light-315-_jpg.rf.8c11015cbff10d4d18650d73126f51c2.jpg, /content/custom_dataset/valid/labels/traffic-light-315-_jpg.rf.8c11015cbff10d4d18650d73126f51c2.txt\n",
            "Deleted image and label: /content/custom_dataset/valid/images/Tlight-621-_png_jpg.rf.f08128167fe696fd57f91600db1ecded.jpg, /content/custom_dataset/valid/labels/Tlight-621-_png_jpg.rf.f08128167fe696fd57f91600db1ecded.txt\n",
            "Deleted image and label: /content/custom_dataset/valid/images/Tlight-84-_png_jpg.rf.80b8c9dccfa06f001ff02f62b8fcc673.jpg, /content/custom_dataset/valid/labels/Tlight-84-_png_jpg.rf.80b8c9dccfa06f001ff02f62b8fcc673.txt\n",
            "Deleted image and label: /content/custom_dataset/valid/images/Tlight-658-_png_jpg.rf.f4f90d5d8c6d92cf2f4c68bd0a77634b.jpg, /content/custom_dataset/valid/labels/Tlight-658-_png_jpg.rf.f4f90d5d8c6d92cf2f4c68bd0a77634b.txt\n",
            "Deleted image and label: /content/custom_dataset/valid/images/trafficlight195_png_jpg.rf.71ea9ddd8136dca939a7e98737e48ed0.jpg, /content/custom_dataset/valid/labels/trafficlight195_png_jpg.rf.71ea9ddd8136dca939a7e98737e48ed0.txt\n",
            "Deleted image and label: /content/custom_dataset/valid/images/vec1677605687_png_jpg.rf.6b35a9f13ffbc50d5bd72c474d493a1a.jpg, /content/custom_dataset/valid/labels/vec1677605687_png_jpg.rf.6b35a9f13ffbc50d5bd72c474d493a1a.txt\n",
            "Deleted image and label: /content/custom_dataset/valid/images/84cee1006a4fcf16a7893a1e463632df2e354a7f2b_jpg.rf.944a61e91afea292fc2cd923f025225d.jpg, /content/custom_dataset/valid/labels/84cee1006a4fcf16a7893a1e463632df2e354a7f2b_jpg.rf.944a61e91afea292fc2cd923f025225d.txt\n",
            "Deleted image and label: /content/custom_dataset/valid/images/traffic-light-39-_jpg.rf.fa1758021d15cb8d5f7089372d7cb491.jpg, /content/custom_dataset/valid/labels/traffic-light-39-_jpg.rf.fa1758021d15cb8d5f7089372d7cb491.txt\n",
            "Deleted image and label: /content/custom_dataset/valid/images/Tlight-767-_png_jpg.rf.f67b23eb695e1ca060a6debb7686d6db.jpg, /content/custom_dataset/valid/labels/Tlight-767-_png_jpg.rf.f67b23eb695e1ca060a6debb7686d6db.txt\n",
            "Deleted image and label: /content/custom_dataset/valid/images/traffic-light-251-_jpg.rf.e239aae0a923cc21d5d3ecab897f2844.jpg, /content/custom_dataset/valid/labels/traffic-light-251-_jpg.rf.e239aae0a923cc21d5d3ecab897f2844.txt\n",
            "Deleted image and label: /content/custom_dataset/valid/images/Tlight-644-_png_jpg.rf.ca707f7c32b8e157e8846818464c9cd5.jpg, /content/custom_dataset/valid/labels/Tlight-644-_png_jpg.rf.ca707f7c32b8e157e8846818464c9cd5.txt\n",
            "Deleted image and label: /content/custom_dataset/valid/images/traffic-light-433-_jpg.rf.a544e6c7f51f9a4551ca76d4633cc057.jpg, /content/custom_dataset/valid/labels/traffic-light-433-_jpg.rf.a544e6c7f51f9a4551ca76d4633cc057.txt\n",
            "Deleted image and label: /content/custom_dataset/valid/images/Tlight-721-_png_jpg.rf.619e9a933c652b9af712a47ff1fe5068.jpg, /content/custom_dataset/valid/labels/Tlight-721-_png_jpg.rf.619e9a933c652b9af712a47ff1fe5068.txt\n",
            "Deleted image and label: /content/custom_dataset/valid/images/traffic-light-109-_jpg.rf.04b8c119986fd60cdca2fc60467122ce.jpg, /content/custom_dataset/valid/labels/traffic-light-109-_jpg.rf.04b8c119986fd60cdca2fc60467122ce.txt\n",
            "Deleted image and label: /content/custom_dataset/valid/images/traffic-light-280-_jpg.rf.ba63537ead07a228768c604a8e79eda5.jpg, /content/custom_dataset/valid/labels/traffic-light-280-_jpg.rf.ba63537ead07a228768c604a8e79eda5.txt\n",
            "Deleted image and label: /content/custom_dataset/valid/images/Tlight-782-_png_jpg.rf.2e0f14eaf1d1af949fd1bd1c4928cea2.jpg, /content/custom_dataset/valid/labels/Tlight-782-_png_jpg.rf.2e0f14eaf1d1af949fd1bd1c4928cea2.txt\n",
            "Deleted image and label: /content/custom_dataset/valid/images/Tlight-724-_png_jpg.rf.8e23f40617a135eef82313d172efbb42.jpg, /content/custom_dataset/valid/labels/Tlight-724-_png_jpg.rf.8e23f40617a135eef82313d172efbb42.txt\n",
            "Deleted image and label: /content/custom_dataset/valid/images/trafficlight41_png_jpg.rf.04583672a4bd353c2f4577743715d61d.jpg, /content/custom_dataset/valid/labels/trafficlight41_png_jpg.rf.04583672a4bd353c2f4577743715d61d.txt\n",
            "Deleted image and label: /content/custom_dataset/valid/images/traffic-light-137-_jpg.rf.88c06bd9343bbb7e72d94aa70f7d209a.jpg, /content/custom_dataset/valid/labels/traffic-light-137-_jpg.rf.88c06bd9343bbb7e72d94aa70f7d209a.txt\n",
            "Deleted image and label: /content/custom_dataset/valid/images/traffic-light-12-_jpg.rf.996544a6b6bbb5355e52451bb3359fd8.jpg, /content/custom_dataset/valid/labels/traffic-light-12-_jpg.rf.996544a6b6bbb5355e52451bb3359fd8.txt\n",
            "Deleted image and label: /content/custom_dataset/valid/images/trafficlight33_png_jpg.rf.9d0e68921c8af9af97cfff0823a781bf.jpg, /content/custom_dataset/valid/labels/trafficlight33_png_jpg.rf.9d0e68921c8af9af97cfff0823a781bf.txt\n",
            "Deleted image and label: /content/custom_dataset/valid/images/1106653_jpg.rf.389752fe5b5765e9a509119f6f3ca3f5.jpg, /content/custom_dataset/valid/labels/1106653_jpg.rf.389752fe5b5765e9a509119f6f3ca3f5.txt\n",
            "Deleted image and label: /content/custom_dataset/valid/images/traffic-light-351-_jpg.rf.dd75f3e4191430b4b04a1407a3e8b4db.jpg, /content/custom_dataset/valid/labels/traffic-light-351-_jpg.rf.dd75f3e4191430b4b04a1407a3e8b4db.txt\n",
            "Deleted image and label: /content/custom_dataset/valid/images/Tlight-69-_png_jpg.rf.2a8e83796c1f33e68a42b5c1b7c73385.jpg, /content/custom_dataset/valid/labels/Tlight-69-_png_jpg.rf.2a8e83796c1f33e68a42b5c1b7c73385.txt\n",
            "Deleted image and label: /content/custom_dataset/valid/images/trafficlight191_png_jpg.rf.efb7511ef6c5499e95ca93b5344670e2.jpg, /content/custom_dataset/valid/labels/trafficlight191_png_jpg.rf.efb7511ef6c5499e95ca93b5344670e2.txt\n",
            "Deleted image and label: /content/custom_dataset/valid/images/trafficlight201_png_jpg.rf.9d36408bdc8441060e1fc87daffc10fa.jpg, /content/custom_dataset/valid/labels/trafficlight201_png_jpg.rf.9d36408bdc8441060e1fc87daffc10fa.txt\n",
            "Deleted image and label: /content/custom_dataset/valid/images/traffic-light-811-_jpg.rf.d80db631b2a52a5fa05741149410c2b7.jpg, /content/custom_dataset/valid/labels/traffic-light-811-_jpg.rf.d80db631b2a52a5fa05741149410c2b7.txt\n",
            "Deleted image and label: /content/custom_dataset/valid/images/traffic-light-469-_jpg.rf.02d1a777d04c0d876609d7134198faa3.jpg, /content/custom_dataset/valid/labels/traffic-light-469-_jpg.rf.02d1a777d04c0d876609d7134198faa3.txt\n",
            "Deleted image and label: /content/custom_dataset/valid/images/traffic-light-345-_jpg.rf.12275e715bf90cf9d21f41c0205742e5.jpg, /content/custom_dataset/valid/labels/traffic-light-345-_jpg.rf.12275e715bf90cf9d21f41c0205742e5.txt\n",
            "Deleted image and label: /content/custom_dataset/valid/images/345562662-gallery_jpg.rf.9be4b9bede9f0b14ce0e38cc2a184e78.jpg, /content/custom_dataset/valid/labels/345562662-gallery_jpg.rf.9be4b9bede9f0b14ce0e38cc2a184e78.txt\n",
            "Deleted image and label: /content/custom_dataset/valid/images/trafficlight2_png_jpg.rf.3186746cfcf4c572967a0b938209b5c8.jpg, /content/custom_dataset/valid/labels/trafficlight2_png_jpg.rf.3186746cfcf4c572967a0b938209b5c8.txt\n",
            "Deleted image and label: /content/custom_dataset/valid/images/traffic-light-261-_jpg.rf.7103f77ebecfe3aacf34250bbede29ed.jpg, /content/custom_dataset/valid/labels/traffic-light-261-_jpg.rf.7103f77ebecfe3aacf34250bbede29ed.txt\n",
            "Deleted image and label: /content/custom_dataset/valid/images/traffic-light-257-_jpg.rf.df151b34d534253592ee858a666e9733.jpg, /content/custom_dataset/valid/labels/traffic-light-257-_jpg.rf.df151b34d534253592ee858a666e9733.txt\n",
            "Deleted image and label: /content/custom_dataset/valid/images/Tlight-68-_png_jpg.rf.5681080bad5c88500ef9ce9bf08adb18.jpg, /content/custom_dataset/valid/labels/Tlight-68-_png_jpg.rf.5681080bad5c88500ef9ce9bf08adb18.txt\n",
            "Deleted image and label: /content/custom_dataset/valid/images/traffic-light-135-_jpg.rf.f14742e90f86cc59c33aabc4cc868b4c.jpg, /content/custom_dataset/valid/labels/traffic-light-135-_jpg.rf.f14742e90f86cc59c33aabc4cc868b4c.txt\n",
            "Deleted image and label: /content/custom_dataset/valid/images/traffic-light-207-_jpg.rf.b60c089e26b31717bc29213920c9c7c6.jpg, /content/custom_dataset/valid/labels/traffic-light-207-_jpg.rf.b60c089e26b31717bc29213920c9c7c6.txt\n",
            "Deleted image and label: /content/custom_dataset/valid/images/traffic-light-445-_jpg.rf.ed0375f8e8405b6c526b20a9b1ff2b5a.jpg, /content/custom_dataset/valid/labels/traffic-light-445-_jpg.rf.ed0375f8e8405b6c526b20a9b1ff2b5a.txt\n",
            "Deleted image and label: /content/custom_dataset/valid/images/trafficlight154_png_jpg.rf.aa212d6b33c9f59af78b7ed1ac5fd6de.jpg, /content/custom_dataset/valid/labels/trafficlight154_png_jpg.rf.aa212d6b33c9f59af78b7ed1ac5fd6de.txt\n",
            "Deleted image and label: /content/custom_dataset/valid/images/traffic-light-18-_jpg.rf.b38ab4535581c76ba164bb864d3bd502.jpg, /content/custom_dataset/valid/labels/traffic-light-18-_jpg.rf.b38ab4535581c76ba164bb864d3bd502.txt\n",
            "Deleted image and label: /content/custom_dataset/valid/images/traffic-light-355-_jpg.rf.d5c63a5b0fd4a4e3063abdc08c22f01e.jpg, /content/custom_dataset/valid/labels/traffic-light-355-_jpg.rf.d5c63a5b0fd4a4e3063abdc08c22f01e.txt\n",
            "Deleted image and label: /content/custom_dataset/valid/images/traffic-light-436-_jpg.rf.9aee348deeccbe0363fdb0607adb0e37.jpg, /content/custom_dataset/valid/labels/traffic-light-436-_jpg.rf.9aee348deeccbe0363fdb0607adb0e37.txt\n",
            "Deleted image and label: /content/custom_dataset/valid/images/Tlight-806-_png_jpg.rf.136159cc4965bdd368db4b55cfbcc4f0.jpg, /content/custom_dataset/valid/labels/Tlight-806-_png_jpg.rf.136159cc4965bdd368db4b55cfbcc4f0.txt\n",
            "Deleted image and label: /content/custom_dataset/valid/images/Tlight-67-_png_jpg.rf.75917cff97641462253e0513bba194db.jpg, /content/custom_dataset/valid/labels/Tlight-67-_png_jpg.rf.75917cff97641462253e0513bba194db.txt\n",
            "Deleted image and label: /content/custom_dataset/valid/images/traffic-light-174-_jpg.rf.7eb7945ec028a8e4bd8623857654cca8.jpg, /content/custom_dataset/valid/labels/traffic-light-174-_jpg.rf.7eb7945ec028a8e4bd8623857654cca8.txt\n",
            "Deleted image and label: /content/custom_dataset/valid/images/traffic-light-21-_jpg.rf.bd8030a89aa6f24eb27e6093f2ef8f76.jpg, /content/custom_dataset/valid/labels/traffic-light-21-_jpg.rf.bd8030a89aa6f24eb27e6093f2ef8f76.txt\n",
            "Deleted image and label: /content/custom_dataset/valid/images/traffic-light-259-_jpg.rf.820f06bbbb29007333a98ab8c2940955.jpg, /content/custom_dataset/valid/labels/traffic-light-259-_jpg.rf.820f06bbbb29007333a98ab8c2940955.txt\n",
            "Deleted image and label: /content/custom_dataset/valid/images/Tlight-614-_png_jpg.rf.b25237e351c15073cd05fe42d01d0fee.jpg, /content/custom_dataset/valid/labels/Tlight-614-_png_jpg.rf.b25237e351c15073cd05fe42d01d0fee.txt\n",
            "Deleted image and label: /content/custom_dataset/valid/images/Tlight-587-_png_jpg.rf.5fd20d5d4a1141f738fc0ef18528ad45.jpg, /content/custom_dataset/valid/labels/Tlight-587-_png_jpg.rf.5fd20d5d4a1141f738fc0ef18528ad45.txt\n",
            "Deleted image and label: /content/custom_dataset/valid/images/traffic-light-248-_jpg.rf.4fdf14bea5f3201d15fcff41e312f4a0.jpg, /content/custom_dataset/valid/labels/traffic-light-248-_jpg.rf.4fdf14bea5f3201d15fcff41e312f4a0.txt\n",
            "Deleted image and label: /content/custom_dataset/valid/images/traffic-light-814-_jpg.rf.f1ab66290553870b4288e27af2dc141f.jpg, /content/custom_dataset/valid/labels/traffic-light-814-_jpg.rf.f1ab66290553870b4288e27af2dc141f.txt\n",
            "Deleted image and label: /content/custom_dataset/valid/images/trafficlight42_png_jpg.rf.397c6be7ed689d7f8f1d51f3a346753a.jpg, /content/custom_dataset/valid/labels/trafficlight42_png_jpg.rf.397c6be7ed689d7f8f1d51f3a346753a.txt\n",
            "Deleted image and label: /content/custom_dataset/valid/images/Tlight-586-_png_jpg.rf.34a6ce8659e9db6fdf84ffe76405aaf0.jpg, /content/custom_dataset/valid/labels/Tlight-586-_png_jpg.rf.34a6ce8659e9db6fdf84ffe76405aaf0.txt\n",
            "Deleted image and label: /content/custom_dataset/valid/images/trafficlight135_png_jpg.rf.565b3ac8589f73014d1f107a867f65d1.jpg, /content/custom_dataset/valid/labels/trafficlight135_png_jpg.rf.565b3ac8589f73014d1f107a867f65d1.txt\n",
            "Deleted image and label: /content/custom_dataset/valid/images/traffic-light-red-blue-sky-background-129686955_jpg.rf.3f52ea369f185bc43d067ebb7c721f04.jpg, /content/custom_dataset/valid/labels/traffic-light-red-blue-sky-background-129686955_jpg.rf.3f52ea369f185bc43d067ebb7c721f04.txt\n",
            "Deleted image and label: /content/custom_dataset/valid/images/traffic-light-310-_jpg.rf.3734b281ad6961cf04689828edf9eba1.jpg, /content/custom_dataset/valid/labels/traffic-light-310-_jpg.rf.3734b281ad6961cf04689828edf9eba1.txt\n",
            "Deleted image and label: /content/custom_dataset/valid/images/trafficlight10_png_jpg.rf.80ba753ebfc3acd5380f6ed592fe62fc.jpg, /content/custom_dataset/valid/labels/trafficlight10_png_jpg.rf.80ba753ebfc3acd5380f6ed592fe62fc.txt\n",
            "Deleted image and label: /content/custom_dataset/valid/images/Tlight-625-_png_jpg.rf.69f187ec5e31f9ad33417ff08ddbce02.jpg, /content/custom_dataset/valid/labels/Tlight-625-_png_jpg.rf.69f187ec5e31f9ad33417ff08ddbce02.txt\n",
            "Deleted image and label: /content/custom_dataset/valid/images/Tlight-741-_png_jpg.rf.5d96f858bd960fc5fe00e76694da3f84.jpg, /content/custom_dataset/valid/labels/Tlight-741-_png_jpg.rf.5d96f858bd960fc5fe00e76694da3f84.txt\n",
            "Deleted image and label: /content/custom_dataset/valid/images/trafficlight170_png_jpg.rf.2d6c5c594e1d9e53d02a92e30fa40a33.jpg, /content/custom_dataset/valid/labels/trafficlight170_png_jpg.rf.2d6c5c594e1d9e53d02a92e30fa40a33.txt\n",
            "Deleted image and label: /content/custom_dataset/valid/images/Tlight-630-_png_jpg.rf.a557108e71014e2a78926d1283265db3.jpg, /content/custom_dataset/valid/labels/Tlight-630-_png_jpg.rf.a557108e71014e2a78926d1283265db3.txt\n",
            "Deleted image and label: /content/custom_dataset/valid/images/Tlight-671-_png_jpg.rf.bc942c0d9abfc894db1d39ea83f8ad95.jpg, /content/custom_dataset/valid/labels/Tlight-671-_png_jpg.rf.bc942c0d9abfc894db1d39ea83f8ad95.txt\n",
            "Deleted image and label: /content/custom_dataset/valid/images/Tlight-601-_png_jpg.rf.1579d4e88c5aed4405c29ee9b24623a9.jpg, /content/custom_dataset/valid/labels/Tlight-601-_png_jpg.rf.1579d4e88c5aed4405c29ee9b24623a9.txt\n",
            "Deleted image and label: /content/custom_dataset/valid/images/Tlight-803-_png_jpg.rf.e9877f4f561c6b90f62137e73efe672c.jpg, /content/custom_dataset/valid/labels/Tlight-803-_png_jpg.rf.e9877f4f561c6b90f62137e73efe672c.txt\n",
            "Deleted image and label: /content/custom_dataset/valid/images/trafficlight11_png_jpg.rf.7b0319cb9e244de217abe16d82e89844.jpg, /content/custom_dataset/valid/labels/trafficlight11_png_jpg.rf.7b0319cb9e244de217abe16d82e89844.txt\n",
            "Deleted image and label: /content/custom_dataset/valid/images/Tlight-75-_png_jpg.rf.76514e26c30c4241a9b2ef37b1a8afec.jpg, /content/custom_dataset/valid/labels/Tlight-75-_png_jpg.rf.76514e26c30c4241a9b2ef37b1a8afec.txt\n",
            "Deleted image and label: /content/custom_dataset/valid/images/traffic-light-207-_jpg.rf.3ff57c33b72f079dfcf2b111ef6c2b91.jpg, /content/custom_dataset/valid/labels/traffic-light-207-_jpg.rf.3ff57c33b72f079dfcf2b111ef6c2b91.txt\n",
            "Deleted image and label: /content/custom_dataset/valid/images/Tlight-808-_png_jpg.rf.442ad13af9b3f2f4bf31dce19c2c18c8.jpg, /content/custom_dataset/valid/labels/Tlight-808-_png_jpg.rf.442ad13af9b3f2f4bf31dce19c2c18c8.txt\n",
            "Deleted image and label: /content/custom_dataset/valid/images/Screenshot-2022-05-18-012935_png_jpg.rf.7ab48e5b3b69e8e6c2e11c89599e217a.jpg, /content/custom_dataset/valid/labels/Screenshot-2022-05-18-012935_png_jpg.rf.7ab48e5b3b69e8e6c2e11c89599e217a.txt\n",
            "Deleted image and label: /content/custom_dataset/valid/images/traffic-light-776-_jpg.rf.bee16bcc6938d459337c59a30b6949f0.jpg, /content/custom_dataset/valid/labels/traffic-light-776-_jpg.rf.bee16bcc6938d459337c59a30b6949f0.txt\n",
            "Deleted image and label: /content/custom_dataset/valid/images/traffic-light-302-_jpg.rf.7b968403afc25c9b84b37a85e17b9f9d.jpg, /content/custom_dataset/valid/labels/traffic-light-302-_jpg.rf.7b968403afc25c9b84b37a85e17b9f9d.txt\n",
            "Deleted image and label: /content/custom_dataset/valid/images/Tlight-742-_png_jpg.rf.66322e13466e5667b048909949c13a6c.jpg, /content/custom_dataset/valid/labels/Tlight-742-_png_jpg.rf.66322e13466e5667b048909949c13a6c.txt\n",
            "Deleted image and label: /content/custom_dataset/valid/images/trafficlight157_png_jpg.rf.0e4375d885d01c7264f731ea253ef360.jpg, /content/custom_dataset/valid/labels/trafficlight157_png_jpg.rf.0e4375d885d01c7264f731ea253ef360.txt\n",
            "Deleted image and label: /content/custom_dataset/valid/images/traffic-light-385-_jpg.rf.3cbaf50334de46f7c03953eb9be29b9a.jpg, /content/custom_dataset/valid/labels/traffic-light-385-_jpg.rf.3cbaf50334de46f7c03953eb9be29b9a.txt\n",
            "Deleted image and label: /content/custom_dataset/valid/images/Tlight-750-_png_jpg.rf.7cb12f08abbaf18c71b8f342f6018245.jpg, /content/custom_dataset/valid/labels/Tlight-750-_png_jpg.rf.7cb12f08abbaf18c71b8f342f6018245.txt\n",
            "Deleted image and label: /content/custom_dataset/valid/images/Tlight-761-_png_jpg.rf.44076de68b0e4db980714323c566d7a1.jpg, /content/custom_dataset/valid/labels/Tlight-761-_png_jpg.rf.44076de68b0e4db980714323c566d7a1.txt\n",
            "Deleted image and label: /content/custom_dataset/valid/images/Tlight-547-_png_jpg.rf.d62a7d24b38fc0e38b9d8b859030e0b2.jpg, /content/custom_dataset/valid/labels/Tlight-547-_png_jpg.rf.d62a7d24b38fc0e38b9d8b859030e0b2.txt\n",
            "Deleted image and label: /content/custom_dataset/valid/images/traffic-light-178-_jpg.rf.da92db0e705679a902ea75a80eae690c.jpg, /content/custom_dataset/valid/labels/traffic-light-178-_jpg.rf.da92db0e705679a902ea75a80eae690c.txt\n",
            "Deleted image and label: /content/custom_dataset/valid/images/traffic-light-396-_jpg.rf.bf543cef42f7c6b71fda45201e328f48.jpg, /content/custom_dataset/valid/labels/traffic-light-396-_jpg.rf.bf543cef42f7c6b71fda45201e328f48.txt\n",
            "Deleted image and label: /content/custom_dataset/valid/images/traffic-light-18-_jpg.rf.847dafb5a8967c474106943e450ae65c.jpg, /content/custom_dataset/valid/labels/traffic-light-18-_jpg.rf.847dafb5a8967c474106943e450ae65c.txt\n",
            "Deleted image and label: /content/custom_dataset/valid/images/traffic-light-183-_jpg.rf.7058c5891877a84df53013053ef9a407.jpg, /content/custom_dataset/valid/labels/traffic-light-183-_jpg.rf.7058c5891877a84df53013053ef9a407.txt\n",
            "Deleted image and label: /content/custom_dataset/valid/images/traffic-light-329-_jpg.rf.d90e01949d7bf37497d3d2257aa21f0c.jpg, /content/custom_dataset/valid/labels/traffic-light-329-_jpg.rf.d90e01949d7bf37497d3d2257aa21f0c.txt\n",
            "Deleted image and label: /content/custom_dataset/valid/images/trafficlight167_png_jpg.rf.a5614ed1fa5b16ec94542bf4eb14e2ea.jpg, /content/custom_dataset/valid/labels/trafficlight167_png_jpg.rf.a5614ed1fa5b16ec94542bf4eb14e2ea.txt\n",
            "Deleted image and label: /content/custom_dataset/valid/images/traffic-light-179-_jpg.rf.20a91a58803b6c3aace728502d74881a.jpg, /content/custom_dataset/valid/labels/traffic-light-179-_jpg.rf.20a91a58803b6c3aace728502d74881a.txt\n",
            "Deleted image and label: /content/custom_dataset/valid/images/traffic-light-171-_jpg.rf.b6a09b76c17921f1fffa5e6d122c3602.jpg, /content/custom_dataset/valid/labels/traffic-light-171-_jpg.rf.b6a09b76c17921f1fffa5e6d122c3602.txt\n",
            "Deleted image and label: /content/custom_dataset/valid/images/Tlight-608-_png_jpg.rf.d110fdb370deb79790a17cf9632eab21.jpg, /content/custom_dataset/valid/labels/Tlight-608-_png_jpg.rf.d110fdb370deb79790a17cf9632eab21.txt\n",
            "Deleted image and label: /content/custom_dataset/test/images/article-1388711-00533F3D00000258-208_1024x615_large_jpg.rf.f04d908c47eb7c4e60a5fdcf99036cf7.jpg, /content/custom_dataset/test/labels/article-1388711-00533F3D00000258-208_1024x615_large_jpg.rf.f04d908c47eb7c4e60a5fdcf99036cf7.txt\n",
            "Deleted image and label: /content/custom_dataset/test/images/images-22-_jpg.rf.14e05bcb0445cf34b8a885862854a70d.jpg, /content/custom_dataset/test/labels/images-22-_jpg.rf.14e05bcb0445cf34b8a885862854a70d.txt\n",
            "Deleted image and label: /content/custom_dataset/test/images/ampeln-rot-grun-400-75677667_jpg.rf.fc8b21a4f22639bbd676dc400e3bcc9d.jpg, /content/custom_dataset/test/labels/ampeln-rot-grun-400-75677667_jpg.rf.fc8b21a4f22639bbd676dc400e3bcc9d.txt\n",
            "Deleted image and label: /content/custom_dataset/test/images/istockphoto-577633002-612x612_jpg.rf.d85542a783b1f85489517c083a73b528.jpg, /content/custom_dataset/test/labels/istockphoto-577633002-612x612_jpg.rf.d85542a783b1f85489517c083a73b528.txt\n",
            "Deleted image and label: /content/custom_dataset/test/images/200px-Mellor_traffic_lights_in_Donaghmede_Dublin_-_Coppermine_-_15568_jpg.rf.d9dc88173d09ed881a3cfe474a1f6124.jpg, /content/custom_dataset/test/labels/200px-Mellor_traffic_lights_in_Donaghmede_Dublin_-_Coppermine_-_15568_jpg.rf.d9dc88173d09ed881a3cfe474a1f6124.txt\n",
            "Deleted image and label: /content/custom_dataset/test/images/images-31-_jpg.rf.7777b170f467e689499d8601ba54c738.jpg, /content/custom_dataset/test/labels/images-31-_jpg.rf.7777b170f467e689499d8601ba54c738.txt\n",
            "Deleted image and label: /content/custom_dataset/test/images/Stop_Light_Wide_jpg.rf.56cefb0417d93ed4727bea9184284cf5.jpg, /content/custom_dataset/test/labels/Stop_Light_Wide_jpg.rf.56cefb0417d93ed4727bea9184284cf5.txt\n",
            "Deleted image and label: /content/custom_dataset/test/images/images-19-_jpg.rf.10b8ffe20de47e2807a6601729e3b50d.jpg, /content/custom_dataset/test/labels/images-19-_jpg.rf.10b8ffe20de47e2807a6601729e3b50d.txt\n",
            "Deleted image and label: /content/custom_dataset/test/images/images-27-_jpg.rf.d72ca4ca0ded15876123f996eb7f5ed7.jpg, /content/custom_dataset/test/labels/images-27-_jpg.rf.d72ca4ca0ded15876123f996eb7f5ed7.txt\n",
            "Deleted image and label: /content/custom_dataset/test/images/27094_ac46a6db2fed4cb98884d053d31a48a1_1541525900_jpeg_jpg.rf.42722480d2ec3759cbfa3de8d8024bd7.jpg, /content/custom_dataset/test/labels/27094_ac46a6db2fed4cb98884d053d31a48a1_1541525900_jpeg_jpg.rf.42722480d2ec3759cbfa3de8d8024bd7.txt\n",
            "Deleted image and label: /content/custom_dataset/test/images/images-28-_jpg.rf.0b3550130b010fcdbe8efbbafa764b70.jpg, /content/custom_dataset/test/labels/images-28-_jpg.rf.0b3550130b010fcdbe8efbbafa764b70.txt\n",
            "Deleted image and label: /content/custom_dataset/test/images/istockphoto-950322682-612x612_jpg.rf.ad3b900e00ddec2081491e62f3505d17.jpg, /content/custom_dataset/test/labels/istockphoto-950322682-612x612_jpg.rf.ad3b900e00ddec2081491e62f3505d17.txt\n",
            "Deleted image and label: /content/custom_dataset/test/images/images-5-_jpg.rf.81dce563d948dfcdcfb732fc2df07cba.jpg, /content/custom_dataset/test/labels/images-5-_jpg.rf.81dce563d948dfcdcfb732fc2df07cba.txt\n",
            "Deleted image and label: /content/custom_dataset/test/images/istockphoto-693406474-170667a_jpg.rf.9220bd6f62467e05a37ed4b6074e4825.jpg, /content/custom_dataset/test/labels/istockphoto-693406474-170667a_jpg.rf.9220bd6f62467e05a37ed4b6074e4825.txt\n",
            "Deleted image and label: /content/custom_dataset/test/images/how-trafic-lights-works_jpg.rf.957ad353033da500e70406cc9d3e6aed.jpg, /content/custom_dataset/test/labels/how-trafic-lights-works_jpg.rf.957ad353033da500e70406cc9d3e6aed.txt\n",
            "Deleted image and label: /content/custom_dataset/test/images/images-7-_jpg.rf.512202c5a42762b0f49690329c35a83b.jpg, /content/custom_dataset/test/labels/images-7-_jpg.rf.512202c5a42762b0f49690329c35a83b.txt\n",
            "Deleted image and label: /content/custom_dataset/test/images/istockphoto-950322678-612x612_jpg.rf.91b0dd6b2a3e74b745a5da61b7053705.jpg, /content/custom_dataset/test/labels/istockphoto-950322678-612x612_jpg.rf.91b0dd6b2a3e74b745a5da61b7053705.txt\n",
            "Deleted image and label: /content/custom_dataset/test/images/149618483_-cvqHzFbDImpN8g7aASZ3A3AdSesfjz8timij-u9Gww_jpg.rf.d0667eeb9a641c2fa5a2baecb0a8dbd0.jpg, /content/custom_dataset/test/labels/149618483_-cvqHzFbDImpN8g7aASZ3A3AdSesfjz8timij-u9Gww_jpg.rf.d0667eeb9a641c2fa5a2baecb0a8dbd0.txt\n",
            "Deleted image and label: /content/custom_dataset/test/images/ratio3x2_400_jpg.rf.6e2bef09cc2071ed3ce4bf48eb91f2a5.jpg, /content/custom_dataset/test/labels/ratio3x2_400_jpg.rf.6e2bef09cc2071ed3ce4bf48eb91f2a5.txt\n",
            "Deleted image and label: /content/custom_dataset/test/images/1200x0_jpg.rf.6e7b425c836d75340b8ce23aaeaa1600.jpg, /content/custom_dataset/test/labels/1200x0_jpg.rf.6e7b425c836d75340b8ce23aaeaa1600.txt\n",
            "Deleted image and label: /content/custom_dataset/test/images/images-17-_jpg.rf.888803d4b4eeca28a14b21d9bb441ee8.jpg, /content/custom_dataset/test/labels/images-17-_jpg.rf.888803d4b4eeca28a14b21d9bb441ee8.txt\n",
            "Deleted image and label: /content/custom_dataset/test/images/201807_05_batterypt_sandybayrd_b68_stgeorgestce_jpg.rf.6aafdb8ec12e5a12e17a303fe5db6175.jpg, /content/custom_dataset/test/labels/201807_05_batterypt_sandybayrd_b68_stgeorgestce_jpg.rf.6aafdb8ec12e5a12e17a303fe5db6175.txt\n",
            "Deleted image and label: /content/custom_dataset/test/images/Sig_3173-e1572460133885_jpg.rf.ecaa091a633fbf4f8aa78fc7631d236d.jpg, /content/custom_dataset/test/labels/Sig_3173-e1572460133885_jpg.rf.ecaa091a633fbf4f8aa78fc7631d236d.txt\n",
            "Deleted image and label: /content/custom_dataset/test/images/a5377a24-3ce7-4741-9142-6fd73b2597d7_scaled_jpg.rf.35f392a67a910e1809c5857121db15ae.jpg, /content/custom_dataset/test/labels/a5377a24-3ce7-4741-9142-6fd73b2597d7_scaled_jpg.rf.35f392a67a910e1809c5857121db15ae.txt\n",
            "Deleted image and label: /content/custom_dataset/test/images/tflight_001206_jpg.rf.b977e36305b079009f4876a20e5a7d63.jpg, /content/custom_dataset/test/labels/tflight_001206_jpg.rf.b977e36305b079009f4876a20e5a7d63.txt\n",
            "Deleted image and label: /content/custom_dataset/test/images/images-38-_jpg.rf.14934ffff8415340c41452ec725e54c5.jpg, /content/custom_dataset/test/labels/images-38-_jpg.rf.14934ffff8415340c41452ec725e54c5.txt\n",
            "Deleted image and label: /content/custom_dataset/test/images/tflight_001114_jpg.rf.02d778577d10f3b5e85d6f1afc739eb0.jpg, /content/custom_dataset/test/labels/tflight_001114_jpg.rf.02d778577d10f3b5e85d6f1afc739eb0.txt\n",
            "Deleted image and label: /content/custom_dataset/test/images/images-9-_jpg.rf.636e5211e85211602d84c7a790234ead.jpg, /content/custom_dataset/test/labels/images-9-_jpg.rf.636e5211e85211602d84c7a790234ead.txt\n",
            "Deleted image and label: /content/custom_dataset/test/images/images-34-_jpg.rf.9c444101dc48291be5e79b122cd70884.jpg, /content/custom_dataset/test/labels/images-34-_jpg.rf.9c444101dc48291be5e79b122cd70884.txt\n",
            "Deleted image and label: /content/custom_dataset/test/images/istockphoto-1253851745-612x612_jpg.rf.c506842354c207dbae33a894968496dd.jpg, /content/custom_dataset/test/labels/istockphoto-1253851745-612x612_jpg.rf.c506842354c207dbae33a894968496dd.txt\n",
            "Deleted image and label: /content/custom_dataset/test/images/4182bd07c99a3c7e300162a30b38a02a_jpg.rf.691a315bbe6e51280dd54b2a2df89755.jpg, /content/custom_dataset/test/labels/4182bd07c99a3c7e300162a30b38a02a_jpg.rf.691a315bbe6e51280dd54b2a2df89755.txt\n",
            "Deleted image and label: /content/custom_dataset/test/images/tflight_001143_jpg.rf.31d2d741c9868d165b8638987ccb584f.jpg, /content/custom_dataset/test/labels/tflight_001143_jpg.rf.31d2d741c9868d165b8638987ccb584f.txt\n",
            "Deleted image and label: /content/custom_dataset/test/images/images-1-_jpg.rf.356c6583ceebe7f5d4d62bcdafbbb762.jpg, /content/custom_dataset/test/labels/images-1-_jpg.rf.356c6583ceebe7f5d4d62bcdafbbb762.txt\n",
            "Deleted image and label: /content/custom_dataset/test/images/tflight_001522_jpg.rf.f6000986780ccc75ea209a3e77079180.jpg, /content/custom_dataset/test/labels/tflight_001522_jpg.rf.f6000986780ccc75ea209a3e77079180.txt\n",
            "Deleted image and label: /content/custom_dataset/test/images/images-8-_jpg.rf.7681257de7781f44dca954bc4f17e6a2.jpg, /content/custom_dataset/test/labels/images-8-_jpg.rf.7681257de7781f44dca954bc4f17e6a2.txt\n",
            "Deleted image and label: /content/custom_dataset/test/images/depositphotos_107649870-stock-photo-red-traffic-signal-on-the_jpg.rf.40bf0019a2e942bfd1cd059666c10d77.jpg, /content/custom_dataset/test/labels/depositphotos_107649870-stock-photo-red-traffic-signal-on-the_jpg.rf.40bf0019a2e942bfd1cd059666c10d77.txt\n",
            "Deleted image and label: /content/custom_dataset/test/images/05-wilson-main4_jpg.rf.03b150c3a761fe0174da4acc9e1f4a60.jpg, /content/custom_dataset/test/labels/05-wilson-main4_jpg.rf.03b150c3a761fe0174da4acc9e1f4a60.txt\n",
            "Deleted image and label: /content/custom_dataset/test/images/images-37-_jpg.rf.007b011c97727a4342eafd23f6dd02e4.jpg, /content/custom_dataset/test/labels/images-37-_jpg.rf.007b011c97727a4342eafd23f6dd02e4.txt\n",
            "Deleted image and label: /content/custom_dataset/test/images/images-29-_jpg.rf.23dd57692eaea08c8a982e5dde38e079.jpg, /content/custom_dataset/test/labels/images-29-_jpg.rf.23dd57692eaea08c8a982e5dde38e079.txt\n",
            "Deleted image and label: /content/custom_dataset/test/images/KJP6QLO6BVB3BD3BG4244DWFQA_jpg.rf.669dc187a894791725ea60de159376cf.jpg, /content/custom_dataset/test/labels/KJP6QLO6BVB3BD3BG4244DWFQA_jpg.rf.669dc187a894791725ea60de159376cf.txt\n",
            "Deleted image and label: /content/custom_dataset/test/images/images-21-_jpg.rf.6c2038f09e62d19ef6008f355f7c2200.jpg, /content/custom_dataset/test/labels/images-21-_jpg.rf.6c2038f09e62d19ef6008f355f7c2200.txt\n",
            "Deleted image and label: /content/custom_dataset/test/images/images-11-_jpg.rf.22dc413d7f39c657f37d625ac0c0f1f4.jpg, /content/custom_dataset/test/labels/images-11-_jpg.rf.22dc413d7f39c657f37d625ac0c0f1f4.txt\n",
            "Deleted image and label: /content/custom_dataset/test/images/image004_jpg.rf.6bdc2b6947a98790168aab3f9f5f6b97.jpg, /content/custom_dataset/test/labels/image004_jpg.rf.6bdc2b6947a98790168aab3f9f5f6b97.txt\n",
            "Deleted image and label: /content/custom_dataset/test/images/200px-Lwr_Mount_Street_by_the_Grand_Canal-_Dublin-_-_Coppermine_-_4671_jpg.rf.a8b64c2450c7ff867ebff9975d2fc8f8.jpg, /content/custom_dataset/test/labels/200px-Lwr_Mount_Street_by_the_Grand_Canal-_Dublin-_-_Coppermine_-_4671_jpg.rf.a8b64c2450c7ff867ebff9975d2fc8f8.txt\n",
            "Deleted image and label: /content/custom_dataset/test/images/1133906_1_seoimage4x3_ie-171930_4c347c2a65894020b6deba9136e6ea95_jpg.rf.bb44a9b20c5a5d36143d6b9b568e45a2.jpg, /content/custom_dataset/test/labels/1133906_1_seoimage4x3_ie-171930_4c347c2a65894020b6deba9136e6ea95_jpg.rf.bb44a9b20c5a5d36143d6b9b568e45a2.txt\n",
            "Deleted image and label: /content/custom_dataset/test/images/images_jpg.rf.e5e7217d014a7ec20f29d698befd659b.jpg, /content/custom_dataset/test/labels/images_jpg.rf.e5e7217d014a7ec20f29d698befd659b.txt\n",
            "Deleted image and label: /content/custom_dataset/test/images/images-36-_jpg.rf.9b6d03de9d6c280e520f7303edc55afd.jpg, /content/custom_dataset/test/labels/images-36-_jpg.rf.9b6d03de9d6c280e520f7303edc55afd.txt\n",
            "Deleted image and label: /content/custom_dataset/test/images/tflight_001240_jpg.rf.6766ecd1c5a3e09258d37ecace03916d.jpg, /content/custom_dataset/test/labels/tflight_001240_jpg.rf.6766ecd1c5a3e09258d37ecace03916d.txt\n",
            "Deleted image and label: /content/custom_dataset/test/images/0_ACP_HDE_150216Bwork_06_jpg.rf.4449d2cca43d3c54cdf7aeb4ea56c13c.jpg, /content/custom_dataset/test/labels/0_ACP_HDE_150216Bwork_06_jpg.rf.4449d2cca43d3c54cdf7aeb4ea56c13c.txt\n",
            "Deleted image and label: /content/custom_dataset/test/images/images-12-_jpg.rf.ba9400a7b8ff1e659805235c913a6f20.jpg, /content/custom_dataset/test/labels/images-12-_jpg.rf.ba9400a7b8ff1e659805235c913a6f20.txt\n",
            "Deleted image and label: /content/custom_dataset/test/images/images-30-_jpg.rf.3ac8e09e4fad0896da1959a4bc1a4e67.jpg, /content/custom_dataset/test/labels/images-30-_jpg.rf.3ac8e09e4fad0896da1959a4bc1a4e67.txt\n"
          ]
        }
      ],
      "source": [
        "# 4. Download and prepare custom dataset\n",
        "\n",
        "print(\"Downloading custom dataset...\")\n",
        "custom_data_url = 'https://universe.roboflow.com/ds/Cs162RZWTo?key=lhgZJythPK'\n",
        "custom_zip_path = f'{dataset_dir}/Traffic_Light.zip'\n",
        "if not os.path.exists(custom_zip_path):\n",
        "    response = requests.get(custom_data_url, stream=True)\n",
        "    with open(custom_zip_path, 'wb') as f:\n",
        "        for chunk in response.iter_content(chunk_size=1024):\n",
        "            if chunk:\n",
        "                f.write(chunk)\n",
        "    print(\"Download complete.\")\n",
        "\n",
        "    # Extract custom dataset\n",
        "    print(\"Extracting custom dataset...\")\n",
        "    with zipfile.ZipFile(custom_zip_path, 'r') as zip_ref:\n",
        "        zip_ref.extractall(dataset_dir)\n",
        "    print(\"Extraction complete.\")\n",
        "else:\n",
        "    print(\"Custom dataset already exists.\")\n",
        "\n",
        "# Map class IDs for custom dataset: 0 -> green pedestrian light, 1 -> red pedestrian light\n",
        "# Label `2` (traffic light) will be ignored and corresponding images deleted\n",
        "class_mapping = {0: 0, 1: 1}  # Only keep classes 0 and 1\n",
        "\n",
        "# Function to filter out unwanted labels (e.g., traffic_light) and remove images without valid labels\n",
        "def filter_and_adjust_annotations_and_images(images_dir, annotations_dir, class_mapping):\n",
        "    \"\"\"\n",
        "    Filters out unwanted labels (e.g., traffic_light) and removes images without valid labels.\n",
        "    \"\"\"\n",
        "    for label_filename in os.listdir(annotations_dir):\n",
        "        if label_filename.endswith('.txt'):\n",
        "            label_path = os.path.join(annotations_dir, label_filename)\n",
        "            with open(label_path, 'r') as f:\n",
        "                lines = f.readlines()\n",
        "\n",
        "            # Filter and remap valid labels\n",
        "            new_lines = []\n",
        "            for line in lines:\n",
        "                tokens = line.strip().split()\n",
        "                current_class = int(tokens[0])\n",
        "                if current_class in class_mapping:\n",
        "                    tokens[0] = str(class_mapping[current_class])  # Remap class if necessary\n",
        "                    new_lines.append(' '.join(tokens) + '\\n')\n",
        "\n",
        "            # If no valid labels remain, delete the label file and corresponding image\n",
        "            if not new_lines:\n",
        "                os.remove(label_path)\n",
        "                # Delete the corresponding image file\n",
        "                image_filename = os.path.splitext(label_filename)[0] + '.jpg'\n",
        "                image_path = os.path.join(images_dir, image_filename)\n",
        "                if os.path.exists(image_path):\n",
        "                    os.remove(image_path)\n",
        "                    print(f\"Deleted image and label: {image_path}, {label_path}\")\n",
        "            else:\n",
        "                # Save the filtered labels\n",
        "                with open(label_path, 'w') as f:\n",
        "                    f.writelines(new_lines)\n",
        "\n",
        "# Apply label filtering and adjustment\n",
        "# Apply filtering to train, valid, and test datasets\n",
        "for split in ['train', 'valid', 'test']:\n",
        "    filter_and_adjust_annotations_and_images(\n",
        "        f'{dataset_dir}/{split}/images',\n",
        "        f'{dataset_dir}/{split}/labels',\n",
        "        class_mapping\n",
        "    )"
      ]
    },
    {
      "cell_type": "code",
      "execution_count": null,
      "metadata": {
        "colab": {
          "base_uri": "https://localhost:8080/"
        },
        "id": "1ohP3bRE26_x",
        "outputId": "884262bf-4e4c-4a78-f8ea-d82af6e365b3"
      },
      "outputs": [
        {
          "output_type": "stream",
          "name": "stdout",
          "text": [
            "Starting download and extraction...\n",
            "Downloading http://images.cocodataset.org/annotations/annotations_trainval2017.zip...\n"
          ]
        },
        {
          "output_type": "stream",
          "name": "stderr",
          "text": [
            "Downloading annotations_trainval2017.zip: 100%|██████████| 241M/241M [00:05<00:00, 47.9MB/s]\n"
          ]
        },
        {
          "output_type": "stream",
          "name": "stdout",
          "text": [
            "Downloaded /content/custom_dataset/annotations_trainval2017.zip.\n",
            "Extracting /content/custom_dataset/annotations_trainval2017.zip...\n"
          ]
        },
        {
          "output_type": "stream",
          "name": "stderr",
          "text": [
            "Extracting annotations_trainval2017.zip: 100%|██████████| 6/6 [00:06<00:00,  1.11s/it]\n"
          ]
        },
        {
          "output_type": "stream",
          "name": "stdout",
          "text": [
            "Extracted to /content/custom_dataset/annotations.\n",
            "Downloading http://images.cocodataset.org/zips/train2017.zip...\n"
          ]
        },
        {
          "output_type": "stream",
          "name": "stderr",
          "text": [
            "Downloading train2017.zip: 100%|██████████| 18.0G/18.0G [05:59<00:00, 53.7MB/s]\n"
          ]
        },
        {
          "output_type": "stream",
          "name": "stdout",
          "text": [
            "Downloaded /content/custom_dataset/train2017.zip.\n",
            "Extracting /content/custom_dataset/train2017.zip...\n"
          ]
        },
        {
          "output_type": "stream",
          "name": "stderr",
          "text": [
            "Extracting train2017.zip: 100%|██████████| 118288/118288 [01:17<00:00, 1521.63it/s]\n"
          ]
        },
        {
          "output_type": "stream",
          "name": "stdout",
          "text": [
            "Extracted to /content/custom_dataset/train2017.\n",
            "Downloading http://images.cocodataset.org/zips/val2017.zip...\n"
          ]
        },
        {
          "output_type": "stream",
          "name": "stderr",
          "text": [
            "Downloading val2017.zip: 100%|██████████| 778M/778M [00:14<00:00, 56.0MB/s]\n"
          ]
        },
        {
          "output_type": "stream",
          "name": "stdout",
          "text": [
            "Downloaded /content/custom_dataset/val2017.zip.\n",
            "Extracting /content/custom_dataset/val2017.zip...\n"
          ]
        },
        {
          "output_type": "stream",
          "name": "stderr",
          "text": [
            "Extracting val2017.zip: 100%|██████████| 5001/5001 [00:02<00:00, 2300.81it/s]"
          ]
        },
        {
          "output_type": "stream",
          "name": "stdout",
          "text": [
            "Extracted to /content/custom_dataset/val2017.\n",
            "All downloads and extractions complete.\n"
          ]
        },
        {
          "output_type": "stream",
          "name": "stderr",
          "text": [
            "\n"
          ]
        }
      ],
      "source": [
        "# Define dataset directory\n",
        "dataset_dir = '/content/custom_dataset'\n",
        "os.makedirs(dataset_dir, exist_ok=True)\n",
        "\n",
        "# List of files to download and extract\n",
        "downloads = [\n",
        "    {\n",
        "        'url': 'http://images.cocodataset.org/annotations/annotations_trainval2017.zip',\n",
        "        'dest': f'{dataset_dir}/annotations_trainval2017.zip',\n",
        "        'extract_dir': f'{dataset_dir}/annotations'\n",
        "    },\n",
        "    {\n",
        "        'url': 'http://images.cocodataset.org/zips/train2017.zip',\n",
        "        'dest': f'{dataset_dir}/train2017.zip',\n",
        "        'extract_dir': f'{dataset_dir}/train2017'\n",
        "    },\n",
        "    {\n",
        "        'url': 'http://images.cocodataset.org/zips/val2017.zip',\n",
        "        'dest': f'{dataset_dir}/val2017.zip',\n",
        "        'extract_dir': f'{dataset_dir}/val2017'\n",
        "    }\n",
        "]\n",
        "\n",
        "# Download function with file existence check\n",
        "def download_file(url, destination):\n",
        "    if os.path.exists(destination):  # Check if file already exists\n",
        "        print(f\"File already exists: {destination}\")\n",
        "        return\n",
        "    print(f\"Downloading {url}...\")\n",
        "    with requests.get(url, stream=True) as response:\n",
        "        total_size = int(response.headers.get('content-length', 0))\n",
        "        with open(destination, 'wb') as f, tqdm(\n",
        "            desc=f\"Downloading {os.path.basename(destination)}\",\n",
        "            total=total_size,\n",
        "            unit='B',\n",
        "            unit_scale=True,\n",
        "            unit_divisor=1024,\n",
        "        ) as bar:\n",
        "            for chunk in response.iter_content(chunk_size=1024):\n",
        "                f.write(chunk)\n",
        "                bar.update(len(chunk))\n",
        "    print(f\"Downloaded {destination}.\")\n",
        "\n",
        "# Extract function with directory existence check\n",
        "def extract_zip(source, destination):\n",
        "    if os.path.exists(destination):  # Check if directory already exists\n",
        "        print(f\"Directory already exists: {destination}\")\n",
        "        return\n",
        "    print(f\"Extracting {source}...\")\n",
        "    with zipfile.ZipFile(source, 'r') as zip_ref:\n",
        "        file_list = zip_ref.namelist()\n",
        "        with tqdm(total=len(file_list), desc=f\"Extracting {os.path.basename(source)}\") as bar:\n",
        "            for file in file_list:\n",
        "                zip_ref.extract(file, destination)\n",
        "                bar.update(1)\n",
        "    print(f\"Extracted to {destination}.\")\n",
        "\n",
        "# Sequential download and extraction\n",
        "print(\"Starting download and extraction...\")\n",
        "for item in downloads:\n",
        "    try:\n",
        "        # Download file\n",
        "        download_file(item['url'], item['dest'])\n",
        "        # Extract file\n",
        "        extract_zip(item['dest'], item['extract_dir'])\n",
        "    except Exception as e:\n",
        "        print(f\"Error processing {item['url']}: {e}\")\n",
        "\n",
        "print(\"All downloads and extractions complete.\")"
      ]
    },
    {
      "cell_type": "code",
      "execution_count": null,
      "metadata": {
        "id": "h7ImzXVM25hD",
        "colab": {
          "base_uri": "https://localhost:8080/"
        },
        "outputId": "f9823f1f-8a3c-4ea5-89e1-2040ed0a293c"
      },
      "outputs": [
        {
          "output_type": "stream",
          "name": "stdout",
          "text": [
            "loading annotations into memory...\n",
            "Done (t=18.66s)\n",
            "creating index...\n",
            "index created!\n",
            "loading annotations into memory...\n",
            "Done (t=0.61s)\n",
            "creating index...\n",
            "index created!\n",
            "Saving filtered COCO train data...\n",
            "Saving filtered COCO validation data...\n",
            "Data saved successfully.\n"
          ]
        }
      ],
      "source": [
        "# Set dataset paths\n",
        "dataset_dir = \"/content/custom_dataset\"\n",
        "train_images_dir = os.path.join(dataset_dir, \"train2017\", \"train2017\")  # Nested train2017 folder\n",
        "val_images_dir = os.path.join(dataset_dir, \"val2017\", \"val2017\")        # Nested val2017 folder\n",
        "\n",
        "# Load COCO datasets\n",
        "coco_train = COCO(os.path.join(dataset_dir, 'annotations', 'annotations', 'instances_train2017.json'))\n",
        "coco_val = COCO(os.path.join(dataset_dir, 'annotations', 'annotations', 'instances_val2017.json'))\n",
        "\n",
        "# Filter classes and create class ID mapping\n",
        "coco_classes = ['bicycle', 'car', 'motorcycle', 'bus']  # Target classes\n",
        "category_ids = coco_train.getCatIds(catNms=coco_classes)  # Get category IDs for selected classes\n",
        "category_mapping = {cat_id: idx + 2 for idx, cat_id in enumerate(category_ids)}  # Map category IDs to YOLO IDs (starting from 2)\n",
        "\n",
        "# Function to filter image IDs containing the target categories\n",
        "def collect_filtered_ids(coco, category_ids):\n",
        "    filtered_ids = set()  # Use a set to avoid duplicate IDs\n",
        "    for cat_id in category_ids:\n",
        "        img_ids = coco.getImgIds(catIds=[cat_id])  # Get image IDs for the category\n",
        "        filtered_ids.update(img_ids)  # Add image IDs to the set\n",
        "    return list(filtered_ids)\n",
        "\n",
        "# Filter image IDs for train and validation datasets\n",
        "filtered_train_ids = collect_filtered_ids(coco_train, category_ids)\n",
        "filtered_val_ids = collect_filtered_ids(coco_val, category_ids)\n",
        "\n",
        "# Convert COCO annotations to YOLO format\n",
        "def convert_to_yolo_format(coco, img_id, category_ids, category_mapping):\n",
        "    annotations = coco.loadAnns(coco.getAnnIds(imgIds=img_id, catIds=category_ids))  # Load annotations for the image\n",
        "    img_info = coco.loadImgs(img_id)[0]  # Load image info\n",
        "    width, height = img_info['width'], img_info['height']  # Image dimensions\n",
        "    yolo_annotations = []\n",
        "\n",
        "    for ann in annotations:\n",
        "        cat_id = ann['category_id']  # COCO category ID\n",
        "        yolo_class_id = category_mapping[cat_id]  # Map to YOLO class ID\n",
        "        bbox = ann['bbox']  # Bounding box in COCO format [x_min, y_min, width, height]\n",
        "        x_center = (bbox[0] + bbox[2] / 2) / width  # YOLO x_center (normalized)\n",
        "        y_center = (bbox[1] + bbox[3] / 2) / height  # YOLO y_center (normalized)\n",
        "        w = bbox[2] / width  # YOLO width (normalized)\n",
        "        h = bbox[3] / height  # YOLO height (normalized)\n",
        "        yolo_annotations.append(f\"{yolo_class_id} {x_center:.6f} {y_center:.6f} {w:.6f} {h:.6f}\\n\")  # YOLO format\n",
        "\n",
        "    return yolo_annotations\n",
        "\n",
        "# Save COCO data in YOLO format\n",
        "def save_coco_data(coco, img_ids, image_dir, label_dir, images_source_dir):\n",
        "    os.makedirs(image_dir, exist_ok=True)  # Create image directory if it doesn't exist\n",
        "    os.makedirs(label_dir, exist_ok=True)  # Create label directory if it doesn't exist\n",
        "\n",
        "    for img_id in img_ids:\n",
        "        img_info = coco.loadImgs(img_id)[0]  # Load image info\n",
        "        file_name = img_info['file_name']  # Get image file name\n",
        "        source_image_path = os.path.join(images_source_dir, file_name)  # Source image path\n",
        "        target_image_path = os.path.join(image_dir, file_name)  # Target image path\n",
        "\n",
        "        # Copy image file if it exists\n",
        "        if os.path.exists(source_image_path):\n",
        "            shutil.copy(source_image_path, target_image_path)\n",
        "        else:\n",
        "            print(f\"[WARNING] Image {source_image_path} does not exist. Skipping...\")  # Log missing images\n",
        "            continue\n",
        "\n",
        "        # Generate YOLO annotations and save to file\n",
        "        yolo_annotations = convert_to_yolo_format(coco, img_id, category_ids, category_mapping)\n",
        "        label_path = os.path.join(label_dir, f\"{os.path.splitext(file_name)[0]}.txt\")  # YOLO label file path\n",
        "        with open(label_path, 'w') as f:\n",
        "            f.writelines(yolo_annotations)  # Write annotations to file\n",
        "\n",
        "# Save filtered train and validation datasets\n",
        "print(\"Saving filtered COCO train data...\")\n",
        "save_coco_data(coco_train, filtered_train_ids, os.path.join(dataset_dir, 'coco', 'train', 'images'), os.path.join(dataset_dir, 'coco', 'train', 'labels'), train_images_dir)\n",
        "\n",
        "print(\"Saving filtered COCO validation data...\")\n",
        "save_coco_data(coco_val, filtered_val_ids, os.path.join(dataset_dir, 'coco', 'valid', 'images'), os.path.join(dataset_dir, 'coco', 'valid', 'labels'), val_images_dir)\n",
        "\n",
        "print(\"Data saved successfully.\")\n"
      ]
    },
    {
      "cell_type": "code",
      "execution_count": null,
      "metadata": {
        "id": "HqFV59IuXKbi",
        "colab": {
          "base_uri": "https://localhost:8080/"
        },
        "outputId": "e8da69f7-c664-4b83-bc2b-5ff320627310"
      },
      "outputs": [
        {
          "output_type": "stream",
          "name": "stdout",
          "text": [
            "Merging COCO train data with custom train data...\n",
            "Merging COCO validation data with custom validation data...\n"
          ]
        }
      ],
      "source": [
        "# 6. Merge datasets\n",
        "\n",
        "def merge_datasets(source_dir, target_dir):\n",
        "    for split in ['images', 'labels']:\n",
        "        src_split_dir = os.path.join(source_dir, split)\n",
        "        tgt_split_dir = os.path.join(target_dir, split)\n",
        "        os.makedirs(tgt_split_dir, exist_ok=True)\n",
        "        for file in os.listdir(src_split_dir):\n",
        "            shutil.copy(os.path.join(src_split_dir, file), tgt_split_dir)\n",
        "\n",
        "print(\"Merging COCO train data with custom train data...\")\n",
        "merge_datasets(f'{dataset_dir}/coco/train', f'{dataset_dir}/train')\n",
        "print(\"Merging COCO validation data with custom validation data...\")\n",
        "merge_datasets(f'{dataset_dir}/coco/valid', f'{dataset_dir}/valid')"
      ]
    },
    {
      "cell_type": "code",
      "execution_count": null,
      "metadata": {
        "id": "j3Fb6mDa2hDJ",
        "colab": {
          "base_uri": "https://localhost:8080/"
        },
        "outputId": "aa63321e-9e25-4ad1-b059-bd7e15002be7"
      },
      "outputs": [
        {
          "output_type": "stream",
          "name": "stdout",
          "text": [
            "Creating data.yaml...\n",
            "Dataset preparation complete.\n"
          ]
        }
      ],
      "source": [
        "# 7. Create data.yaml\n",
        "\n",
        "print(\"Creating data.yaml...\")\n",
        "data_yaml = {\n",
        "    'train': f\"{dataset_dir}/train/images\",\n",
        "    'val': f\"{dataset_dir}/valid/images\",\n",
        "    'test': f\"{dataset_dir}/test/images\",\n",
        "    'names': ['green pedestrian light', 'red pedestrian light'] + coco_classes,\n",
        "    'nc': len(['green pedestrian light', 'red pedestrian light'] + coco_classes)\n",
        "}\n",
        "with open(f\"{dataset_dir}/data.yaml\", 'w') as f:\n",
        "    yaml.dump(data_yaml, f)\n",
        "print(\"Dataset preparation complete.\")"
      ]
    },
    {
      "cell_type": "code",
      "execution_count": null,
      "metadata": {
        "id": "LQZE7W2vzEBl",
        "colab": {
          "base_uri": "https://localhost:8080/"
        },
        "outputId": "ccc7bf96-ad5d-4c42-d74e-30ba115d4eab"
      },
      "outputs": [
        {
          "output_type": "stream",
          "name": "stdout",
          "text": [
            "Debugging Roboflow dataset:\n",
            "  Train - Images: 18800, Labels: 18800\n",
            "  Valid - Images: 908, Labels: 908\n",
            "  Test - Images: 41, Labels: 41\n",
            "Debugging COCO dataset filtering:\n",
            "  Filtered Images (expected): 53\n",
            "  Saved Images: 17774, Saved Labels: 17774\n",
            "Debugging class mapping:\n",
            "  Roboflow classes: {0: 0, 1: 1}\n",
            "  COCO classes: {2: 2, 3: 3, 4: 4, 6: 5}\n",
            "Debugging final dataset structure:\n",
            "  Train - Images: 18800, Labels: 18800\n",
            "  Valid - Images: 908, Labels: 908\n",
            "  Test - Images: 41, Labels: 41\n",
            "Inspecting random label file: /content/custom_dataset/train/labels/000000456478.txt\n",
            "4 0.216260 0.702988 0.237960 0.489880\n",
            "4 0.089530 0.707763 0.051460 0.234745\n",
            "\n",
            "Inspecting random label file: /content/custom_dataset/valid/labels/000000176037.txt\n",
            "5 0.635258 0.527042 0.413172 0.461926\n",
            "3 0.909555 0.541148 0.078328 0.040905\n",
            "3 0.940695 0.548701 0.086672 0.045476\n",
            "3 0.072281 0.527216 0.019938 0.049513\n",
            "3 0.862773 0.539977 0.035891 0.041346\n",
            "3 0.374523 0.498086 0.016266 0.017517\n",
            "\n",
            "Inspecting random label file: /content/custom_dataset/test/labels/rpl-409-_jpg.rf.ec83e0f8b937241d9f0461fbcae799af.txt\n",
            "1 0.52890625 0.4890625 0.11171875 0.17421875\n",
            "\n"
          ]
        }
      ],
      "source": [
        "# Debugging function to count files in a directory\n",
        "def count_files_in_directory(directory, file_extension):\n",
        "    return len([f for f in os.listdir(directory) if f.endswith(file_extension)])\n",
        "\n",
        "# Debugging 1: Check filtered Roboflow dataset\n",
        "def debug_roboflow_dataset(dataset_dir):\n",
        "    print(\"Debugging Roboflow dataset:\")\n",
        "    for split in ['train', 'valid', 'test']:\n",
        "        img_dir = os.path.join(dataset_dir, split, 'images')\n",
        "        label_dir = os.path.join(dataset_dir, split, 'labels')\n",
        "        print(f\"  {split.capitalize()} - Images: {count_files_in_directory(img_dir, '.jpg')}, Labels: {count_files_in_directory(label_dir, '.txt')}\")\n",
        "\n",
        "debug_roboflow_dataset(dataset_dir)\n",
        "\n",
        "# Debugging 2: Check COCO dataset filtering\n",
        "def debug_coco_dataset(coco, category_ids, image_dir, label_dir):\n",
        "    print(\"Debugging COCO dataset filtering:\")\n",
        "    filtered_img_count = len(coco.getImgIds(catIds=category_ids))\n",
        "    img_count = count_files_in_directory(image_dir, '.jpg')\n",
        "    label_count = count_files_in_directory(label_dir, '.txt')\n",
        "    print(f\"  Filtered Images (expected): {filtered_img_count}\")\n",
        "    print(f\"  Saved Images: {img_count}, Saved Labels: {label_count}\")\n",
        "\n",
        "debug_coco_dataset(coco_train, category_ids, f'{dataset_dir}/coco/train/images', f'{dataset_dir}/coco/train/labels')\n",
        "\n",
        "# Debugging 3: Check class ID mapping\n",
        "print(\"Debugging class mapping:\")\n",
        "print(f\"  Roboflow classes: {class_mapping}\")\n",
        "print(f\"  COCO classes: {category_mapping}\")\n",
        "\n",
        "# Debugging 4: Verify final dataset structure\n",
        "def debug_final_dataset(dataset_dir):\n",
        "    print(\"Debugging final dataset structure:\")\n",
        "    for split in ['train', 'valid', 'test']:\n",
        "        img_dir = os.path.join(dataset_dir, split, 'images')\n",
        "        label_dir = os.path.join(dataset_dir, split, 'labels')\n",
        "        print(f\"  {split.capitalize()} - Images: {count_files_in_directory(img_dir, '.jpg')}, Labels: {count_files_in_directory(label_dir, '.txt')}\")\n",
        "\n",
        "debug_final_dataset(dataset_dir)\n",
        "\n",
        "# Debugging 5: Inspect a random label file\n",
        "def inspect_random_label_file(label_dir):\n",
        "    label_files = glob.glob(os.path.join(label_dir, '*.txt'))\n",
        "    if label_files:\n",
        "        random_label_file = random.choice(label_files)\n",
        "        print(f\"Inspecting random label file: {random_label_file}\")\n",
        "        with open(random_label_file, 'r') as f:\n",
        "            print(f.read())\n",
        "    else:\n",
        "        print(f\"No label files found in {label_dir}.\")\n",
        "\n",
        "inspect_random_label_file(f'{dataset_dir}/train/labels')\n",
        "inspect_random_label_file(f'{dataset_dir}/valid/labels')\n",
        "inspect_random_label_file(f'{dataset_dir}/test/labels')"
      ]
    },
    {
      "cell_type": "code",
      "execution_count": null,
      "metadata": {
        "id": "b4bv0VOOWwMw",
        "colab": {
          "base_uri": "https://localhost:8080/"
        },
        "outputId": "b29cef25-b8b1-4bb2-e0c2-5f163a29624e"
      },
      "outputs": [
        {
          "output_type": "stream",
          "name": "stdout",
          "text": [
            "/content/custom_dataset/annotations directories are deleted.\n",
            "/content/custom_dataset/coco directories are deleted.\n",
            "/content/custom_dataset/train2017 directories are deleted.\n",
            "/content/custom_dataset/val2017 directories are deleted.\n",
            "/content/custom_dataset/README.dataset.txt files are deleted.\n",
            "/content/custom_dataset/README.roboflow.txt files are deleted.\n",
            "/content/custom_dataset/Traffic_Light.zip files are deleted.\n",
            "/content/custom_dataset/annotations_trainval2017.zip files are deleted.\n"
          ]
        }
      ],
      "source": [
        "# 8. Delete Unnecessaries and Adjust Labels\n",
        "\n",
        "# Delete unnecessary directories\n",
        "dirs_to_remove = [\n",
        "    f'{dataset_dir}/annotations',\n",
        "    f'{dataset_dir}/coco',\n",
        "    f'{dataset_dir}/train2017',\n",
        "    f'{dataset_dir}/val2017'\n",
        "]\n",
        "\n",
        "for dir_path in dirs_to_remove:\n",
        "    if os.path.exists(dir_path):\n",
        "        shutil.rmtree(dir_path)\n",
        "        print(f\"{dir_path} directories are deleted.\")\n",
        "\n",
        "# Delete unnecessary files\n",
        "files_to_remove = [\n",
        "    f'{dataset_dir}/README.dataset.txt',\n",
        "    f'{dataset_dir}/README.roboflow.txt',\n",
        "    f'{dataset_dir}/Traffic_Light.zip',\n",
        "    f'{dataset_dir}/annotations_trainval2017.zip',\n",
        "    f'{dataset_dir}/train2017.zip'\n",
        "    f'{dataset_dir}/val2017.zip'\n",
        "]\n",
        "\n",
        "for file_path in files_to_remove:\n",
        "    if os.path.exists(file_path):\n",
        "        os.remove(file_path)\n",
        "        print(f\"{file_path} files are deleted.\")"
      ]
    },
    {
      "cell_type": "code",
      "execution_count": null,
      "metadata": {
        "id": "R8VTTxJv2yJb",
        "colab": {
          "base_uri": "https://localhost:8080/"
        },
        "outputId": "9fa20e2d-1be5-46f1-96eb-f432fd51e15c"
      },
      "outputs": [
        {
          "output_type": "stream",
          "name": "stdout",
          "text": [
            "Creating data.yaml...\n",
            "data.yaml created.\n"
          ]
        }
      ],
      "source": [
        "# 10. Create data.yaml\n",
        "\n",
        "print(\"Creating data.yaml...\")\n",
        "data_yaml = {\n",
        "    'train': f\"{dataset_dir}/train/images\",\n",
        "    'val': f\"{dataset_dir}/valid/images\",\n",
        "    'test': f\"{dataset_dir}/test/images\",\n",
        "    'names': ['green pedestrian light', 'red pedestrian light'] + coco_classes,\n",
        "    'nc': len(['green pedestrian light', 'red pedestrian light'] + coco_classes)\n",
        "}\n",
        "data_yaml_path = f'{dataset_dir}/data.yaml'\n",
        "with open(data_yaml_path, 'w') as f:\n",
        "    yaml.dump(data_yaml, f)\n",
        "print(\"data.yaml created.\")"
      ]
    },
    {
      "cell_type": "code",
      "execution_count": null,
      "metadata": {
        "id": "sARidCvz2v8k",
        "colab": {
          "base_uri": "https://localhost:8080/"
        },
        "outputId": "2384fe5a-350b-4481-af56-fddf1008611d"
      },
      "outputs": [
        {
          "output_type": "stream",
          "name": "stdout",
          "text": [
            "Downloading https://github.com/ultralytics/assets/releases/download/v8.3.0/yolov8n.pt to 'yolov8n.pt'...\n"
          ]
        },
        {
          "output_type": "stream",
          "name": "stderr",
          "text": [
            "100%|██████████| 6.25M/6.25M [00:00<00:00, 103MB/s]\n"
          ]
        },
        {
          "output_type": "stream",
          "name": "stdout",
          "text": [
            "Starting YOLOv8 model training...\n",
            "Ultralytics 8.3.82 🚀 Python-3.11.11 torch-2.5.1+cu124 CUDA:0 (NVIDIA L4, 22693MiB)\n",
            "\u001b[34m\u001b[1mengine/trainer: \u001b[0mtask=detect, mode=train, model=yolov8n.pt, data=/content/custom_dataset/data.yaml, epochs=50, time=None, patience=100, batch=16, imgsz=640, save=True, save_period=-1, cache=False, device=0, workers=8, project=None, name=train, exist_ok=False, pretrained=True, optimizer=auto, verbose=True, seed=0, deterministic=True, single_cls=False, rect=False, cos_lr=False, close_mosaic=10, resume=False, amp=True, fraction=1.0, profile=False, freeze=None, multi_scale=False, overlap_mask=True, mask_ratio=4, dropout=0.0, val=True, split=val, save_json=False, save_hybrid=False, conf=None, iou=0.7, max_det=300, half=False, dnn=False, plots=True, source=None, vid_stride=1, stream_buffer=False, visualize=False, augment=True, agnostic_nms=False, classes=None, retina_masks=False, embed=None, show=False, save_frames=False, save_txt=False, save_conf=False, save_crop=False, show_labels=True, show_conf=True, show_boxes=True, line_width=None, format=torchscript, keras=False, optimize=False, int8=False, dynamic=False, simplify=True, opset=None, workspace=None, nms=False, lr0=0.01, lrf=0.01, momentum=0.937, weight_decay=0.0005, warmup_epochs=3.0, warmup_momentum=0.8, warmup_bias_lr=0.1, box=7.5, cls=0.5, dfl=1.5, pose=12.0, kobj=1.0, nbs=64, hsv_h=0.015, hsv_s=0.7, hsv_v=0.4, degrees=10.0, translate=0.2, scale=0.2, shear=2.0, perspective=0.0, flipud=0.3, fliplr=0.3, bgr=0.0, mosaic=1.0, mixup=0.0, copy_paste=0.0, copy_paste_mode=flip, auto_augment=randaugment, erasing=0.4, crop_fraction=1.0, cfg=None, tracker=botsort.yaml, save_dir=runs/detect/train\n",
            "Downloading https://ultralytics.com/assets/Arial.ttf to '/root/.config/Ultralytics/Arial.ttf'...\n"
          ]
        },
        {
          "output_type": "stream",
          "name": "stderr",
          "text": [
            "100%|██████████| 755k/755k [00:00<00:00, 20.4MB/s]\n"
          ]
        },
        {
          "output_type": "stream",
          "name": "stdout",
          "text": [
            "Overriding model.yaml nc=80 with nc=6\n",
            "\n",
            "                   from  n    params  module                                       arguments                     \n",
            "  0                  -1  1       464  ultralytics.nn.modules.conv.Conv             [3, 16, 3, 2]                 \n",
            "  1                  -1  1      4672  ultralytics.nn.modules.conv.Conv             [16, 32, 3, 2]                \n",
            "  2                  -1  1      7360  ultralytics.nn.modules.block.C2f             [32, 32, 1, True]             \n",
            "  3                  -1  1     18560  ultralytics.nn.modules.conv.Conv             [32, 64, 3, 2]                \n",
            "  4                  -1  2     49664  ultralytics.nn.modules.block.C2f             [64, 64, 2, True]             \n",
            "  5                  -1  1     73984  ultralytics.nn.modules.conv.Conv             [64, 128, 3, 2]               \n",
            "  6                  -1  2    197632  ultralytics.nn.modules.block.C2f             [128, 128, 2, True]           \n",
            "  7                  -1  1    295424  ultralytics.nn.modules.conv.Conv             [128, 256, 3, 2]              \n",
            "  8                  -1  1    460288  ultralytics.nn.modules.block.C2f             [256, 256, 1, True]           \n",
            "  9                  -1  1    164608  ultralytics.nn.modules.block.SPPF            [256, 256, 5]                 \n",
            " 10                  -1  1         0  torch.nn.modules.upsampling.Upsample         [None, 2, 'nearest']          \n",
            " 11             [-1, 6]  1         0  ultralytics.nn.modules.conv.Concat           [1]                           \n",
            " 12                  -1  1    148224  ultralytics.nn.modules.block.C2f             [384, 128, 1]                 \n",
            " 13                  -1  1         0  torch.nn.modules.upsampling.Upsample         [None, 2, 'nearest']          \n",
            " 14             [-1, 4]  1         0  ultralytics.nn.modules.conv.Concat           [1]                           \n",
            " 15                  -1  1     37248  ultralytics.nn.modules.block.C2f             [192, 64, 1]                  \n",
            " 16                  -1  1     36992  ultralytics.nn.modules.conv.Conv             [64, 64, 3, 2]                \n",
            " 17            [-1, 12]  1         0  ultralytics.nn.modules.conv.Concat           [1]                           \n",
            " 18                  -1  1    123648  ultralytics.nn.modules.block.C2f             [192, 128, 1]                 \n",
            " 19                  -1  1    147712  ultralytics.nn.modules.conv.Conv             [128, 128, 3, 2]              \n",
            " 20             [-1, 9]  1         0  ultralytics.nn.modules.conv.Concat           [1]                           \n",
            " 21                  -1  1    493056  ultralytics.nn.modules.block.C2f             [384, 256, 1]                 \n",
            " 22        [15, 18, 21]  1    752482  ultralytics.nn.modules.head.Detect           [6, [64, 128, 256]]           \n",
            "Model summary: 129 layers, 3,012,018 parameters, 3,012,002 gradients, 8.2 GFLOPs\n",
            "\n",
            "Transferred 319/355 items from pretrained weights\n",
            "\u001b[34m\u001b[1mTensorBoard: \u001b[0mStart with 'tensorboard --logdir runs/detect/train', view at http://localhost:6006/\n",
            "Freezing layer 'model.22.dfl.conv.weight'\n",
            "\u001b[34m\u001b[1mAMP: \u001b[0mrunning Automatic Mixed Precision (AMP) checks...\n",
            "Downloading https://github.com/ultralytics/assets/releases/download/v8.3.0/yolo11n.pt to 'yolo11n.pt'...\n"
          ]
        },
        {
          "output_type": "stream",
          "name": "stderr",
          "text": [
            "100%|██████████| 5.35M/5.35M [00:00<00:00, 104MB/s]\n"
          ]
        },
        {
          "output_type": "stream",
          "name": "stdout",
          "text": [
            "\u001b[34m\u001b[1mAMP: \u001b[0mchecks passed ✅\n"
          ]
        },
        {
          "output_type": "stream",
          "name": "stderr",
          "text": [
            "\u001b[34m\u001b[1mtrain: \u001b[0mScanning /content/custom_dataset/train/labels... 18800 images, 0 backgrounds, 0 corrupt: 100%|██████████| 18800/18800 [00:13<00:00, 1397.54it/s]"
          ]
        },
        {
          "output_type": "stream",
          "name": "stdout",
          "text": [
            "\u001b[34m\u001b[1mtrain: \u001b[0mWARNING ⚠️ /content/custom_dataset/train/images/000000099844.jpg: 2 duplicate labels removed\n"
          ]
        },
        {
          "output_type": "stream",
          "name": "stderr",
          "text": [
            "\n"
          ]
        },
        {
          "output_type": "stream",
          "name": "stdout",
          "text": [
            "\u001b[34m\u001b[1mtrain: \u001b[0mNew cache created: /content/custom_dataset/train/labels.cache\n",
            "\u001b[34m\u001b[1malbumentations: \u001b[0mBlur(p=0.01, blur_limit=(3, 7)), MedianBlur(p=0.01, blur_limit=(3, 7)), ToGray(p=0.01, num_output_channels=3, method='weighted_average'), CLAHE(p=0.01, clip_limit=(1.0, 4.0), tile_grid_size=(8, 8))\n"
          ]
        },
        {
          "output_type": "stream",
          "name": "stderr",
          "text": [
            "\u001b[34m\u001b[1mval: \u001b[0mScanning /content/custom_dataset/valid/labels... 908 images, 0 backgrounds, 0 corrupt: 100%|██████████| 908/908 [00:00<00:00, 1081.23it/s]\n"
          ]
        },
        {
          "output_type": "stream",
          "name": "stdout",
          "text": [
            "\u001b[34m\u001b[1mval: \u001b[0mNew cache created: /content/custom_dataset/valid/labels.cache\n",
            "Plotting labels to runs/detect/train/labels.jpg... \n",
            "\u001b[34m\u001b[1moptimizer:\u001b[0m 'optimizer=auto' found, ignoring 'lr0=0.01' and 'momentum=0.937' and determining best 'optimizer', 'lr0' and 'momentum' automatically... \n",
            "\u001b[34m\u001b[1moptimizer:\u001b[0m SGD(lr=0.01, momentum=0.9) with parameter groups 57 weight(decay=0.0), 64 weight(decay=0.0005), 63 bias(decay=0.0)\n",
            "\u001b[34m\u001b[1mTensorBoard: \u001b[0mmodel graph visualization added ✅\n",
            "Image sizes 640 train, 640 val\n",
            "Using 8 dataloader workers\n",
            "Logging results to \u001b[1mruns/detect/train\u001b[0m\n",
            "Starting training for 50 epochs...\n",
            "\n",
            "      Epoch    GPU_mem   box_loss   cls_loss   dfl_loss  Instances       Size\n"
          ]
        },
        {
          "output_type": "stream",
          "name": "stderr",
          "text": [
            "       1/50      2.23G      1.614      2.733      1.532        102        640: 100%|██████████| 1175/1175 [02:00<00:00,  9.77it/s]\n",
            "                 Class     Images  Instances      Box(P          R      mAP50  mAP50-95): 100%|██████████| 29/29 [00:06<00:00,  4.64it/s]\n"
          ]
        },
        {
          "output_type": "stream",
          "name": "stdout",
          "text": [
            "                   all        908       3020      0.536      0.409      0.439      0.233\n",
            "\n",
            "      Epoch    GPU_mem   box_loss   cls_loss   dfl_loss  Instances       Size\n"
          ]
        },
        {
          "output_type": "stream",
          "name": "stderr",
          "text": [
            "       2/50      2.04G       1.63      2.219      1.507        103        640: 100%|██████████| 1175/1175 [01:55<00:00, 10.15it/s]\n",
            "                 Class     Images  Instances      Box(P          R      mAP50  mAP50-95): 100%|██████████| 29/29 [00:04<00:00,  6.89it/s]\n"
          ]
        },
        {
          "output_type": "stream",
          "name": "stdout",
          "text": [
            "                   all        908       3020       0.56      0.455      0.448      0.234\n",
            "\n",
            "      Epoch    GPU_mem   box_loss   cls_loss   dfl_loss  Instances       Size\n"
          ]
        },
        {
          "output_type": "stream",
          "name": "stderr",
          "text": [
            "       3/50      2.13G      1.713      2.206      1.573         84        640: 100%|██████████| 1175/1175 [01:53<00:00, 10.36it/s]\n",
            "                 Class     Images  Instances      Box(P          R      mAP50  mAP50-95): 100%|██████████| 29/29 [00:03<00:00,  7.30it/s]\n"
          ]
        },
        {
          "output_type": "stream",
          "name": "stdout",
          "text": [
            "                   all        908       3020      0.616       0.34      0.364      0.158\n",
            "\n",
            "      Epoch    GPU_mem   box_loss   cls_loss   dfl_loss  Instances       Size\n"
          ]
        },
        {
          "output_type": "stream",
          "name": "stderr",
          "text": [
            "       4/50      2.03G      1.763      2.192      1.626         94        640: 100%|██████████| 1175/1175 [01:52<00:00, 10.45it/s]\n",
            "                 Class     Images  Instances      Box(P          R      mAP50  mAP50-95): 100%|██████████| 29/29 [00:03<00:00,  7.52it/s]\n"
          ]
        },
        {
          "output_type": "stream",
          "name": "stdout",
          "text": [
            "                   all        908       3020      0.662      0.425      0.484      0.236\n",
            "\n",
            "      Epoch    GPU_mem   box_loss   cls_loss   dfl_loss  Instances       Size\n"
          ]
        },
        {
          "output_type": "stream",
          "name": "stderr",
          "text": [
            "       5/50      2.14G      1.713      2.039      1.583         75        640: 100%|██████████| 1175/1175 [01:52<00:00, 10.45it/s]\n",
            "                 Class     Images  Instances      Box(P          R      mAP50  mAP50-95): 100%|██████████| 29/29 [00:04<00:00,  7.21it/s]\n"
          ]
        },
        {
          "output_type": "stream",
          "name": "stdout",
          "text": [
            "                   all        908       3020      0.561      0.507      0.513      0.271\n",
            "\n",
            "      Epoch    GPU_mem   box_loss   cls_loss   dfl_loss  Instances       Size\n"
          ]
        },
        {
          "output_type": "stream",
          "name": "stderr",
          "text": [
            "       6/50      2.06G       1.67      1.943       1.55        110        640: 100%|██████████| 1175/1175 [01:52<00:00, 10.41it/s]\n",
            "                 Class     Images  Instances      Box(P          R      mAP50  mAP50-95): 100%|██████████| 29/29 [00:03<00:00,  7.30it/s]"
          ]
        },
        {
          "output_type": "stream",
          "name": "stdout",
          "text": [
            "                   all        908       3020      0.714      0.543      0.597       0.31\n"
          ]
        },
        {
          "output_type": "stream",
          "name": "stderr",
          "text": [
            "\n"
          ]
        },
        {
          "output_type": "stream",
          "name": "stdout",
          "text": [
            "\n",
            "      Epoch    GPU_mem   box_loss   cls_loss   dfl_loss  Instances       Size\n"
          ]
        },
        {
          "output_type": "stream",
          "name": "stderr",
          "text": [
            "       7/50      2.04G      1.642      1.883       1.53         78        640: 100%|██████████| 1175/1175 [01:53<00:00, 10.40it/s]\n",
            "                 Class     Images  Instances      Box(P          R      mAP50  mAP50-95): 100%|██████████| 29/29 [00:03<00:00,  7.41it/s]\n"
          ]
        },
        {
          "output_type": "stream",
          "name": "stdout",
          "text": [
            "                   all        908       3020      0.693       0.56      0.598      0.327\n",
            "\n",
            "      Epoch    GPU_mem   box_loss   cls_loss   dfl_loss  Instances       Size\n"
          ]
        },
        {
          "output_type": "stream",
          "name": "stderr",
          "text": [
            "       8/50      2.03G      1.609      1.817      1.511         90        640: 100%|██████████| 1175/1175 [01:52<00:00, 10.45it/s]\n",
            "                 Class     Images  Instances      Box(P          R      mAP50  mAP50-95): 100%|██████████| 29/29 [00:03<00:00,  7.42it/s]\n"
          ]
        },
        {
          "output_type": "stream",
          "name": "stdout",
          "text": [
            "                   all        908       3020      0.658      0.585      0.612      0.343\n",
            "\n",
            "      Epoch    GPU_mem   box_loss   cls_loss   dfl_loss  Instances       Size\n"
          ]
        },
        {
          "output_type": "stream",
          "name": "stderr",
          "text": [
            "       9/50      2.04G      1.584      1.784      1.495        127        640: 100%|██████████| 1175/1175 [01:52<00:00, 10.42it/s]\n",
            "                 Class     Images  Instances      Box(P          R      mAP50  mAP50-95): 100%|██████████| 29/29 [00:03<00:00,  7.54it/s]\n"
          ]
        },
        {
          "output_type": "stream",
          "name": "stdout",
          "text": [
            "                   all        908       3020      0.745      0.572      0.624      0.332\n",
            "\n",
            "      Epoch    GPU_mem   box_loss   cls_loss   dfl_loss  Instances       Size\n"
          ]
        },
        {
          "output_type": "stream",
          "name": "stderr",
          "text": [
            "      10/50      2.08G      1.558      1.737      1.476         81        640: 100%|██████████| 1175/1175 [01:52<00:00, 10.41it/s]\n",
            "                 Class     Images  Instances      Box(P          R      mAP50  mAP50-95): 100%|██████████| 29/29 [00:03<00:00,  7.35it/s]\n"
          ]
        },
        {
          "output_type": "stream",
          "name": "stdout",
          "text": [
            "                   all        908       3020      0.728      0.589      0.637      0.367\n",
            "\n",
            "      Epoch    GPU_mem   box_loss   cls_loss   dfl_loss  Instances       Size\n"
          ]
        },
        {
          "output_type": "stream",
          "name": "stderr",
          "text": [
            "      11/50      2.07G      1.546      1.706      1.467         96        640: 100%|██████████| 1175/1175 [01:52<00:00, 10.48it/s]\n",
            "                 Class     Images  Instances      Box(P          R      mAP50  mAP50-95): 100%|██████████| 29/29 [00:03<00:00,  7.51it/s]\n"
          ]
        },
        {
          "output_type": "stream",
          "name": "stdout",
          "text": [
            "                   all        908       3020      0.735      0.584      0.649       0.37\n",
            "\n",
            "      Epoch    GPU_mem   box_loss   cls_loss   dfl_loss  Instances       Size\n"
          ]
        },
        {
          "output_type": "stream",
          "name": "stderr",
          "text": [
            "      12/50      2.06G      1.525      1.668      1.449        101        640: 100%|██████████| 1175/1175 [01:52<00:00, 10.47it/s]\n",
            "                 Class     Images  Instances      Box(P          R      mAP50  mAP50-95): 100%|██████████| 29/29 [00:03<00:00,  7.36it/s]\n"
          ]
        },
        {
          "output_type": "stream",
          "name": "stdout",
          "text": [
            "                   all        908       3020      0.718      0.598      0.652      0.392\n",
            "\n",
            "      Epoch    GPU_mem   box_loss   cls_loss   dfl_loss  Instances       Size\n"
          ]
        },
        {
          "output_type": "stream",
          "name": "stderr",
          "text": [
            "      13/50      2.07G      1.524      1.655      1.447         84        640: 100%|██████████| 1175/1175 [01:52<00:00, 10.47it/s]\n",
            "                 Class     Images  Instances      Box(P          R      mAP50  mAP50-95): 100%|██████████| 29/29 [00:03<00:00,  7.56it/s]\n"
          ]
        },
        {
          "output_type": "stream",
          "name": "stdout",
          "text": [
            "                   all        908       3020      0.731      0.618      0.667        0.4\n",
            "\n",
            "      Epoch    GPU_mem   box_loss   cls_loss   dfl_loss  Instances       Size\n"
          ]
        },
        {
          "output_type": "stream",
          "name": "stderr",
          "text": [
            "      14/50       2.1G      1.507      1.631      1.437        107        640: 100%|██████████| 1175/1175 [01:52<00:00, 10.46it/s]\n",
            "                 Class     Images  Instances      Box(P          R      mAP50  mAP50-95): 100%|██████████| 29/29 [00:03<00:00,  7.52it/s]\n"
          ]
        },
        {
          "output_type": "stream",
          "name": "stdout",
          "text": [
            "                   all        908       3020      0.728      0.633      0.675      0.415\n",
            "\n",
            "      Epoch    GPU_mem   box_loss   cls_loss   dfl_loss  Instances       Size\n"
          ]
        },
        {
          "output_type": "stream",
          "name": "stderr",
          "text": [
            "      15/50       2.1G      1.485      1.605      1.421         70        640: 100%|██████████| 1175/1175 [01:52<00:00, 10.44it/s]\n",
            "                 Class     Images  Instances      Box(P          R      mAP50  mAP50-95): 100%|██████████| 29/29 [00:03<00:00,  7.44it/s]"
          ]
        },
        {
          "output_type": "stream",
          "name": "stdout",
          "text": [
            "                   all        908       3020      0.732      0.636      0.679      0.409\n"
          ]
        },
        {
          "output_type": "stream",
          "name": "stderr",
          "text": [
            "\n"
          ]
        },
        {
          "output_type": "stream",
          "name": "stdout",
          "text": [
            "\n",
            "      Epoch    GPU_mem   box_loss   cls_loss   dfl_loss  Instances       Size\n"
          ]
        },
        {
          "output_type": "stream",
          "name": "stderr",
          "text": [
            "      16/50      2.06G      1.485       1.59       1.42         89        640: 100%|██████████| 1175/1175 [01:51<00:00, 10.50it/s]\n",
            "                 Class     Images  Instances      Box(P          R      mAP50  mAP50-95): 100%|██████████| 29/29 [00:03<00:00,  7.47it/s]"
          ]
        },
        {
          "output_type": "stream",
          "name": "stdout",
          "text": [
            "                   all        908       3020      0.782      0.618      0.682      0.418\n"
          ]
        },
        {
          "output_type": "stream",
          "name": "stderr",
          "text": [
            "\n"
          ]
        },
        {
          "output_type": "stream",
          "name": "stdout",
          "text": [
            "\n",
            "      Epoch    GPU_mem   box_loss   cls_loss   dfl_loss  Instances       Size\n"
          ]
        },
        {
          "output_type": "stream",
          "name": "stderr",
          "text": [
            "      17/50      2.04G      1.464      1.567       1.41         96        640: 100%|██████████| 1175/1175 [01:52<00:00, 10.47it/s]\n",
            "                 Class     Images  Instances      Box(P          R      mAP50  mAP50-95): 100%|██████████| 29/29 [00:03<00:00,  7.43it/s]\n"
          ]
        },
        {
          "output_type": "stream",
          "name": "stdout",
          "text": [
            "                   all        908       3020      0.762      0.636       0.69      0.432\n",
            "\n",
            "      Epoch    GPU_mem   box_loss   cls_loss   dfl_loss  Instances       Size\n"
          ]
        },
        {
          "output_type": "stream",
          "name": "stderr",
          "text": [
            "      18/50      2.03G      1.463      1.549      1.404         85        640: 100%|██████████| 1175/1175 [01:52<00:00, 10.46it/s]\n",
            "                 Class     Images  Instances      Box(P          R      mAP50  mAP50-95): 100%|██████████| 29/29 [00:03<00:00,  7.43it/s]\n"
          ]
        },
        {
          "output_type": "stream",
          "name": "stdout",
          "text": [
            "                   all        908       3020      0.762      0.639       0.69      0.431\n",
            "\n",
            "      Epoch    GPU_mem   box_loss   cls_loss   dfl_loss  Instances       Size\n"
          ]
        },
        {
          "output_type": "stream",
          "name": "stderr",
          "text": [
            "      19/50      2.02G      1.457       1.54      1.396         63        640: 100%|██████████| 1175/1175 [01:52<00:00, 10.49it/s]\n",
            "                 Class     Images  Instances      Box(P          R      mAP50  mAP50-95): 100%|██████████| 29/29 [00:03<00:00,  7.41it/s]\n"
          ]
        },
        {
          "output_type": "stream",
          "name": "stdout",
          "text": [
            "                   all        908       3020        0.8      0.615      0.683      0.435\n",
            "\n",
            "      Epoch    GPU_mem   box_loss   cls_loss   dfl_loss  Instances       Size\n"
          ]
        },
        {
          "output_type": "stream",
          "name": "stderr",
          "text": [
            "      20/50      2.13G      1.445       1.52      1.394        103        640: 100%|██████████| 1175/1175 [01:52<00:00, 10.46it/s]\n",
            "                 Class     Images  Instances      Box(P          R      mAP50  mAP50-95): 100%|██████████| 29/29 [00:03<00:00,  7.41it/s]\n"
          ]
        },
        {
          "output_type": "stream",
          "name": "stdout",
          "text": [
            "                   all        908       3020      0.768       0.63      0.695      0.443\n",
            "\n",
            "      Epoch    GPU_mem   box_loss   cls_loss   dfl_loss  Instances       Size\n"
          ]
        },
        {
          "output_type": "stream",
          "name": "stderr",
          "text": [
            "      21/50       2.1G      1.442      1.503      1.386        104        640: 100%|██████████| 1175/1175 [01:52<00:00, 10.46it/s]\n",
            "                 Class     Images  Instances      Box(P          R      mAP50  mAP50-95): 100%|██████████| 29/29 [00:03<00:00,  7.33it/s]\n"
          ]
        },
        {
          "output_type": "stream",
          "name": "stdout",
          "text": [
            "                   all        908       3020      0.778      0.635      0.696      0.434\n",
            "\n",
            "      Epoch    GPU_mem   box_loss   cls_loss   dfl_loss  Instances       Size\n"
          ]
        },
        {
          "output_type": "stream",
          "name": "stderr",
          "text": [
            "      22/50      2.03G      1.431      1.495       1.38         67        640: 100%|██████████| 1175/1175 [01:52<00:00, 10.45it/s]\n",
            "                 Class     Images  Instances      Box(P          R      mAP50  mAP50-95): 100%|██████████| 29/29 [00:03<00:00,  7.51it/s]"
          ]
        },
        {
          "output_type": "stream",
          "name": "stdout",
          "text": [
            "                   all        908       3020      0.806      0.625      0.703      0.449\n"
          ]
        },
        {
          "output_type": "stream",
          "name": "stderr",
          "text": [
            "\n"
          ]
        },
        {
          "output_type": "stream",
          "name": "stdout",
          "text": [
            "\n",
            "      Epoch    GPU_mem   box_loss   cls_loss   dfl_loss  Instances       Size\n"
          ]
        },
        {
          "output_type": "stream",
          "name": "stderr",
          "text": [
            "      23/50      2.02G      1.423      1.475      1.375         75        640: 100%|██████████| 1175/1175 [01:52<00:00, 10.45it/s]\n",
            "                 Class     Images  Instances      Box(P          R      mAP50  mAP50-95): 100%|██████████| 29/29 [00:03<00:00,  7.44it/s]\n"
          ]
        },
        {
          "output_type": "stream",
          "name": "stdout",
          "text": [
            "                   all        908       3020      0.775      0.641      0.708      0.453\n",
            "\n",
            "      Epoch    GPU_mem   box_loss   cls_loss   dfl_loss  Instances       Size\n"
          ]
        },
        {
          "output_type": "stream",
          "name": "stderr",
          "text": [
            "      24/50      2.15G      1.416      1.465      1.369         60        640: 100%|██████████| 1175/1175 [01:52<00:00, 10.45it/s]\n",
            "                 Class     Images  Instances      Box(P          R      mAP50  mAP50-95): 100%|██████████| 29/29 [00:03<00:00,  7.41it/s]"
          ]
        },
        {
          "output_type": "stream",
          "name": "stdout",
          "text": [
            "                   all        908       3020      0.785      0.653      0.709      0.458\n"
          ]
        },
        {
          "output_type": "stream",
          "name": "stderr",
          "text": [
            "\n"
          ]
        },
        {
          "output_type": "stream",
          "name": "stdout",
          "text": [
            "\n",
            "      Epoch    GPU_mem   box_loss   cls_loss   dfl_loss  Instances       Size\n"
          ]
        },
        {
          "output_type": "stream",
          "name": "stderr",
          "text": [
            "      25/50      2.02G      1.411      1.456      1.367         97        640: 100%|██████████| 1175/1175 [01:52<00:00, 10.44it/s]\n",
            "                 Class     Images  Instances      Box(P          R      mAP50  mAP50-95): 100%|██████████| 29/29 [00:03<00:00,  7.41it/s]\n"
          ]
        },
        {
          "output_type": "stream",
          "name": "stdout",
          "text": [
            "                   all        908       3020      0.818      0.653      0.721      0.462\n",
            "\n",
            "      Epoch    GPU_mem   box_loss   cls_loss   dfl_loss  Instances       Size\n"
          ]
        },
        {
          "output_type": "stream",
          "name": "stderr",
          "text": [
            "      26/50      2.06G      1.403      1.447      1.359         99        640: 100%|██████████| 1175/1175 [01:51<00:00, 10.50it/s]\n",
            "                 Class     Images  Instances      Box(P          R      mAP50  mAP50-95): 100%|██████████| 29/29 [00:03<00:00,  7.67it/s]\n"
          ]
        },
        {
          "output_type": "stream",
          "name": "stdout",
          "text": [
            "                   all        908       3020      0.783      0.654      0.716      0.461\n",
            "\n",
            "      Epoch    GPU_mem   box_loss   cls_loss   dfl_loss  Instances       Size\n"
          ]
        },
        {
          "output_type": "stream",
          "name": "stderr",
          "text": [
            "      27/50      2.01G      1.404       1.44       1.36         81        640: 100%|██████████| 1175/1175 [01:52<00:00, 10.48it/s]\n",
            "                 Class     Images  Instances      Box(P          R      mAP50  mAP50-95): 100%|██████████| 29/29 [00:03<00:00,  7.44it/s]"
          ]
        },
        {
          "output_type": "stream",
          "name": "stdout",
          "text": [
            "                   all        908       3020      0.775      0.658      0.715      0.458\n"
          ]
        },
        {
          "output_type": "stream",
          "name": "stderr",
          "text": [
            "\n"
          ]
        },
        {
          "output_type": "stream",
          "name": "stdout",
          "text": [
            "\n",
            "      Epoch    GPU_mem   box_loss   cls_loss   dfl_loss  Instances       Size\n"
          ]
        },
        {
          "output_type": "stream",
          "name": "stderr",
          "text": [
            "      28/50      2.07G       1.39      1.422      1.353        102        640: 100%|██████████| 1175/1175 [01:52<00:00, 10.43it/s]\n",
            "                 Class     Images  Instances      Box(P          R      mAP50  mAP50-95): 100%|██████████| 29/29 [00:03<00:00,  7.43it/s]\n"
          ]
        },
        {
          "output_type": "stream",
          "name": "stdout",
          "text": [
            "                   all        908       3020      0.778      0.664      0.719      0.474\n",
            "\n",
            "      Epoch    GPU_mem   box_loss   cls_loss   dfl_loss  Instances       Size\n"
          ]
        },
        {
          "output_type": "stream",
          "name": "stderr",
          "text": [
            "      29/50      2.04G      1.386      1.415      1.349        112        640: 100%|██████████| 1175/1175 [01:52<00:00, 10.49it/s]\n",
            "                 Class     Images  Instances      Box(P          R      mAP50  mAP50-95): 100%|██████████| 29/29 [00:03<00:00,  7.49it/s]\n"
          ]
        },
        {
          "output_type": "stream",
          "name": "stdout",
          "text": [
            "                   all        908       3020      0.783      0.667       0.72      0.477\n",
            "\n",
            "      Epoch    GPU_mem   box_loss   cls_loss   dfl_loss  Instances       Size\n"
          ]
        },
        {
          "output_type": "stream",
          "name": "stderr",
          "text": [
            "      30/50      2.02G       1.38      1.394      1.345        127        640: 100%|██████████| 1175/1175 [01:53<00:00, 10.36it/s]\n",
            "                 Class     Images  Instances      Box(P          R      mAP50  mAP50-95): 100%|██████████| 29/29 [00:03<00:00,  7.64it/s]\n"
          ]
        },
        {
          "output_type": "stream",
          "name": "stdout",
          "text": [
            "                   all        908       3020      0.773      0.674      0.724      0.474\n",
            "\n",
            "      Epoch    GPU_mem   box_loss   cls_loss   dfl_loss  Instances       Size\n"
          ]
        },
        {
          "output_type": "stream",
          "name": "stderr",
          "text": [
            "      31/50      2.06G      1.372      1.387       1.34         97        640: 100%|██████████| 1175/1175 [01:53<00:00, 10.40it/s]\n",
            "                 Class     Images  Instances      Box(P          R      mAP50  mAP50-95): 100%|██████████| 29/29 [00:03<00:00,  7.47it/s]"
          ]
        },
        {
          "output_type": "stream",
          "name": "stdout",
          "text": [
            "                   all        908       3020      0.819      0.647      0.723      0.479\n"
          ]
        },
        {
          "output_type": "stream",
          "name": "stderr",
          "text": [
            "\n"
          ]
        },
        {
          "output_type": "stream",
          "name": "stdout",
          "text": [
            "\n",
            "      Epoch    GPU_mem   box_loss   cls_loss   dfl_loss  Instances       Size\n"
          ]
        },
        {
          "output_type": "stream",
          "name": "stderr",
          "text": [
            "      32/50      2.04G      1.369      1.372      1.336        110        640: 100%|██████████| 1175/1175 [01:52<00:00, 10.46it/s]\n",
            "                 Class     Images  Instances      Box(P          R      mAP50  mAP50-95): 100%|██████████| 29/29 [00:03<00:00,  7.42it/s]\n"
          ]
        },
        {
          "output_type": "stream",
          "name": "stdout",
          "text": [
            "                   all        908       3020      0.762      0.677      0.726      0.483\n",
            "\n",
            "      Epoch    GPU_mem   box_loss   cls_loss   dfl_loss  Instances       Size\n"
          ]
        },
        {
          "output_type": "stream",
          "name": "stderr",
          "text": [
            "      33/50      2.05G      1.359      1.364      1.328         95        640: 100%|██████████| 1175/1175 [01:51<00:00, 10.49it/s]\n",
            "                 Class     Images  Instances      Box(P          R      mAP50  mAP50-95): 100%|██████████| 29/29 [00:03<00:00,  7.59it/s]\n"
          ]
        },
        {
          "output_type": "stream",
          "name": "stdout",
          "text": [
            "                   all        908       3020      0.795      0.663      0.726      0.485\n",
            "\n",
            "      Epoch    GPU_mem   box_loss   cls_loss   dfl_loss  Instances       Size\n"
          ]
        },
        {
          "output_type": "stream",
          "name": "stderr",
          "text": [
            "      34/50      2.03G      1.353      1.351      1.323        104        640: 100%|██████████| 1175/1175 [01:52<00:00, 10.45it/s]\n",
            "                 Class     Images  Instances      Box(P          R      mAP50  mAP50-95): 100%|██████████| 29/29 [00:03<00:00,  7.59it/s]"
          ]
        },
        {
          "output_type": "stream",
          "name": "stdout",
          "text": [
            "                   all        908       3020       0.81      0.667      0.739      0.485\n"
          ]
        },
        {
          "output_type": "stream",
          "name": "stderr",
          "text": [
            "\n"
          ]
        },
        {
          "output_type": "stream",
          "name": "stdout",
          "text": [
            "\n",
            "      Epoch    GPU_mem   box_loss   cls_loss   dfl_loss  Instances       Size\n"
          ]
        },
        {
          "output_type": "stream",
          "name": "stderr",
          "text": [
            "      35/50      2.01G      1.354      1.355      1.325         80        640: 100%|██████████| 1175/1175 [01:52<00:00, 10.44it/s]\n",
            "                 Class     Images  Instances      Box(P          R      mAP50  mAP50-95): 100%|██████████| 29/29 [00:03<00:00,  7.42it/s]\n"
          ]
        },
        {
          "output_type": "stream",
          "name": "stdout",
          "text": [
            "                   all        908       3020      0.798      0.673      0.732      0.484\n",
            "\n",
            "      Epoch    GPU_mem   box_loss   cls_loss   dfl_loss  Instances       Size\n"
          ]
        },
        {
          "output_type": "stream",
          "name": "stderr",
          "text": [
            "      36/50      2.14G      1.346      1.335      1.319        110        640: 100%|██████████| 1175/1175 [01:52<00:00, 10.44it/s]\n",
            "                 Class     Images  Instances      Box(P          R      mAP50  mAP50-95): 100%|██████████| 29/29 [00:03<00:00,  7.61it/s]\n"
          ]
        },
        {
          "output_type": "stream",
          "name": "stdout",
          "text": [
            "                   all        908       3020      0.806      0.678      0.736      0.485\n",
            "\n",
            "      Epoch    GPU_mem   box_loss   cls_loss   dfl_loss  Instances       Size\n"
          ]
        },
        {
          "output_type": "stream",
          "name": "stderr",
          "text": [
            "      37/50      2.09G      1.341      1.337       1.32         77        640: 100%|██████████| 1175/1175 [01:52<00:00, 10.46it/s]\n",
            "                 Class     Images  Instances      Box(P          R      mAP50  mAP50-95): 100%|██████████| 29/29 [00:03<00:00,  7.66it/s]\n"
          ]
        },
        {
          "output_type": "stream",
          "name": "stdout",
          "text": [
            "                   all        908       3020      0.792      0.667      0.739      0.487\n",
            "\n",
            "      Epoch    GPU_mem   box_loss   cls_loss   dfl_loss  Instances       Size\n"
          ]
        },
        {
          "output_type": "stream",
          "name": "stderr",
          "text": [
            "      38/50       2.1G      1.341      1.323      1.316         74        640: 100%|██████████| 1175/1175 [01:52<00:00, 10.42it/s]\n",
            "                 Class     Images  Instances      Box(P          R      mAP50  mAP50-95): 100%|██████████| 29/29 [00:03<00:00,  7.53it/s]"
          ]
        },
        {
          "output_type": "stream",
          "name": "stdout",
          "text": [
            "                   all        908       3020      0.816      0.668      0.741      0.492\n"
          ]
        },
        {
          "output_type": "stream",
          "name": "stderr",
          "text": [
            "\n"
          ]
        },
        {
          "output_type": "stream",
          "name": "stdout",
          "text": [
            "\n",
            "      Epoch    GPU_mem   box_loss   cls_loss   dfl_loss  Instances       Size\n"
          ]
        },
        {
          "output_type": "stream",
          "name": "stderr",
          "text": [
            "      39/50      2.07G       1.32      1.304      1.304         89        640: 100%|██████████| 1175/1175 [01:52<00:00, 10.45it/s]\n",
            "                 Class     Images  Instances      Box(P          R      mAP50  mAP50-95): 100%|██████████| 29/29 [00:03<00:00,  7.56it/s]\n"
          ]
        },
        {
          "output_type": "stream",
          "name": "stdout",
          "text": [
            "                   all        908       3020      0.799      0.676      0.743      0.495\n",
            "\n",
            "      Epoch    GPU_mem   box_loss   cls_loss   dfl_loss  Instances       Size\n"
          ]
        },
        {
          "output_type": "stream",
          "name": "stderr",
          "text": [
            "      40/50      2.14G      1.319      1.299      1.302         97        640: 100%|██████████| 1175/1175 [01:52<00:00, 10.44it/s]\n",
            "                 Class     Images  Instances      Box(P          R      mAP50  mAP50-95): 100%|██████████| 29/29 [00:03<00:00,  7.59it/s]\n"
          ]
        },
        {
          "output_type": "stream",
          "name": "stdout",
          "text": [
            "                   all        908       3020      0.806      0.675      0.744      0.494\n",
            "Closing dataloader mosaic\n",
            "\u001b[34m\u001b[1malbumentations: \u001b[0mBlur(p=0.01, blur_limit=(3, 7)), MedianBlur(p=0.01, blur_limit=(3, 7)), ToGray(p=0.01, num_output_channels=3, method='weighted_average'), CLAHE(p=0.01, clip_limit=(1.0, 4.0), tile_grid_size=(8, 8))\n",
            "\n",
            "      Epoch    GPU_mem   box_loss   cls_loss   dfl_loss  Instances       Size\n"
          ]
        },
        {
          "output_type": "stream",
          "name": "stderr",
          "text": [
            "      41/50      2.04G      1.324      1.212      1.275         44        640: 100%|██████████| 1175/1175 [01:51<00:00, 10.54it/s]\n",
            "                 Class     Images  Instances      Box(P          R      mAP50  mAP50-95): 100%|██████████| 29/29 [00:03<00:00,  7.46it/s]\n"
          ]
        },
        {
          "output_type": "stream",
          "name": "stdout",
          "text": [
            "                   all        908       3020       0.79      0.686      0.743      0.497\n",
            "\n",
            "      Epoch    GPU_mem   box_loss   cls_loss   dfl_loss  Instances       Size\n"
          ]
        },
        {
          "output_type": "stream",
          "name": "stderr",
          "text": [
            "      42/50      1.96G      1.316      1.194      1.267         57        640: 100%|██████████| 1175/1175 [01:50<00:00, 10.63it/s]\n",
            "                 Class     Images  Instances      Box(P          R      mAP50  mAP50-95): 100%|██████████| 29/29 [00:03<00:00,  7.34it/s]"
          ]
        },
        {
          "output_type": "stream",
          "name": "stdout",
          "text": [
            "                   all        908       3020      0.797      0.678      0.738      0.498\n"
          ]
        },
        {
          "output_type": "stream",
          "name": "stderr",
          "text": [
            "\n"
          ]
        },
        {
          "output_type": "stream",
          "name": "stdout",
          "text": [
            "\n",
            "      Epoch    GPU_mem   box_loss   cls_loss   dfl_loss  Instances       Size\n"
          ]
        },
        {
          "output_type": "stream",
          "name": "stderr",
          "text": [
            "      43/50      1.99G      1.309      1.184      1.264         65        640: 100%|██████████| 1175/1175 [01:50<00:00, 10.66it/s]\n",
            "                 Class     Images  Instances      Box(P          R      mAP50  mAP50-95): 100%|██████████| 29/29 [00:03<00:00,  7.53it/s]"
          ]
        },
        {
          "output_type": "stream",
          "name": "stdout",
          "text": [
            "                   all        908       3020      0.782      0.688      0.744      0.503\n"
          ]
        },
        {
          "output_type": "stream",
          "name": "stderr",
          "text": [
            "\n"
          ]
        },
        {
          "output_type": "stream",
          "name": "stdout",
          "text": [
            "\n",
            "      Epoch    GPU_mem   box_loss   cls_loss   dfl_loss  Instances       Size\n"
          ]
        },
        {
          "output_type": "stream",
          "name": "stderr",
          "text": [
            "      44/50      2.02G      1.304      1.171      1.262         41        640: 100%|██████████| 1175/1175 [01:50<00:00, 10.65it/s]\n",
            "                 Class     Images  Instances      Box(P          R      mAP50  mAP50-95): 100%|██████████| 29/29 [00:03<00:00,  7.50it/s]"
          ]
        },
        {
          "output_type": "stream",
          "name": "stdout",
          "text": [
            "                   all        908       3020      0.794      0.678      0.744      0.503\n"
          ]
        },
        {
          "output_type": "stream",
          "name": "stderr",
          "text": [
            "\n"
          ]
        },
        {
          "output_type": "stream",
          "name": "stdout",
          "text": [
            "\n",
            "      Epoch    GPU_mem   box_loss   cls_loss   dfl_loss  Instances       Size\n"
          ]
        },
        {
          "output_type": "stream",
          "name": "stderr",
          "text": [
            "      45/50      2.04G      1.295      1.159      1.258         70        640: 100%|██████████| 1175/1175 [01:51<00:00, 10.54it/s]\n",
            "                 Class     Images  Instances      Box(P          R      mAP50  mAP50-95): 100%|██████████| 29/29 [00:03<00:00,  7.59it/s]\n"
          ]
        },
        {
          "output_type": "stream",
          "name": "stdout",
          "text": [
            "                   all        908       3020      0.793      0.683      0.745      0.503\n",
            "\n",
            "      Epoch    GPU_mem   box_loss   cls_loss   dfl_loss  Instances       Size\n"
          ]
        },
        {
          "output_type": "stream",
          "name": "stderr",
          "text": [
            "      46/50      2.07G      1.288      1.148      1.251         46        640: 100%|██████████| 1175/1175 [01:50<00:00, 10.67it/s]\n",
            "                 Class     Images  Instances      Box(P          R      mAP50  mAP50-95): 100%|██████████| 29/29 [00:03<00:00,  7.40it/s]\n"
          ]
        },
        {
          "output_type": "stream",
          "name": "stdout",
          "text": [
            "                   all        908       3020      0.793      0.685      0.745        0.5\n",
            "\n",
            "      Epoch    GPU_mem   box_loss   cls_loss   dfl_loss  Instances       Size\n"
          ]
        },
        {
          "output_type": "stream",
          "name": "stderr",
          "text": [
            "      47/50      2.03G      1.276      1.128      1.243         34        640: 100%|██████████| 1175/1175 [01:50<00:00, 10.68it/s]\n",
            "                 Class     Images  Instances      Box(P          R      mAP50  mAP50-95): 100%|██████████| 29/29 [00:03<00:00,  7.49it/s]\n"
          ]
        },
        {
          "output_type": "stream",
          "name": "stdout",
          "text": [
            "                   all        908       3020      0.808      0.678      0.745      0.503\n",
            "\n",
            "      Epoch    GPU_mem   box_loss   cls_loss   dfl_loss  Instances       Size\n"
          ]
        },
        {
          "output_type": "stream",
          "name": "stderr",
          "text": [
            "      48/50      2.08G      1.277      1.123      1.243         63        640: 100%|██████████| 1175/1175 [01:50<00:00, 10.67it/s]\n",
            "                 Class     Images  Instances      Box(P          R      mAP50  mAP50-95): 100%|██████████| 29/29 [00:03<00:00,  7.41it/s]"
          ]
        },
        {
          "output_type": "stream",
          "name": "stdout",
          "text": [
            "                   all        908       3020      0.804      0.674      0.746      0.504\n"
          ]
        },
        {
          "output_type": "stream",
          "name": "stderr",
          "text": [
            "\n"
          ]
        },
        {
          "output_type": "stream",
          "name": "stdout",
          "text": [
            "\n",
            "      Epoch    GPU_mem   box_loss   cls_loss   dfl_loss  Instances       Size\n"
          ]
        },
        {
          "output_type": "stream",
          "name": "stderr",
          "text": [
            "      49/50      2.05G      1.266      1.111      1.237         57        640: 100%|██████████| 1175/1175 [01:50<00:00, 10.65it/s]\n",
            "                 Class     Images  Instances      Box(P          R      mAP50  mAP50-95): 100%|██████████| 29/29 [00:03<00:00,  7.54it/s]"
          ]
        },
        {
          "output_type": "stream",
          "name": "stdout",
          "text": [
            "                   all        908       3020      0.779      0.694      0.748      0.503\n"
          ]
        },
        {
          "output_type": "stream",
          "name": "stderr",
          "text": [
            "\n"
          ]
        },
        {
          "output_type": "stream",
          "name": "stdout",
          "text": [
            "\n",
            "      Epoch    GPU_mem   box_loss   cls_loss   dfl_loss  Instances       Size\n"
          ]
        },
        {
          "output_type": "stream",
          "name": "stderr",
          "text": [
            "      50/50      2.05G      1.259      1.103       1.23         62        640: 100%|██████████| 1175/1175 [01:50<00:00, 10.63it/s]\n",
            "                 Class     Images  Instances      Box(P          R      mAP50  mAP50-95): 100%|██████████| 29/29 [00:03<00:00,  7.59it/s]\n"
          ]
        },
        {
          "output_type": "stream",
          "name": "stdout",
          "text": [
            "                   all        908       3020      0.784      0.691      0.747      0.502\n",
            "\n",
            "50 epochs completed in 1.643 hours.\n",
            "Optimizer stripped from runs/detect/train/weights/last.pt, 6.2MB\n",
            "Optimizer stripped from runs/detect/train/weights/best.pt, 6.2MB\n",
            "\n",
            "Validating runs/detect/train/weights/best.pt...\n",
            "Ultralytics 8.3.82 🚀 Python-3.11.11 torch-2.5.1+cu124 CUDA:0 (NVIDIA L4, 22693MiB)\n",
            "Model summary (fused): 72 layers, 3,006,818 parameters, 0 gradients, 8.1 GFLOPs\n"
          ]
        },
        {
          "output_type": "stream",
          "name": "stderr",
          "text": [
            "                 Class     Images  Instances      Box(P          R      mAP50  mAP50-95): 100%|██████████| 29/29 [00:07<00:00,  3.93it/s]\n"
          ]
        },
        {
          "output_type": "stream",
          "name": "stdout",
          "text": [
            "                   all        908       3020      0.802      0.663       0.74      0.496\n",
            "green pedestrian light         74         74      0.946      0.946      0.939       0.62\n",
            "  red pedestrian light         42         42      0.878      0.929      0.974      0.637\n",
            "               bicycle        149        316      0.691      0.382      0.477      0.276\n",
            "                   car        535       1932      0.735      0.504      0.606      0.391\n",
            "            motorcycle        159        371      0.792      0.542       0.68      0.438\n",
            "                   bus        189        285      0.771      0.674      0.763      0.612\n",
            "Speed: 0.1ms preprocess, 3.8ms inference, 0.0ms loss, 0.8ms postprocess per image\n",
            "Results saved to \u001b[1mruns/detect/train\u001b[0m\n",
            "YOLOv8 model training complete.\n"
          ]
        }
      ],
      "source": [
        "# 11. Train YOLOv8 model\n",
        "\n",
        "# Load YOLOv8 model (Choose model version: yolov8n, yolov8s, yolov8m, yolov8l, yolov8x)\n",
        "model = YOLO('yolov8n.pt')\n",
        "\n",
        "print(\"Starting YOLOv8 model training...\")\n",
        "model.train(\n",
        "    data=data_yaml_path,    # Path to the data.yaml file\n",
        "    epochs=50,              # Number of training epochs\n",
        "    batch=16,               # Batch size\n",
        "    imgsz=640,              # Input image size\n",
        "    augment=True,           # Enable default augmentation\n",
        "    degrees=10.0,           # Random rotation range\n",
        "    translate=0.2,          # Random translation fraction\n",
        "    scale=0.2,              # Random scale adjustment\n",
        "    shear=2.0,              # Random shear range\n",
        "    flipud=0.3,             # Upside-down flip probability\n",
        "    fliplr=0.3,              # Left-right flip probability\n",
        "    workers=8,\n",
        "    amp=True,\n",
        "    device=0\n",
        ")\n",
        "\n",
        "print(\"YOLOv8 model training complete.\")"
      ]
    }
  ],
  "metadata": {
    "accelerator": "GPU",
    "colab": {
      "gpuType": "L4",
      "provenance": []
    },
    "kernelspec": {
      "display_name": "Python 3",
      "name": "python3"
    },
    "language_info": {
      "name": "python"
    }
  },
  "nbformat": 4,
  "nbformat_minor": 0
}